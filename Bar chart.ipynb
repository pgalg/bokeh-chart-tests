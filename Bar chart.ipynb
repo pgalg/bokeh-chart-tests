{
 "cells": [
  {
   "cell_type": "code",
   "execution_count": null,
   "metadata": {
    "collapsed": false,
    "deletable": true,
    "editable": true
   },
   "outputs": [],
   "source": [
    "import pandas as pd\n",
    "\n",
    "from bokeh.io import show\n",
    "#from bokeh.layouts import widgetbox\n",
    "#from bokeh.models.widgets import CheckboxButtonGroup\n",
    "from bokeh.models import CustomJS, ColumnDataSource, \n",
    "#from bokeh.layouts import column, row\n",
    "from bokeh.plotting import figure, output_notebook\n"
   ]
  },
  {
   "cell_type": "code",
   "execution_count": 127,
   "metadata": {
    "collapsed": false,
    "deletable": true,
    "editable": true
   },
   "outputs": [
    {
     "data": {
      "text/html": [
       "<div>\n",
       "<table border=\"1\" class=\"dataframe\">\n",
       "  <thead>\n",
       "    <tr style=\"text-align: right;\">\n",
       "      <th></th>\n",
       "      <th>Scenario</th>\n",
       "      <th>Retail price</th>\n",
       "      <th>Social cost</th>\n",
       "      <th>Water cost</th>\n",
       "    </tr>\n",
       "  </thead>\n",
       "  <tbody>\n",
       "    <tr>\n",
       "      <th>0</th>\n",
       "      <td>Normal rose</td>\n",
       "      <td>10</td>\n",
       "      <td>3</td>\n",
       "      <td>5</td>\n",
       "    </tr>\n",
       "    <tr>\n",
       "      <th>1</th>\n",
       "      <td>Water saving\\nrose</td>\n",
       "      <td>9</td>\n",
       "      <td>3</td>\n",
       "      <td>2</td>\n",
       "    </tr>\n",
       "    <tr>\n",
       "      <th>2</th>\n",
       "      <td>Living wage rose</td>\n",
       "      <td>11</td>\n",
       "      <td>1</td>\n",
       "      <td>5</td>\n",
       "    </tr>\n",
       "    <tr>\n",
       "      <th>3</th>\n",
       "      <td>Water saving &amp;\\nliving wage rose</td>\n",
       "      <td>10</td>\n",
       "      <td>1</td>\n",
       "      <td>2</td>\n",
       "    </tr>\n",
       "  </tbody>\n",
       "</table>\n",
       "</div>"
      ],
      "text/plain": [
       "                           Scenario  Retail price  Social cost  Water cost\n",
       "0                       Normal rose            10            3           5\n",
       "1                Water saving\\nrose             9            3           2\n",
       "2                  Living wage rose            11            1           5\n",
       "3  Water saving &\\nliving wage rose            10            1           2"
      ]
     },
     "execution_count": 127,
     "metadata": {},
     "output_type": "execute_result"
    }
   ],
   "source": [
    "df = pd.read_excel('TPbars.xlsx')\n",
    "source = ColumnDataSource(df)\n",
    "df"
   ]
  },
  {
   "cell_type": "code",
   "execution_count": null,
   "metadata": {
    "collapsed": true
   },
   "outputs": [],
   "source": []
  },
  {
   "cell_type": "markdown",
   "metadata": {
    "deletable": true,
    "editable": true
   },
   "source": [
    "## Bar chart with plotting interface. Data source is results, bars positions are calculated in plot.vbar()"
   ]
  },
  {
   "cell_type": "code",
   "execution_count": 128,
   "metadata": {
    "collapsed": false,
    "deletable": true,
    "editable": true
   },
   "outputs": [
    {
     "name": "stdout",
     "output_type": "stream",
     "text": [
      "right away\n"
     ]
    }
   ],
   "source": [
    "print(\"right away\")"
   ]
  },
  {
   "cell_type": "code",
   "execution_count": 184,
   "metadata": {
    "collapsed": false,
    "deletable": true,
    "editable": true
   },
   "outputs": [
    {
     "data": {
      "text/html": [
       "<div style=\"display: table;\"><div style=\"display: table-row;\"><div style=\"display: table-cell;\"><b title=\"bokeh.models.renderers.GlyphRenderer\">GlyphRenderer</b>(</div><div style=\"display: table-cell;\">id&nbsp;=&nbsp;'14618f47-1450-4bb9-95b5-5a8104350112', <span id=\"80e7b7f0-403e-48d5-99ce-1743ad597125\" style=\"cursor: pointer;\">&hellip;)</span></div></div><div class=\"cad252e9-74b9-4deb-9764-2198b3b64a59\" style=\"display: none;\"><div style=\"display: table-cell;\"></div><div style=\"display: table-cell;\">data_source&nbsp;=&nbsp;ColumnDataSource(id='88836193-fcfb-4615-9930-d5dda3b7cf1a', ...),</div></div><div class=\"cad252e9-74b9-4deb-9764-2198b3b64a59\" style=\"display: none;\"><div style=\"display: table-cell;\"></div><div style=\"display: table-cell;\">glyph&nbsp;=&nbsp;VBar(id='d085417d-f7f4-4ebb-898d-69efa20a1be6', ...),</div></div><div class=\"cad252e9-74b9-4deb-9764-2198b3b64a59\" style=\"display: none;\"><div style=\"display: table-cell;\"></div><div style=\"display: table-cell;\">hover_glyph&nbsp;=&nbsp;None,</div></div><div class=\"cad252e9-74b9-4deb-9764-2198b3b64a59\" style=\"display: none;\"><div style=\"display: table-cell;\"></div><div style=\"display: table-cell;\">js_callbacks&nbsp;=&nbsp;{},</div></div><div class=\"cad252e9-74b9-4deb-9764-2198b3b64a59\" style=\"display: none;\"><div style=\"display: table-cell;\"></div><div style=\"display: table-cell;\">level&nbsp;=&nbsp;'glyph',</div></div><div class=\"cad252e9-74b9-4deb-9764-2198b3b64a59\" style=\"display: none;\"><div style=\"display: table-cell;\"></div><div style=\"display: table-cell;\">name&nbsp;=&nbsp;None,</div></div><div class=\"cad252e9-74b9-4deb-9764-2198b3b64a59\" style=\"display: none;\"><div style=\"display: table-cell;\"></div><div style=\"display: table-cell;\">nonselection_glyph&nbsp;=&nbsp;VBar(id='2211c05c-8697-4518-a050-a06fca815fc9', ...),</div></div><div class=\"cad252e9-74b9-4deb-9764-2198b3b64a59\" style=\"display: none;\"><div style=\"display: table-cell;\"></div><div style=\"display: table-cell;\">selection_glyph&nbsp;=&nbsp;None,</div></div><div class=\"cad252e9-74b9-4deb-9764-2198b3b64a59\" style=\"display: none;\"><div style=\"display: table-cell;\"></div><div style=\"display: table-cell;\">tags&nbsp;=&nbsp;[],</div></div><div class=\"cad252e9-74b9-4deb-9764-2198b3b64a59\" style=\"display: none;\"><div style=\"display: table-cell;\"></div><div style=\"display: table-cell;\">visible&nbsp;=&nbsp;True,</div></div><div class=\"cad252e9-74b9-4deb-9764-2198b3b64a59\" style=\"display: none;\"><div style=\"display: table-cell;\"></div><div style=\"display: table-cell;\">x_range_name&nbsp;=&nbsp;'default',</div></div><div class=\"cad252e9-74b9-4deb-9764-2198b3b64a59\" style=\"display: none;\"><div style=\"display: table-cell;\"></div><div style=\"display: table-cell;\">y_range_name&nbsp;=&nbsp;'default')</div></div></div>\n",
       "<script>\n",
       "(function() {\n",
       "  var expanded = false;\n",
       "  var ellipsis = document.getElementById(\"80e7b7f0-403e-48d5-99ce-1743ad597125\");\n",
       "  ellipsis.addEventListener(\"click\", function() {\n",
       "    var rows = document.getElementsByClassName(\"cad252e9-74b9-4deb-9764-2198b3b64a59\");\n",
       "    for (var i = 0; i < rows.length; i++) {\n",
       "      var el = rows[i];\n",
       "      el.style.display = expanded ? \"none\" : \"table-row\";\n",
       "    }\n",
       "    ellipsis.innerHTML = expanded ? \"&hellip;)\" : \"&lsaquo;&lsaquo;&lsaquo;\";\n",
       "    expanded = !expanded;\n",
       "  });\n",
       "})();\n",
       "</script>\n"
      ],
      "text/plain": [
       "GlyphRenderer(id='14618f47-1450-4bb9-95b5-5a8104350112', ...)"
      ]
     },
     "execution_count": 184,
     "metadata": {},
     "output_type": "execute_result"
    }
   ],
   "source": [
    "plot = figure(plot_width=600, plot_height=600, title=\"Reducing the True Price of a Kenyan rose\")\n",
    "plot.vbar(\n",
    "    x=[1,2,3,4], \n",
    "    width=0.5, \n",
    "    top=df[\"Retail price\"], \n",
    "    color=\"MidnightBlue\", \n",
    "    legend=\"Retail price\")\n",
    "plot.vbar(\n",
    "    x=[1,2,3,4], \n",
    "    width=0.5, \n",
    "    top=df[\"Retail price\"]+df[\"Social cost\"], \n",
    "    color = \"FireBrick\", \n",
    "    bottom = df[\"Retail price\"], \n",
    "    legend=\"Social cost\")\n",
    "plot.vbar(\n",
    "    x=[1,2,3,4], \n",
    "    width=0.5, \n",
    "    top=df[\"Retail price\"]+df[\"Social cost\"]+df[\"Water cost\"], \n",
    "    color = \"SeaGreen\", \n",
    "    bottom = df[\"Retail price\"]+df[\"Social cost\"], \n",
    "    legend=\"Water cost\")"
   ]
  },
  {
   "cell_type": "code",
   "execution_count": 185,
   "metadata": {
    "collapsed": false
   },
   "outputs": [],
   "source": [
    "labels=list(df[\"Scenario\"])"
   ]
  },
  {
   "cell_type": "code",
   "execution_count": null,
   "metadata": {
    "collapsed": false
   },
   "outputs": [],
   "source": []
  },
  {
   "cell_type": "code",
   "execution_count": 186,
   "metadata": {
    "collapsed": false
   },
   "outputs": [],
   "source": [
    "plot.legend.location=\"top_right\"\n",
    "plot.legend.label_text_font=\"Open Sans\"\n",
    "plot.title.align=\"center\"\n",
    "plot.title.text_font_size=\"14pt\"\n",
    "plot.title.text_font = \"Open Sans\""
   ]
  },
  {
   "cell_type": "markdown",
   "metadata": {
    "deletable": true,
    "editable": true
   },
   "source": [
    "## x axis labels"
   ]
  },
  {
   "cell_type": "code",
   "execution_count": 187,
   "metadata": {
    "collapsed": true
   },
   "outputs": [],
   "source": [
    "from bokeh.models import FuncTickFormatter, FixedTicker"
   ]
  },
  {
   "cell_type": "code",
   "execution_count": 188,
   "metadata": {
    "collapsed": false,
    "deletable": true,
    "editable": true
   },
   "outputs": [],
   "source": [
    "label_dict = {}\n",
    "for i, s in enumerate(labels):\n",
    "    label_dict[i+1] = s\n",
    "\n",
    "plot.xaxis.formatter = FuncTickFormatter(code=\"\"\"\n",
    "    var labels = %s;\n",
    "    return labels[tick];\n",
    "\"\"\" % label_dict)\n",
    "\n"
   ]
  },
  {
   "cell_type": "code",
   "execution_count": 195,
   "metadata": {
    "collapsed": false
   },
   "outputs": [],
   "source": [
    "plot.xaxis.minor_tick_line_color = None\n",
    "plot.xaxis.major_tick_line_color = None\n",
    "plot.xaxis.ticker=FixedTicker(ticks=[1,2,3,4])\n",
    "plot.xgrid.grid_line_color = None\n",
    "\n",
    "plot.axis.major_label_text_font = 'Open Sans'\n",
    "plot.xaxis.major_label_standoff = 15\n",
    "plot.xaxis.major_label_text_font_size = '10pt'\n",
    "plot.xaxis.major_label_orientation = 0.4\n",
    "\n",
    "# make y axis start from 0\n",
    "from bokeh.models import Range1d\n",
    "plot.y_range = Range1d(0, 20)\n",
    "plot.x_range = Range1d(0, 6)"
   ]
  },
  {
   "cell_type": "code",
   "execution_count": 199,
   "metadata": {
    "collapsed": false,
    "deletable": true,
    "editable": true,
    "scrolled": true
   },
   "outputs": [
    {
     "data": {
      "text/html": [
       "\n",
       "    <div class=\"bk-root\">\n",
       "        <a href=\"http://bokeh.pydata.org\" target=\"_blank\" class=\"bk-logo bk-logo-small bk-logo-notebook\"></a>\n",
       "        <span id=\"43b89a54-55ee-4f87-b71f-a1b12b9ff8a1\">Loading BokehJS ...</span>\n",
       "    </div>"
      ]
     },
     "metadata": {},
     "output_type": "display_data"
    },
    {
     "data": {
      "application/javascript": [
       "\n",
       "(function(global) {\n",
       "  function now() {\n",
       "    return new Date();\n",
       "  }\n",
       "\n",
       "  var force = true;\n",
       "\n",
       "  if (typeof (window._bokeh_onload_callbacks) === \"undefined\" || force === true) {\n",
       "    window._bokeh_onload_callbacks = [];\n",
       "    window._bokeh_is_loading = undefined;\n",
       "  }\n",
       "\n",
       "\n",
       "  \n",
       "  if (typeof (window._bokeh_timeout) === \"undefined\" || force === true) {\n",
       "    window._bokeh_timeout = Date.now() + 5000;\n",
       "    window._bokeh_failed_load = false;\n",
       "  }\n",
       "\n",
       "  var NB_LOAD_WARNING = {'data': {'text/html':\n",
       "     \"<div style='background-color: #fdd'>\\n\"+\n",
       "     \"<p>\\n\"+\n",
       "     \"BokehJS does not appear to have successfully loaded. If loading BokehJS from CDN, this \\n\"+\n",
       "     \"may be due to a slow or bad network connection. Possible fixes:\\n\"+\n",
       "     \"</p>\\n\"+\n",
       "     \"<ul>\\n\"+\n",
       "     \"<li>re-rerun `output_notebook()` to attempt to load from CDN again, or</li>\\n\"+\n",
       "     \"<li>use INLINE resources instead, as so:</li>\\n\"+\n",
       "     \"</ul>\\n\"+\n",
       "     \"<code>\\n\"+\n",
       "     \"from bokeh.resources import INLINE\\n\"+\n",
       "     \"output_notebook(resources=INLINE)\\n\"+\n",
       "     \"</code>\\n\"+\n",
       "     \"</div>\"}};\n",
       "\n",
       "  function display_loaded() {\n",
       "    if (window.Bokeh !== undefined) {\n",
       "      document.getElementById(\"43b89a54-55ee-4f87-b71f-a1b12b9ff8a1\").textContent = \"BokehJS successfully loaded.\";\n",
       "    } else if (Date.now() < window._bokeh_timeout) {\n",
       "      setTimeout(display_loaded, 100)\n",
       "    }\n",
       "  }\n",
       "\n",
       "  function run_callbacks() {\n",
       "    window._bokeh_onload_callbacks.forEach(function(callback) { callback() });\n",
       "    delete window._bokeh_onload_callbacks\n",
       "    console.info(\"Bokeh: all callbacks have finished\");\n",
       "  }\n",
       "\n",
       "  function load_libs(js_urls, callback) {\n",
       "    window._bokeh_onload_callbacks.push(callback);\n",
       "    if (window._bokeh_is_loading > 0) {\n",
       "      console.log(\"Bokeh: BokehJS is being loaded, scheduling callback at\", now());\n",
       "      return null;\n",
       "    }\n",
       "    if (js_urls == null || js_urls.length === 0) {\n",
       "      run_callbacks();\n",
       "      return null;\n",
       "    }\n",
       "    console.log(\"Bokeh: BokehJS not loaded, scheduling load and callback at\", now());\n",
       "    window._bokeh_is_loading = js_urls.length;\n",
       "    for (var i = 0; i < js_urls.length; i++) {\n",
       "      var url = js_urls[i];\n",
       "      var s = document.createElement('script');\n",
       "      s.src = url;\n",
       "      s.async = false;\n",
       "      s.onreadystatechange = s.onload = function() {\n",
       "        window._bokeh_is_loading--;\n",
       "        if (window._bokeh_is_loading === 0) {\n",
       "          console.log(\"Bokeh: all BokehJS libraries loaded\");\n",
       "          run_callbacks()\n",
       "        }\n",
       "      };\n",
       "      s.onerror = function() {\n",
       "        console.warn(\"failed to load library \" + url);\n",
       "      };\n",
       "      console.log(\"Bokeh: injecting script tag for BokehJS library: \", url);\n",
       "      document.getElementsByTagName(\"head\")[0].appendChild(s);\n",
       "    }\n",
       "  };var element = document.getElementById(\"43b89a54-55ee-4f87-b71f-a1b12b9ff8a1\");\n",
       "  if (element == null) {\n",
       "    console.log(\"Bokeh: ERROR: autoload.js configured with elementid '43b89a54-55ee-4f87-b71f-a1b12b9ff8a1' but no matching script tag was found. \")\n",
       "    return false;\n",
       "  }\n",
       "\n",
       "  var js_urls = [\"https://cdn.pydata.org/bokeh/release/bokeh-0.12.4.min.js\", \"https://cdn.pydata.org/bokeh/release/bokeh-widgets-0.12.4.min.js\"];\n",
       "\n",
       "  var inline_js = [\n",
       "    function(Bokeh) {\n",
       "      Bokeh.set_log_level(\"info\");\n",
       "    },\n",
       "    \n",
       "    function(Bokeh) {\n",
       "      \n",
       "      document.getElementById(\"43b89a54-55ee-4f87-b71f-a1b12b9ff8a1\").textContent = \"BokehJS is loading...\";\n",
       "    },\n",
       "    function(Bokeh) {\n",
       "      console.log(\"Bokeh: injecting CSS: https://cdn.pydata.org/bokeh/release/bokeh-0.12.4.min.css\");\n",
       "      Bokeh.embed.inject_css(\"https://cdn.pydata.org/bokeh/release/bokeh-0.12.4.min.css\");\n",
       "      console.log(\"Bokeh: injecting CSS: https://cdn.pydata.org/bokeh/release/bokeh-widgets-0.12.4.min.css\");\n",
       "      Bokeh.embed.inject_css(\"https://cdn.pydata.org/bokeh/release/bokeh-widgets-0.12.4.min.css\");\n",
       "    }\n",
       "  ];\n",
       "\n",
       "  function run_inline_js() {\n",
       "    \n",
       "    if ((window.Bokeh !== undefined) || (force === true)) {\n",
       "      for (var i = 0; i < inline_js.length; i++) {\n",
       "        inline_js[i](window.Bokeh);\n",
       "      }if (force === true) {\n",
       "        display_loaded();\n",
       "      }} else if (Date.now() < window._bokeh_timeout) {\n",
       "      setTimeout(run_inline_js, 100);\n",
       "    } else if (!window._bokeh_failed_load) {\n",
       "      console.log(\"Bokeh: BokehJS failed to load within specified timeout.\");\n",
       "      window._bokeh_failed_load = true;\n",
       "    } else if (force !== true) {\n",
       "      var cell = $(document.getElementById(\"43b89a54-55ee-4f87-b71f-a1b12b9ff8a1\")).parents('.cell').data().cell;\n",
       "      cell.output_area.append_execute_result(NB_LOAD_WARNING)\n",
       "    }\n",
       "\n",
       "  }\n",
       "\n",
       "  if (window._bokeh_is_loading === 0) {\n",
       "    console.log(\"Bokeh: BokehJS loaded, going straight to plotting\");\n",
       "    run_inline_js();\n",
       "  } else {\n",
       "    load_libs(js_urls, function() {\n",
       "      console.log(\"Bokeh: BokehJS plotting callback run at\", now());\n",
       "      run_inline_js();\n",
       "    });\n",
       "  }\n",
       "}(this));"
      ]
     },
     "metadata": {},
     "output_type": "display_data"
    },
    {
     "data": {
      "text/html": [
       "\n",
       "\n",
       "    <div class=\"bk-root\">\n",
       "        <div class=\"bk-plotdiv\" id=\"55bc1b0d-140b-4874-bc8a-6c2f2bc57e9b\"></div>\n",
       "    </div>\n",
       "<script type=\"text/javascript\">\n",
       "  \n",
       "  (function(global) {\n",
       "    function now() {\n",
       "      return new Date();\n",
       "    }\n",
       "  \n",
       "    var force = false;\n",
       "  \n",
       "    if (typeof (window._bokeh_onload_callbacks) === \"undefined\" || force === true) {\n",
       "      window._bokeh_onload_callbacks = [];\n",
       "      window._bokeh_is_loading = undefined;\n",
       "    }\n",
       "  \n",
       "  \n",
       "    \n",
       "    if (typeof (window._bokeh_timeout) === \"undefined\" || force === true) {\n",
       "      window._bokeh_timeout = Date.now() + 0;\n",
       "      window._bokeh_failed_load = false;\n",
       "    }\n",
       "  \n",
       "    var NB_LOAD_WARNING = {'data': {'text/html':\n",
       "       \"<div style='background-color: #fdd'>\\n\"+\n",
       "       \"<p>\\n\"+\n",
       "       \"BokehJS does not appear to have successfully loaded. If loading BokehJS from CDN, this \\n\"+\n",
       "       \"may be due to a slow or bad network connection. Possible fixes:\\n\"+\n",
       "       \"</p>\\n\"+\n",
       "       \"<ul>\\n\"+\n",
       "       \"<li>re-rerun `output_notebook()` to attempt to load from CDN again, or</li>\\n\"+\n",
       "       \"<li>use INLINE resources instead, as so:</li>\\n\"+\n",
       "       \"</ul>\\n\"+\n",
       "       \"<code>\\n\"+\n",
       "       \"from bokeh.resources import INLINE\\n\"+\n",
       "       \"output_notebook(resources=INLINE)\\n\"+\n",
       "       \"</code>\\n\"+\n",
       "       \"</div>\"}};\n",
       "  \n",
       "    function display_loaded() {\n",
       "      if (window.Bokeh !== undefined) {\n",
       "        document.getElementById(\"55bc1b0d-140b-4874-bc8a-6c2f2bc57e9b\").textContent = \"BokehJS successfully loaded.\";\n",
       "      } else if (Date.now() < window._bokeh_timeout) {\n",
       "        setTimeout(display_loaded, 100)\n",
       "      }\n",
       "    }\n",
       "  \n",
       "    function run_callbacks() {\n",
       "      window._bokeh_onload_callbacks.forEach(function(callback) { callback() });\n",
       "      delete window._bokeh_onload_callbacks\n",
       "      console.info(\"Bokeh: all callbacks have finished\");\n",
       "    }\n",
       "  \n",
       "    function load_libs(js_urls, callback) {\n",
       "      window._bokeh_onload_callbacks.push(callback);\n",
       "      if (window._bokeh_is_loading > 0) {\n",
       "        console.log(\"Bokeh: BokehJS is being loaded, scheduling callback at\", now());\n",
       "        return null;\n",
       "      }\n",
       "      if (js_urls == null || js_urls.length === 0) {\n",
       "        run_callbacks();\n",
       "        return null;\n",
       "      }\n",
       "      console.log(\"Bokeh: BokehJS not loaded, scheduling load and callback at\", now());\n",
       "      window._bokeh_is_loading = js_urls.length;\n",
       "      for (var i = 0; i < js_urls.length; i++) {\n",
       "        var url = js_urls[i];\n",
       "        var s = document.createElement('script');\n",
       "        s.src = url;\n",
       "        s.async = false;\n",
       "        s.onreadystatechange = s.onload = function() {\n",
       "          window._bokeh_is_loading--;\n",
       "          if (window._bokeh_is_loading === 0) {\n",
       "            console.log(\"Bokeh: all BokehJS libraries loaded\");\n",
       "            run_callbacks()\n",
       "          }\n",
       "        };\n",
       "        s.onerror = function() {\n",
       "          console.warn(\"failed to load library \" + url);\n",
       "        };\n",
       "        console.log(\"Bokeh: injecting script tag for BokehJS library: \", url);\n",
       "        document.getElementsByTagName(\"head\")[0].appendChild(s);\n",
       "      }\n",
       "    };var element = document.getElementById(\"55bc1b0d-140b-4874-bc8a-6c2f2bc57e9b\");\n",
       "    if (element == null) {\n",
       "      console.log(\"Bokeh: ERROR: autoload.js configured with elementid '55bc1b0d-140b-4874-bc8a-6c2f2bc57e9b' but no matching script tag was found. \")\n",
       "      return false;\n",
       "    }\n",
       "  \n",
       "    var js_urls = [];\n",
       "  \n",
       "    var inline_js = [\n",
       "      function(Bokeh) {\n",
       "        (function() {\n",
       "          var fn = function() {\n",
       "            var docs_json = {\"96744980-55d2-46d9-bae2-e72b9371bfe1\":{\"roots\":{\"references\":[{\"attributes\":{\"label\":{\"value\":\"Retail price\"},\"renderers\":[{\"id\":\"25c3e0e2-7569-492b-9d81-d0d63e19e9ac\",\"type\":\"GlyphRenderer\"}]},\"id\":\"06f264f1-daff-409d-baaa-c3376b28f751\",\"type\":\"LegendItem\"},{\"attributes\":{\"plot\":{\"id\":\"4f5a93f1-1eb6-436a-97f7-7806438383a4\",\"subtype\":\"Figure\",\"type\":\"Plot\"}},\"id\":\"5c03992c-99e7-4989-9c71-aebaca0876d7\",\"type\":\"WheelZoomTool\"},{\"attributes\":{\"bottom\":{\"field\":\"bottom\"},\"fill_alpha\":{\"value\":0.1},\"fill_color\":{\"value\":\"#1f77b4\"},\"line_alpha\":{\"value\":0.1},\"line_color\":{\"value\":\"#1f77b4\"},\"top\":{\"field\":\"top\"},\"width\":{\"value\":0.5},\"x\":{\"field\":\"x\"}},\"id\":\"2211c05c-8697-4518-a050-a06fca815fc9\",\"type\":\"VBar\"},{\"attributes\":{\"align\":\"center\",\"plot\":null,\"text\":\"Reducing the True Price of a Kenyan rose\",\"text_font\":\"Open Sans\",\"text_font_size\":{\"value\":\"14pt\"}},\"id\":\"738bea2c-9006-4dee-9f3f-f3a622f50881\",\"type\":\"Title\"},{\"attributes\":{\"ticks\":[1,2,3,4]},\"id\":\"f0420397-b8b1-44ee-8822-41df659e77ae\",\"type\":\"FixedTicker\"},{\"attributes\":{},\"id\":\"b1993261-da64-4747-bff7-10c4266107f3\",\"type\":\"BasicTicker\"},{\"attributes\":{\"bottom\":{\"field\":\"bottom\"},\"fill_alpha\":{\"value\":0.1},\"fill_color\":{\"value\":\"#1f77b4\"},\"line_alpha\":{\"value\":0.1},\"line_color\":{\"value\":\"#1f77b4\"},\"top\":{\"field\":\"top\"},\"width\":{\"value\":0.5},\"x\":{\"field\":\"x\"}},\"id\":\"9cb7ca7d-7ab1-4772-8942-c68dc1760900\",\"type\":\"VBar\"},{\"attributes\":{\"callback\":null,\"end\":20},\"id\":\"75eb48fd-e030-40b4-9b89-a1f3df23777d\",\"type\":\"Range1d\"},{\"attributes\":{\"below\":[{\"id\":\"643e0ec9-749d-40b1-a94b-7bd486a6bd69\",\"type\":\"LinearAxis\"}],\"left\":[{\"id\":\"140c96b0-814e-42ba-912d-a6bc629c987e\",\"type\":\"LinearAxis\"}],\"renderers\":[{\"id\":\"643e0ec9-749d-40b1-a94b-7bd486a6bd69\",\"type\":\"LinearAxis\"},{\"id\":\"c89a66de-02fe-4e5c-b960-f86834f9915d\",\"type\":\"Grid\"},{\"id\":\"140c96b0-814e-42ba-912d-a6bc629c987e\",\"type\":\"LinearAxis\"},{\"id\":\"848378cc-1ad1-4bc0-9c83-df52656cdb0c\",\"type\":\"Grid\"},{\"id\":\"05b485c8-0689-412b-b0d5-7d82d40ae162\",\"type\":\"BoxAnnotation\"},{\"id\":\"0c07c8ba-2b3c-4316-9087-4e192812aa3f\",\"type\":\"Legend\"},{\"id\":\"25c3e0e2-7569-492b-9d81-d0d63e19e9ac\",\"type\":\"GlyphRenderer\"},{\"id\":\"eec4d650-9761-443e-98aa-1fc44448cfe2\",\"type\":\"GlyphRenderer\"},{\"id\":\"14618f47-1450-4bb9-95b5-5a8104350112\",\"type\":\"GlyphRenderer\"}],\"title\":{\"id\":\"738bea2c-9006-4dee-9f3f-f3a622f50881\",\"type\":\"Title\"},\"tool_events\":{\"id\":\"3a6b0850-5aa4-44ea-ae28-edebb4f7190f\",\"type\":\"ToolEvents\"},\"toolbar\":{\"id\":\"d3f79708-a691-4cdf-a866-106d22282dd8\",\"type\":\"Toolbar\"},\"x_range\":{\"id\":\"ab04ff82-80f3-4689-9661-b4446d3fd4cb\",\"type\":\"Range1d\"},\"y_range\":{\"id\":\"75eb48fd-e030-40b4-9b89-a1f3df23777d\",\"type\":\"Range1d\"}},\"id\":\"4f5a93f1-1eb6-436a-97f7-7806438383a4\",\"subtype\":\"Figure\",\"type\":\"Plot\"},{\"attributes\":{\"formatter\":{\"id\":\"a9cff76b-58f7-415a-84a0-f522263f12a1\",\"type\":\"FuncTickFormatter\"},\"major_label_orientation\":0.4,\"major_label_standoff\":15,\"major_label_text_font\":\"Open Sans\",\"major_label_text_font_size\":{\"value\":\"10pt\"},\"major_tick_line_color\":{\"value\":null},\"minor_tick_line_color\":{\"value\":null},\"plot\":{\"id\":\"4f5a93f1-1eb6-436a-97f7-7806438383a4\",\"subtype\":\"Figure\",\"type\":\"Plot\"},\"ticker\":{\"id\":\"f0420397-b8b1-44ee-8822-41df659e77ae\",\"type\":\"FixedTicker\"}},\"id\":\"643e0ec9-749d-40b1-a94b-7bd486a6bd69\",\"type\":\"LinearAxis\"},{\"attributes\":{\"bottom\":{\"field\":\"bottom\"},\"fill_color\":{\"value\":\"FireBrick\"},\"line_color\":{\"value\":\"FireBrick\"},\"top\":{\"field\":\"top\"},\"width\":{\"value\":0.5},\"x\":{\"field\":\"x\"}},\"id\":\"6b235a76-9499-406e-818c-129d0fdf5108\",\"type\":\"VBar\"},{\"attributes\":{\"data_source\":{\"id\":\"a30d6f7d-0aed-4fe6-8142-a385216f05b6\",\"type\":\"ColumnDataSource\"},\"glyph\":{\"id\":\"715e1f4a-0136-42d2-bb94-a2b0b9cabe6c\",\"type\":\"VBar\"},\"hover_glyph\":null,\"nonselection_glyph\":{\"id\":\"b0c257fd-2698-4b6d-86e5-ffb29c933d49\",\"type\":\"VBar\"},\"selection_glyph\":null},\"id\":\"25c3e0e2-7569-492b-9d81-d0d63e19e9ac\",\"type\":\"GlyphRenderer\"},{\"attributes\":{\"plot\":{\"id\":\"4f5a93f1-1eb6-436a-97f7-7806438383a4\",\"subtype\":\"Figure\",\"type\":\"Plot\"}},\"id\":\"0d419a5e-ed4f-493c-9326-cf0111895f8c\",\"type\":\"PanTool\"},{\"attributes\":{\"plot\":{\"id\":\"4f5a93f1-1eb6-436a-97f7-7806438383a4\",\"subtype\":\"Figure\",\"type\":\"Plot\"}},\"id\":\"d1d46123-92ac-4578-aaa9-8fceb51d21b9\",\"type\":\"HelpTool\"},{\"attributes\":{\"code\":\"\\n    var labels = {1: 'Normal rose', 2: 'Water saving\\\\nrose', 3: 'Living wage rose', 4: 'Water saving &\\\\nliving wage rose'};\\n    return labels[tick];\\n\"},\"id\":\"a9cff76b-58f7-415a-84a0-f522263f12a1\",\"type\":\"FuncTickFormatter\"},{\"attributes\":{\"formatter\":{\"id\":\"c57a2e98-00f1-469c-8d42-6c227e2ab9ae\",\"type\":\"BasicTickFormatter\"},\"major_label_text_font\":\"Open Sans\",\"plot\":{\"id\":\"4f5a93f1-1eb6-436a-97f7-7806438383a4\",\"subtype\":\"Figure\",\"type\":\"Plot\"},\"ticker\":{\"id\":\"2de5fb00-9ee2-4235-bf8a-c4d90049e25d\",\"type\":\"BasicTicker\"}},\"id\":\"140c96b0-814e-42ba-912d-a6bc629c987e\",\"type\":\"LinearAxis\"},{\"attributes\":{\"bottom_units\":\"screen\",\"fill_alpha\":{\"value\":0.5},\"fill_color\":{\"value\":\"lightgrey\"},\"left_units\":\"screen\",\"level\":\"overlay\",\"line_alpha\":{\"value\":1.0},\"line_color\":{\"value\":\"black\"},\"line_dash\":[4,4],\"line_width\":{\"value\":2},\"plot\":null,\"render_mode\":\"css\",\"right_units\":\"screen\",\"top_units\":\"screen\"},\"id\":\"05b485c8-0689-412b-b0d5-7d82d40ae162\",\"type\":\"BoxAnnotation\"},{\"attributes\":{\"callback\":null,\"column_names\":[\"x\",\"bottom\",\"top\"],\"data\":{\"bottom\":[10,9,11,10],\"top\":[13,12,12,11],\"x\":[1,2,3,4]}},\"id\":\"ec5dfcda-0112-4c0c-8ec7-ed61084874a7\",\"type\":\"ColumnDataSource\"},{\"attributes\":{\"plot\":{\"id\":\"4f5a93f1-1eb6-436a-97f7-7806438383a4\",\"subtype\":\"Figure\",\"type\":\"Plot\"}},\"id\":\"d4add206-496b-4a2d-8091-d8dff08846ab\",\"type\":\"SaveTool\"},{\"attributes\":{\"callback\":null,\"column_names\":[\"x\",\"bottom\",\"top\"],\"data\":{\"bottom\":[13,12,12,11],\"top\":[18,14,17,13],\"x\":[1,2,3,4]}},\"id\":\"88836193-fcfb-4615-9930-d5dda3b7cf1a\",\"type\":\"ColumnDataSource\"},{\"attributes\":{\"data_source\":{\"id\":\"ec5dfcda-0112-4c0c-8ec7-ed61084874a7\",\"type\":\"ColumnDataSource\"},\"glyph\":{\"id\":\"6b235a76-9499-406e-818c-129d0fdf5108\",\"type\":\"VBar\"},\"hover_glyph\":null,\"nonselection_glyph\":{\"id\":\"9cb7ca7d-7ab1-4772-8942-c68dc1760900\",\"type\":\"VBar\"},\"selection_glyph\":null},\"id\":\"eec4d650-9761-443e-98aa-1fc44448cfe2\",\"type\":\"GlyphRenderer\"},{\"attributes\":{\"overlay\":{\"id\":\"05b485c8-0689-412b-b0d5-7d82d40ae162\",\"type\":\"BoxAnnotation\"},\"plot\":{\"id\":\"4f5a93f1-1eb6-436a-97f7-7806438383a4\",\"subtype\":\"Figure\",\"type\":\"Plot\"}},\"id\":\"fae36ee4-a6af-492b-84de-f67361645c1b\",\"type\":\"BoxZoomTool\"},{\"attributes\":{\"grid_line_color\":{\"value\":null},\"plot\":{\"id\":\"4f5a93f1-1eb6-436a-97f7-7806438383a4\",\"subtype\":\"Figure\",\"type\":\"Plot\"},\"ticker\":{\"id\":\"b1993261-da64-4747-bff7-10c4266107f3\",\"type\":\"BasicTicker\"}},\"id\":\"c89a66de-02fe-4e5c-b960-f86834f9915d\",\"type\":\"Grid\"},{\"attributes\":{},\"id\":\"2de5fb00-9ee2-4235-bf8a-c4d90049e25d\",\"type\":\"BasicTicker\"},{\"attributes\":{\"callback\":null,\"end\":6},\"id\":\"ab04ff82-80f3-4689-9661-b4446d3fd4cb\",\"type\":\"Range1d\"},{\"attributes\":{\"active_drag\":\"auto\",\"active_scroll\":\"auto\",\"active_tap\":\"auto\",\"tools\":[{\"id\":\"0d419a5e-ed4f-493c-9326-cf0111895f8c\",\"type\":\"PanTool\"},{\"id\":\"5c03992c-99e7-4989-9c71-aebaca0876d7\",\"type\":\"WheelZoomTool\"},{\"id\":\"fae36ee4-a6af-492b-84de-f67361645c1b\",\"type\":\"BoxZoomTool\"},{\"id\":\"d4add206-496b-4a2d-8091-d8dff08846ab\",\"type\":\"SaveTool\"},{\"id\":\"7439317b-1050-416c-ad87-ea5ebf05acf1\",\"type\":\"ResetTool\"},{\"id\":\"d1d46123-92ac-4578-aaa9-8fceb51d21b9\",\"type\":\"HelpTool\"}]},\"id\":\"d3f79708-a691-4cdf-a866-106d22282dd8\",\"type\":\"Toolbar\"},{\"attributes\":{\"fill_alpha\":{\"value\":0.1},\"fill_color\":{\"value\":\"#1f77b4\"},\"line_alpha\":{\"value\":0.1},\"line_color\":{\"value\":\"#1f77b4\"},\"top\":{\"field\":\"top\"},\"width\":{\"value\":0.5},\"x\":{\"field\":\"x\"}},\"id\":\"b0c257fd-2698-4b6d-86e5-ffb29c933d49\",\"type\":\"VBar\"},{\"attributes\":{\"plot\":{\"id\":\"4f5a93f1-1eb6-436a-97f7-7806438383a4\",\"subtype\":\"Figure\",\"type\":\"Plot\"}},\"id\":\"7439317b-1050-416c-ad87-ea5ebf05acf1\",\"type\":\"ResetTool\"},{\"attributes\":{},\"id\":\"3a6b0850-5aa4-44ea-ae28-edebb4f7190f\",\"type\":\"ToolEvents\"},{\"attributes\":{\"items\":[{\"id\":\"06f264f1-daff-409d-baaa-c3376b28f751\",\"type\":\"LegendItem\"},{\"id\":\"4b30caac-5c8a-42eb-93e7-4b461b4ab01d\",\"type\":\"LegendItem\"},{\"id\":\"cfde6e2b-2540-450f-87bc-5d2b810edd43\",\"type\":\"LegendItem\"}],\"label_text_font\":\"Open Sans\",\"plot\":{\"id\":\"4f5a93f1-1eb6-436a-97f7-7806438383a4\",\"subtype\":\"Figure\",\"type\":\"Plot\"}},\"id\":\"0c07c8ba-2b3c-4316-9087-4e192812aa3f\",\"type\":\"Legend\"},{\"attributes\":{\"fill_color\":{\"value\":\"MidnightBlue\"},\"line_color\":{\"value\":\"MidnightBlue\"},\"top\":{\"field\":\"top\"},\"width\":{\"value\":0.5},\"x\":{\"field\":\"x\"}},\"id\":\"715e1f4a-0136-42d2-bb94-a2b0b9cabe6c\",\"type\":\"VBar\"},{\"attributes\":{\"bottom\":{\"field\":\"bottom\"},\"fill_color\":{\"value\":\"SeaGreen\"},\"line_color\":{\"value\":\"SeaGreen\"},\"top\":{\"field\":\"top\"},\"width\":{\"value\":0.5},\"x\":{\"field\":\"x\"}},\"id\":\"d085417d-f7f4-4ebb-898d-69efa20a1be6\",\"type\":\"VBar\"},{\"attributes\":{\"label\":{\"value\":\"Social cost\"},\"renderers\":[{\"id\":\"eec4d650-9761-443e-98aa-1fc44448cfe2\",\"type\":\"GlyphRenderer\"}]},\"id\":\"4b30caac-5c8a-42eb-93e7-4b461b4ab01d\",\"type\":\"LegendItem\"},{\"attributes\":{\"label\":{\"value\":\"Water cost\"},\"renderers\":[{\"id\":\"14618f47-1450-4bb9-95b5-5a8104350112\",\"type\":\"GlyphRenderer\"}]},\"id\":\"cfde6e2b-2540-450f-87bc-5d2b810edd43\",\"type\":\"LegendItem\"},{\"attributes\":{},\"id\":\"c57a2e98-00f1-469c-8d42-6c227e2ab9ae\",\"type\":\"BasicTickFormatter\"},{\"attributes\":{\"callback\":null,\"column_names\":[\"x\",\"top\"],\"data\":{\"top\":[10,9,11,10],\"x\":[1,2,3,4]}},\"id\":\"a30d6f7d-0aed-4fe6-8142-a385216f05b6\",\"type\":\"ColumnDataSource\"},{\"attributes\":{\"dimension\":1,\"plot\":{\"id\":\"4f5a93f1-1eb6-436a-97f7-7806438383a4\",\"subtype\":\"Figure\",\"type\":\"Plot\"},\"ticker\":{\"id\":\"2de5fb00-9ee2-4235-bf8a-c4d90049e25d\",\"type\":\"BasicTicker\"}},\"id\":\"848378cc-1ad1-4bc0-9c83-df52656cdb0c\",\"type\":\"Grid\"},{\"attributes\":{\"data_source\":{\"id\":\"88836193-fcfb-4615-9930-d5dda3b7cf1a\",\"type\":\"ColumnDataSource\"},\"glyph\":{\"id\":\"d085417d-f7f4-4ebb-898d-69efa20a1be6\",\"type\":\"VBar\"},\"hover_glyph\":null,\"nonselection_glyph\":{\"id\":\"2211c05c-8697-4518-a050-a06fca815fc9\",\"type\":\"VBar\"},\"selection_glyph\":null},\"id\":\"14618f47-1450-4bb9-95b5-5a8104350112\",\"type\":\"GlyphRenderer\"}],\"root_ids\":[\"4f5a93f1-1eb6-436a-97f7-7806438383a4\"]},\"title\":\"Bokeh Application\",\"version\":\"0.12.4\"}};\n",
       "            var render_items = [{\"docid\":\"96744980-55d2-46d9-bae2-e72b9371bfe1\",\"elementid\":\"55bc1b0d-140b-4874-bc8a-6c2f2bc57e9b\",\"modelid\":\"4f5a93f1-1eb6-436a-97f7-7806438383a4\"}];\n",
       "            \n",
       "            Bokeh.embed.embed_items(docs_json, render_items);\n",
       "          };\n",
       "          if (document.readyState != \"loading\") fn();\n",
       "          else document.addEventListener(\"DOMContentLoaded\", fn);\n",
       "        })();\n",
       "      },\n",
       "      function(Bokeh) {\n",
       "      }\n",
       "    ];\n",
       "  \n",
       "    function run_inline_js() {\n",
       "      \n",
       "      if ((window.Bokeh !== undefined) || (force === true)) {\n",
       "        for (var i = 0; i < inline_js.length; i++) {\n",
       "          inline_js[i](window.Bokeh);\n",
       "        }if (force === true) {\n",
       "          display_loaded();\n",
       "        }} else if (Date.now() < window._bokeh_timeout) {\n",
       "        setTimeout(run_inline_js, 100);\n",
       "      } else if (!window._bokeh_failed_load) {\n",
       "        console.log(\"Bokeh: BokehJS failed to load within specified timeout.\");\n",
       "        window._bokeh_failed_load = true;\n",
       "      } else if (force !== true) {\n",
       "        var cell = $(document.getElementById(\"55bc1b0d-140b-4874-bc8a-6c2f2bc57e9b\")).parents('.cell').data().cell;\n",
       "        cell.output_area.append_execute_result(NB_LOAD_WARNING)\n",
       "      }\n",
       "  \n",
       "    }\n",
       "  \n",
       "    if (window._bokeh_is_loading === 0) {\n",
       "      console.log(\"Bokeh: BokehJS loaded, going straight to plotting\");\n",
       "      run_inline_js();\n",
       "    } else {\n",
       "      load_libs(js_urls, function() {\n",
       "        console.log(\"Bokeh: BokehJS plotting callback run at\", now());\n",
       "        run_inline_js();\n",
       "      });\n",
       "    }\n",
       "  }(this));\n",
       "</script>"
      ]
     },
     "metadata": {},
     "output_type": "display_data"
    }
   ],
   "source": [
    "output_notebook()\n",
    "show(plot)"
   ]
  },
  {
   "cell_type": "code",
   "execution_count": null,
   "metadata": {
    "collapsed": false
   },
   "outputs": [],
   "source": []
  },
  {
   "cell_type": "code",
   "execution_count": null,
   "metadata": {
    "collapsed": true
   },
   "outputs": [],
   "source": []
  }
 ],
 "metadata": {
  "kernelspec": {
   "display_name": "Python 3",
   "language": "python",
   "name": "python3"
  },
  "language_info": {
   "codemirror_mode": {
    "name": "ipython",
    "version": 3
   },
   "file_extension": ".py",
   "mimetype": "text/x-python",
   "name": "python",
   "nbconvert_exporter": "python",
   "pygments_lexer": "ipython3",
   "version": "3.5.2"
  }
 },
 "nbformat": 4,
 "nbformat_minor": 2
}
