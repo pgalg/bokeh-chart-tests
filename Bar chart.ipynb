{
 "cells": [
  {
   "cell_type": "code",
   "execution_count": 9,
   "metadata": {
    "collapsed": false,
    "deletable": true,
    "editable": true
   },
   "outputs": [],
   "source": [
    "import pandas as pd\n",
    "\n",
    "from bokeh.io import show\n",
    "#from bokeh.layouts import widgetbox\n",
    "#from bokeh.models.widgets import CheckboxButtonGroup\n",
    "from bokeh.models import CustomJS, ColumnDataSource \n",
    "#from bokeh.layouts import column, row\n",
    "from bokeh.plotting import figure, output_notebook"
   ]
  },
  {
   "cell_type": "code",
   "execution_count": 10,
   "metadata": {
    "collapsed": false,
    "deletable": true,
    "editable": true
   },
   "outputs": [
    {
     "data": {
      "text/html": [
       "<div>\n",
       "<table border=\"1\" class=\"dataframe\">\n",
       "  <thead>\n",
       "    <tr style=\"text-align: right;\">\n",
       "      <th></th>\n",
       "      <th>Scenario</th>\n",
       "      <th>Retail price</th>\n",
       "      <th>Social cost</th>\n",
       "      <th>Water cost</th>\n",
       "    </tr>\n",
       "  </thead>\n",
       "  <tbody>\n",
       "    <tr>\n",
       "      <th>0</th>\n",
       "      <td>Normal rose</td>\n",
       "      <td>10</td>\n",
       "      <td>3</td>\n",
       "      <td>5</td>\n",
       "    </tr>\n",
       "    <tr>\n",
       "      <th>1</th>\n",
       "      <td>Water saving rose</td>\n",
       "      <td>9</td>\n",
       "      <td>3</td>\n",
       "      <td>2</td>\n",
       "    </tr>\n",
       "    <tr>\n",
       "      <th>2</th>\n",
       "      <td>Living wage rose</td>\n",
       "      <td>11</td>\n",
       "      <td>1</td>\n",
       "      <td>5</td>\n",
       "    </tr>\n",
       "    <tr>\n",
       "      <th>3</th>\n",
       "      <td>Water saving &amp; living wage rose</td>\n",
       "      <td>10</td>\n",
       "      <td>1</td>\n",
       "      <td>2</td>\n",
       "    </tr>\n",
       "  </tbody>\n",
       "</table>\n",
       "</div>"
      ],
      "text/plain": [
       "<div>\n",
       "<table border=\"1\" class=\"dataframe\">\n",
       "  <thead>\n",
       "    <tr style=\"text-align: right;\">\n",
       "      <th></th>\n",
       "      <th>Scenario</th>\n",
       "      <th>Retail price</th>\n",
       "      <th>Social cost</th>\n",
       "      <th>Water cost</th>\n",
       "    </tr>\n",
       "  </thead>\n",
       "  <tbody>\n",
       "    <tr>\n",
       "      <th>0</th>\n",
       "      <td>Normal rose</td>\n",
       "      <td>10</td>\n",
       "      <td>3</td>\n",
       "      <td>5</td>\n",
       "    </tr>\n",
       "    <tr>\n",
       "      <th>1</th>\n",
       "      <td>Water saving rose</td>\n",
       "      <td>9</td>\n",
       "      <td>3</td>\n",
       "      <td>2</td>\n",
       "    </tr>\n",
       "    <tr>\n",
       "      <th>2</th>\n",
       "      <td>Living wage rose</td>\n",
       "      <td>11</td>\n",
       "      <td>1</td>\n",
       "      <td>5</td>\n",
       "    </tr>\n",
       "    <tr>\n",
       "      <th>3</th>\n",
       "      <td>Water saving &amp; living wage rose</td>\n",
       "      <td>10</td>\n",
       "      <td>1</td>\n",
       "      <td>2</td>\n",
       "    </tr>\n",
       "  </tbody>\n",
       "</table>\n",
       "</div>"
      ]
     },
     "execution_count": 10,
     "metadata": {},
     "output_type": "execute_result"
    }
   ],
   "source": [
    "df = pd.read_excel('TPbars.xlsx')\n",
    "source = ColumnDataSource(df)\n",
    "df"
   ]
  },
  {
   "cell_type": "code",
   "execution_count": 11,
   "metadata": {
    "collapsed": true
   },
   "outputs": [],
   "source": [
    ""
   ]
  },
  {
   "cell_type": "markdown",
   "metadata": {
    "deletable": true,
    "editable": true
   },
   "source": [
    "## Bar chart with plotting interface. Data source is results, bars positions are calculated in plot.vbar()"
   ]
  },
  {
   "cell_type": "code",
   "execution_count": 11,
   "metadata": {
    "collapsed": false,
    "deletable": true,
    "editable": true
   },
   "outputs": [
    {
     "name": "stdout",
     "output_type": "stream",
     "text": [
      "right away\n"
     ]
    }
   ],
   "source": [
    "print(\"right away\")"
   ]
  },
  {
   "cell_type": "code",
   "execution_count": 12,
   "metadata": {
    "collapsed": false,
    "deletable": true,
    "editable": true
   },
   "outputs": [
    {
     "data": {
      "text/html": [
       "<div style=\"display: table;\"><div style=\"display: table-row;\"><div style=\"display: table-cell;\"><b title=\"bokeh.models.renderers.GlyphRenderer\">GlyphRenderer</b>(</div><div style=\"display: table-cell;\">id&nbsp;=&nbsp;'1de2dda1-b24e-4819-8f0c-ae64c2c4ad93', <span id=\"594029cf-9d79-4803-9514-510fbb3169e1\" style=\"cursor: pointer;\">&hellip;)</span></div></div><div class=\"0481b210-8305-4dd6-a6d6-f7fb16d03242\" style=\"display: none;\"><div style=\"display: table-cell;\"></div><div style=\"display: table-cell;\">data_source&nbsp;=&nbsp;ColumnDataSource(id='5a2a8436-220e-493d-8a0b-2ff5318815e7', ...),</div></div><div class=\"0481b210-8305-4dd6-a6d6-f7fb16d03242\" style=\"display: none;\"><div style=\"display: table-cell;\"></div><div style=\"display: table-cell;\">glyph&nbsp;=&nbsp;VBar(id='e8499ff0-07a2-4634-b4b3-c4d94d7c377b', ...),</div></div><div class=\"0481b210-8305-4dd6-a6d6-f7fb16d03242\" style=\"display: none;\"><div style=\"display: table-cell;\"></div><div style=\"display: table-cell;\">hover_glyph&nbsp;=&nbsp;None,</div></div><div class=\"0481b210-8305-4dd6-a6d6-f7fb16d03242\" style=\"display: none;\"><div style=\"display: table-cell;\"></div><div style=\"display: table-cell;\">js_callbacks&nbsp;=&nbsp;{},</div></div><div class=\"0481b210-8305-4dd6-a6d6-f7fb16d03242\" style=\"display: none;\"><div style=\"display: table-cell;\"></div><div style=\"display: table-cell;\">level&nbsp;=&nbsp;'glyph',</div></div><div class=\"0481b210-8305-4dd6-a6d6-f7fb16d03242\" style=\"display: none;\"><div style=\"display: table-cell;\"></div><div style=\"display: table-cell;\">name&nbsp;=&nbsp;None,</div></div><div class=\"0481b210-8305-4dd6-a6d6-f7fb16d03242\" style=\"display: none;\"><div style=\"display: table-cell;\"></div><div style=\"display: table-cell;\">nonselection_glyph&nbsp;=&nbsp;VBar(id='2da94a1d-c040-4ae8-9117-73083d47ee22', ...),</div></div><div class=\"0481b210-8305-4dd6-a6d6-f7fb16d03242\" style=\"display: none;\"><div style=\"display: table-cell;\"></div><div style=\"display: table-cell;\">selection_glyph&nbsp;=&nbsp;None,</div></div><div class=\"0481b210-8305-4dd6-a6d6-f7fb16d03242\" style=\"display: none;\"><div style=\"display: table-cell;\"></div><div style=\"display: table-cell;\">tags&nbsp;=&nbsp;[],</div></div><div class=\"0481b210-8305-4dd6-a6d6-f7fb16d03242\" style=\"display: none;\"><div style=\"display: table-cell;\"></div><div style=\"display: table-cell;\">visible&nbsp;=&nbsp;True,</div></div><div class=\"0481b210-8305-4dd6-a6d6-f7fb16d03242\" style=\"display: none;\"><div style=\"display: table-cell;\"></div><div style=\"display: table-cell;\">x_range_name&nbsp;=&nbsp;'default',</div></div><div class=\"0481b210-8305-4dd6-a6d6-f7fb16d03242\" style=\"display: none;\"><div style=\"display: table-cell;\"></div><div style=\"display: table-cell;\">y_range_name&nbsp;=&nbsp;'default')</div></div></div>\n",
       "<script>\n",
       "(function() {\n",
       "  var expanded = false;\n",
       "  var ellipsis = document.getElementById(\"594029cf-9d79-4803-9514-510fbb3169e1\");\n",
       "  ellipsis.addEventListener(\"click\", function() {\n",
       "    var rows = document.getElementsByClassName(\"0481b210-8305-4dd6-a6d6-f7fb16d03242\");\n",
       "    for (var i = 0; i < rows.length; i++) {\n",
       "      var el = rows[i];\n",
       "      el.style.display = expanded ? \"none\" : \"table-row\";\n",
       "    }\n",
       "    ellipsis.innerHTML = expanded ? \"&hellip;)\" : \"&lsaquo;&lsaquo;&lsaquo;\";\n",
       "    expanded = !expanded;\n",
       "  });\n",
       "})();\n",
       "</script>\n"
      ],
      "text/plain": [
       "<div style=\"display: table;\"><div style=\"display: table-row;\"><div style=\"display: table-cell;\"><b title=\"bokeh.models.renderers.GlyphRenderer\">GlyphRenderer</b>(</div><div style=\"display: table-cell;\">id&nbsp;=&nbsp;'1de2dda1-b24e-4819-8f0c-ae64c2c4ad93', <span id=\"594029cf-9d79-4803-9514-510fbb3169e1\" style=\"cursor: pointer;\">&hellip;)</span></div></div><div class=\"0481b210-8305-4dd6-a6d6-f7fb16d03242\" style=\"display: none;\"><div style=\"display: table-cell;\"></div><div style=\"display: table-cell;\">data_source&nbsp;=&nbsp;ColumnDataSource(id='5a2a8436-220e-493d-8a0b-2ff5318815e7', ...),</div></div><div class=\"0481b210-8305-4dd6-a6d6-f7fb16d03242\" style=\"display: none;\"><div style=\"display: table-cell;\"></div><div style=\"display: table-cell;\">glyph&nbsp;=&nbsp;VBar(id='e8499ff0-07a2-4634-b4b3-c4d94d7c377b', ...),</div></div><div class=\"0481b210-8305-4dd6-a6d6-f7fb16d03242\" style=\"display: none;\"><div style=\"display: table-cell;\"></div><div style=\"display: table-cell;\">hover_glyph&nbsp;=&nbsp;None,</div></div><div class=\"0481b210-8305-4dd6-a6d6-f7fb16d03242\" style=\"display: none;\"><div style=\"display: table-cell;\"></div><div style=\"display: table-cell;\">js_callbacks&nbsp;=&nbsp;{},</div></div><div class=\"0481b210-8305-4dd6-a6d6-f7fb16d03242\" style=\"display: none;\"><div style=\"display: table-cell;\"></div><div style=\"display: table-cell;\">level&nbsp;=&nbsp;'glyph',</div></div><div class=\"0481b210-8305-4dd6-a6d6-f7fb16d03242\" style=\"display: none;\"><div style=\"display: table-cell;\"></div><div style=\"display: table-cell;\">name&nbsp;=&nbsp;None,</div></div><div class=\"0481b210-8305-4dd6-a6d6-f7fb16d03242\" style=\"display: none;\"><div style=\"display: table-cell;\"></div><div style=\"display: table-cell;\">nonselection_glyph&nbsp;=&nbsp;VBar(id='2da94a1d-c040-4ae8-9117-73083d47ee22', ...),</div></div><div class=\"0481b210-8305-4dd6-a6d6-f7fb16d03242\" style=\"display: none;\"><div style=\"display: table-cell;\"></div><div style=\"display: table-cell;\">selection_glyph&nbsp;=&nbsp;None,</div></div><div class=\"0481b210-8305-4dd6-a6d6-f7fb16d03242\" style=\"display: none;\"><div style=\"display: table-cell;\"></div><div style=\"display: table-cell;\">tags&nbsp;=&nbsp;[],</div></div><div class=\"0481b210-8305-4dd6-a6d6-f7fb16d03242\" style=\"display: none;\"><div style=\"display: table-cell;\"></div><div style=\"display: table-cell;\">visible&nbsp;=&nbsp;True,</div></div><div class=\"0481b210-8305-4dd6-a6d6-f7fb16d03242\" style=\"display: none;\"><div style=\"display: table-cell;\"></div><div style=\"display: table-cell;\">x_range_name&nbsp;=&nbsp;'default',</div></div><div class=\"0481b210-8305-4dd6-a6d6-f7fb16d03242\" style=\"display: none;\"><div style=\"display: table-cell;\"></div><div style=\"display: table-cell;\">y_range_name&nbsp;=&nbsp;'default')</div></div></div>\n",
       "<script>\n",
       "(function() {\n",
       "  var expanded = false;\n",
       "  var ellipsis = document.getElementById(\"594029cf-9d79-4803-9514-510fbb3169e1\");\n",
       "  ellipsis.addEventListener(\"click\", function() {\n",
       "    var rows = document.getElementsByClassName(\"0481b210-8305-4dd6-a6d6-f7fb16d03242\");\n",
       "    for (var i = 0; i < rows.length; i++) {\n",
       "      var el = rows[i];\n",
       "      el.style.display = expanded ? \"none\" : \"table-row\";\n",
       "    }\n",
       "    ellipsis.innerHTML = expanded ? \"&hellip;)\" : \"&lsaquo;&lsaquo;&lsaquo;\";\n",
       "    expanded = !expanded;\n",
       "  });\n",
       "})();\n",
       "</script>\n"
      ]
     },
     "execution_count": 12,
     "metadata": {},
     "output_type": "execute_result"
    }
   ],
   "source": [
    "plot = figure(plot_width=600, plot_height=600, title=\"Reducing the True Price of a Kenyan rose\")\n",
    "plot.vbar(\n",
    "    x=[1,2,3,4], \n",
    "    width=0.5, \n",
    "    top=df[\"Retail price\"], \n",
    "    color=\"MidnightBlue\", \n",
    "    legend=\"Retail price\")\n",
    "plot.vbar(\n",
    "    x=[1,2,3,4], \n",
    "    width=0.5, \n",
    "    top=df[\"Retail price\"]+df[\"Social cost\"], \n",
    "    color = \"FireBrick\", \n",
    "    bottom = df[\"Retail price\"], \n",
    "    legend=\"Social cost\")\n",
    "plot.vbar(\n",
    "    x=[1,2,3,4], \n",
    "    width=0.5, \n",
    "    top=df[\"Retail price\"]+df[\"Social cost\"]+df[\"Water cost\"], \n",
    "    color = \"SeaGreen\", \n",
    "    bottom = df[\"Retail price\"]+df[\"Social cost\"], \n",
    "    legend=\"Water cost\")"
   ]
  },
  {
   "cell_type": "code",
   "execution_count": 13,
   "metadata": {
    "collapsed": false
   },
   "outputs": [],
   "source": [
    "labels=list(df[\"Scenario\"])"
   ]
  },
  {
   "cell_type": "code",
   "execution_count": 14,
   "metadata": {
    "collapsed": false
   },
   "outputs": [],
   "source": [
    ""
   ]
  },
  {
   "cell_type": "code",
   "execution_count": 14,
   "metadata": {
    "collapsed": false
   },
   "outputs": [],
   "source": [
    "plot.legend.location=\"top_right\"\n",
    "plot.legend.label_text_font=\"Open Sans\"\n",
    "plot.title.align=\"center\"\n",
    "plot.title.text_font_size=\"14pt\"\n",
    "plot.title.text_font = \"Open Sans\""
   ]
  },
  {
   "cell_type": "markdown",
   "metadata": {
    "deletable": true,
    "editable": true
   },
   "source": [
    "## x axis labels"
   ]
  },
  {
   "cell_type": "code",
   "execution_count": 15,
   "metadata": {
    "collapsed": true
   },
   "outputs": [],
   "source": [
    "from bokeh.models import FuncTickFormatter, FixedTicker"
   ]
  },
  {
   "cell_type": "code",
   "execution_count": 16,
   "metadata": {
    "collapsed": false,
    "deletable": true,
    "editable": true
   },
   "outputs": [],
   "source": [
    "label_dict = {}\n",
    "for i, s in enumerate(labels):\n",
    "    label_dict[i+1] = s\n",
    "\n",
    "plot.xaxis.formatter = FuncTickFormatter(code=\"\"\"\n",
    "    var labels = %s;\n",
    "    return labels[tick];\n",
    "\"\"\" % label_dict)"
   ]
  },
  {
   "cell_type": "code",
   "execution_count": 17,
   "metadata": {
    "collapsed": false
   },
   "outputs": [],
   "source": [
    "plot.xaxis.minor_tick_line_color = None\n",
    "plot.xaxis.major_tick_line_color = None\n",
    "plot.xaxis.ticker=FixedTicker(ticks=[1,2,3,4])\n",
    "plot.xgrid.grid_line_color = None\n",
    "\n",
    "plot.axis.major_label_text_font = 'Open Sans'\n",
    "plot.xaxis.major_label_standoff = 15\n",
    "plot.xaxis.major_label_text_font_size = '10pt'\n",
    "plot.xaxis.major_label_orientation = 0.4\n",
    "\n",
    "# make y axis start from 0\n",
    "from bokeh.models import Range1d\n",
    "plot.y_range = Range1d(0, 20)\n",
    "plot.x_range = Range1d(0, 6)"
   ]
  },
  {
   "cell_type": "code",
   "execution_count": 18,
   "metadata": {
    "collapsed": false,
    "deletable": true,
    "editable": true,
    "scrolled": true
   },
   "outputs": [],
   "source": [
    "from bokeh.io import output_file\n",
    "output_file(\"bar.html\")\n",
    "show(plot)"
   ]
  },
  {
   "cell_type": "code",
   "execution_count": null,
   "metadata": {
    "collapsed": false
   },
   "outputs": [],
   "source": [
    ""
   ]
  },
  {
   "cell_type": "code",
   "execution_count": null,
   "metadata": {
    "collapsed": true
   },
   "outputs": [],
   "source": [
    ""
   ]
  }
 ],
 "metadata": {
  "kernelspec": {
   "display_name": "Python 3",
   "language": "python",
   "name": "python3"
  },
  "language_info": {
   "codemirror_mode": {
    "name": "ipython",
    "version": 3.0
   },
   "file_extension": ".py",
   "mimetype": "text/x-python",
   "name": "python",
   "nbconvert_exporter": "python",
   "pygments_lexer": "ipython3",
   "version": "3.5.2"
  }
 },
 "nbformat": 4,
 "nbformat_minor": 0
}