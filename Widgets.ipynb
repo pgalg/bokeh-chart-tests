{
 "cells": [
  {
   "cell_type": "code",
   "execution_count": 110,
   "metadata": {
    "collapsed": false,
    "deletable": true,
    "editable": true
   },
   "outputs": [],
   "source": [
    "import pandas as pd\n",
    "\n",
    "from bokeh.io import show, output_notebook\n",
    "from bokeh.layouts import widgetbox, row\n",
    "from bokeh.models.widgets import RadioGroup\n",
    "from bokeh.models import CustomJS ,ColumnDataSource\n",
    "from bokeh.plotting import figure\n"
   ]
  },
  {
   "cell_type": "code",
   "execution_count": 111,
   "metadata": {
    "collapsed": false,
    "deletable": true,
    "editable": true
   },
   "outputs": [
    {
     "data": {
      "text/html": [
       "<div>\n",
       "<table border=\"1\" class=\"dataframe\">\n",
       "  <thead>\n",
       "    <tr style=\"text-align: right;\">\n",
       "      <th></th>\n",
       "      <th>Scenario</th>\n",
       "      <th>Retail price</th>\n",
       "      <th>Social cost</th>\n",
       "      <th>Water cost</th>\n",
       "    </tr>\n",
       "  </thead>\n",
       "  <tbody>\n",
       "    <tr>\n",
       "      <th>0</th>\n",
       "      <td>Normal rose</td>\n",
       "      <td>10</td>\n",
       "      <td>3</td>\n",
       "      <td>5</td>\n",
       "    </tr>\n",
       "    <tr>\n",
       "      <th>1</th>\n",
       "      <td>Water saving rose</td>\n",
       "      <td>9</td>\n",
       "      <td>3</td>\n",
       "      <td>2</td>\n",
       "    </tr>\n",
       "    <tr>\n",
       "      <th>2</th>\n",
       "      <td>Living wage rose</td>\n",
       "      <td>11</td>\n",
       "      <td>1</td>\n",
       "      <td>5</td>\n",
       "    </tr>\n",
       "    <tr>\n",
       "      <th>3</th>\n",
       "      <td>Water saving &amp; living wage rose</td>\n",
       "      <td>10</td>\n",
       "      <td>1</td>\n",
       "      <td>2</td>\n",
       "    </tr>\n",
       "  </tbody>\n",
       "</table>\n",
       "</div>"
      ],
      "text/plain": [
       "                          Scenario  Retail price  Social cost  Water cost\n",
       "0                      Normal rose            10            3           5\n",
       "1                Water saving rose             9            3           2\n",
       "2                 Living wage rose            11            1           5\n",
       "3  Water saving & living wage rose            10            1           2"
      ]
     },
     "execution_count": 111,
     "metadata": {},
     "output_type": "execute_result"
    }
   ],
   "source": [
    "df = pd.read_excel('TPbars.xlsx')\n",
    "source = ColumnDataSource(df)\n",
    "df"
   ]
  },
  {
   "cell_type": "code",
   "execution_count": 112,
   "metadata": {
    "collapsed": false,
    "deletable": true,
    "editable": true
   },
   "outputs": [
    {
     "data": {
      "text/plain": [
       "['Normal rose',\n",
       " 'Water saving rose',\n",
       " 'Living wage rose',\n",
       " 'Water saving & living wage rose']"
      ]
     },
     "execution_count": 112,
     "metadata": {},
     "output_type": "execute_result"
    }
   ],
   "source": [
    "scenarios=list(df[\"Scenario\"])\n",
    "scenarios"
   ]
  },
  {
   "cell_type": "code",
   "execution_count": 113,
   "metadata": {
    "collapsed": false
   },
   "outputs": [
    {
     "data": {
      "text/plain": [
       "[10, 9, 11, 10]"
      ]
     },
     "execution_count": 113,
     "metadata": {},
     "output_type": "execute_result"
    }
   ],
   "source": [
    "retail=list(df[\"Retail price\"])\n",
    "retail\n"
   ]
  },
  {
   "cell_type": "code",
   "execution_count": 114,
   "metadata": {
    "collapsed": true
   },
   "outputs": [],
   "source": [
    "n = 0"
   ]
  },
  {
   "cell_type": "code",
   "execution_count": 115,
   "metadata": {
    "collapsed": false,
    "deletable": true,
    "editable": true
   },
   "outputs": [],
   "source": [
    "plot = figure(plot_width=600, plot_height=400, x_range=scenarios, title=\"Price of a Kenyan rose\", tools=\"\", logo=\"grey\")\n",
    "a= plot.vbar(\n",
    "    x=\"Scenario\", \n",
    "    width=0.5, \n",
    "    top=\"Retail price\", \n",
    "    color=\"MidnightBlue\", \n",
    "    legend=\"Market price\",\n",
    "    visible=True,\n",
    "    source=source\n",
    "    )\n"
   ]
  },
  {
   "cell_type": "code",
   "execution_count": 116,
   "metadata": {
    "collapsed": false,
    "deletable": true,
    "editable": true
   },
   "outputs": [],
   "source": [
    "widgets = RadioGroup(labels=[\"Scenario 1\", \"Scenario 2\",\"Scenario 3\",\"Scenario 4\"], active=0)\n"
   ]
  },
  {
   "cell_type": "code",
   "execution_count": 125,
   "metadata": {
    "collapsed": false,
    "deletable": true,
    "editable": true
   },
   "outputs": [],
   "source": [
    "def callback(attr, old, new):\n",
    "    a.visible=False\n",
    "\n",
    "\n",
    "widgets.on_change(\"active\", callback)"
   ]
  },
  {
   "cell_type": "code",
   "execution_count": 126,
   "metadata": {
    "collapsed": false,
    "deletable": true,
    "editable": true,
    "scrolled": true
   },
   "outputs": [
    {
     "data": {
      "text/html": [
       "\n",
       "    <div class=\"bk-root\">\n",
       "        <a href=\"http://bokeh.pydata.org\" target=\"_blank\" class=\"bk-logo bk-logo-small bk-logo-notebook\"></a>\n",
       "        <span id=\"07d324bb-c285-4b84-9b41-684557381df4\">Loading BokehJS ...</span>\n",
       "    </div>"
      ]
     },
     "metadata": {},
     "output_type": "display_data"
    },
    {
     "data": {
      "application/javascript": [
       "\n",
       "(function(global) {\n",
       "  function now() {\n",
       "    return new Date();\n",
       "  }\n",
       "\n",
       "  var force = true;\n",
       "\n",
       "  if (typeof (window._bokeh_onload_callbacks) === \"undefined\" || force === true) {\n",
       "    window._bokeh_onload_callbacks = [];\n",
       "    window._bokeh_is_loading = undefined;\n",
       "  }\n",
       "\n",
       "\n",
       "  \n",
       "  if (typeof (window._bokeh_timeout) === \"undefined\" || force === true) {\n",
       "    window._bokeh_timeout = Date.now() + 5000;\n",
       "    window._bokeh_failed_load = false;\n",
       "  }\n",
       "\n",
       "  var NB_LOAD_WARNING = {'data': {'text/html':\n",
       "     \"<div style='background-color: #fdd'>\\n\"+\n",
       "     \"<p>\\n\"+\n",
       "     \"BokehJS does not appear to have successfully loaded. If loading BokehJS from CDN, this \\n\"+\n",
       "     \"may be due to a slow or bad network connection. Possible fixes:\\n\"+\n",
       "     \"</p>\\n\"+\n",
       "     \"<ul>\\n\"+\n",
       "     \"<li>re-rerun `output_notebook()` to attempt to load from CDN again, or</li>\\n\"+\n",
       "     \"<li>use INLINE resources instead, as so:</li>\\n\"+\n",
       "     \"</ul>\\n\"+\n",
       "     \"<code>\\n\"+\n",
       "     \"from bokeh.resources import INLINE\\n\"+\n",
       "     \"output_notebook(resources=INLINE)\\n\"+\n",
       "     \"</code>\\n\"+\n",
       "     \"</div>\"}};\n",
       "\n",
       "  function display_loaded() {\n",
       "    if (window.Bokeh !== undefined) {\n",
       "      document.getElementById(\"07d324bb-c285-4b84-9b41-684557381df4\").textContent = \"BokehJS successfully loaded.\";\n",
       "    } else if (Date.now() < window._bokeh_timeout) {\n",
       "      setTimeout(display_loaded, 100)\n",
       "    }\n",
       "  }\n",
       "\n",
       "  function run_callbacks() {\n",
       "    window._bokeh_onload_callbacks.forEach(function(callback) { callback() });\n",
       "    delete window._bokeh_onload_callbacks\n",
       "    console.info(\"Bokeh: all callbacks have finished\");\n",
       "  }\n",
       "\n",
       "  function load_libs(js_urls, callback) {\n",
       "    window._bokeh_onload_callbacks.push(callback);\n",
       "    if (window._bokeh_is_loading > 0) {\n",
       "      console.log(\"Bokeh: BokehJS is being loaded, scheduling callback at\", now());\n",
       "      return null;\n",
       "    }\n",
       "    if (js_urls == null || js_urls.length === 0) {\n",
       "      run_callbacks();\n",
       "      return null;\n",
       "    }\n",
       "    console.log(\"Bokeh: BokehJS not loaded, scheduling load and callback at\", now());\n",
       "    window._bokeh_is_loading = js_urls.length;\n",
       "    for (var i = 0; i < js_urls.length; i++) {\n",
       "      var url = js_urls[i];\n",
       "      var s = document.createElement('script');\n",
       "      s.src = url;\n",
       "      s.async = false;\n",
       "      s.onreadystatechange = s.onload = function() {\n",
       "        window._bokeh_is_loading--;\n",
       "        if (window._bokeh_is_loading === 0) {\n",
       "          console.log(\"Bokeh: all BokehJS libraries loaded\");\n",
       "          run_callbacks()\n",
       "        }\n",
       "      };\n",
       "      s.onerror = function() {\n",
       "        console.warn(\"failed to load library \" + url);\n",
       "      };\n",
       "      console.log(\"Bokeh: injecting script tag for BokehJS library: \", url);\n",
       "      document.getElementsByTagName(\"head\")[0].appendChild(s);\n",
       "    }\n",
       "  };var element = document.getElementById(\"07d324bb-c285-4b84-9b41-684557381df4\");\n",
       "  if (element == null) {\n",
       "    console.log(\"Bokeh: ERROR: autoload.js configured with elementid '07d324bb-c285-4b84-9b41-684557381df4' but no matching script tag was found. \")\n",
       "    return false;\n",
       "  }\n",
       "\n",
       "  var js_urls = [\"https://cdn.pydata.org/bokeh/release/bokeh-0.12.4.min.js\", \"https://cdn.pydata.org/bokeh/release/bokeh-widgets-0.12.4.min.js\"];\n",
       "\n",
       "  var inline_js = [\n",
       "    function(Bokeh) {\n",
       "      Bokeh.set_log_level(\"info\");\n",
       "    },\n",
       "    \n",
       "    function(Bokeh) {\n",
       "      \n",
       "      document.getElementById(\"07d324bb-c285-4b84-9b41-684557381df4\").textContent = \"BokehJS is loading...\";\n",
       "    },\n",
       "    function(Bokeh) {\n",
       "      console.log(\"Bokeh: injecting CSS: https://cdn.pydata.org/bokeh/release/bokeh-0.12.4.min.css\");\n",
       "      Bokeh.embed.inject_css(\"https://cdn.pydata.org/bokeh/release/bokeh-0.12.4.min.css\");\n",
       "      console.log(\"Bokeh: injecting CSS: https://cdn.pydata.org/bokeh/release/bokeh-widgets-0.12.4.min.css\");\n",
       "      Bokeh.embed.inject_css(\"https://cdn.pydata.org/bokeh/release/bokeh-widgets-0.12.4.min.css\");\n",
       "    }\n",
       "  ];\n",
       "\n",
       "  function run_inline_js() {\n",
       "    \n",
       "    if ((window.Bokeh !== undefined) || (force === true)) {\n",
       "      for (var i = 0; i < inline_js.length; i++) {\n",
       "        inline_js[i](window.Bokeh);\n",
       "      }if (force === true) {\n",
       "        display_loaded();\n",
       "      }} else if (Date.now() < window._bokeh_timeout) {\n",
       "      setTimeout(run_inline_js, 100);\n",
       "    } else if (!window._bokeh_failed_load) {\n",
       "      console.log(\"Bokeh: BokehJS failed to load within specified timeout.\");\n",
       "      window._bokeh_failed_load = true;\n",
       "    } else if (force !== true) {\n",
       "      var cell = $(document.getElementById(\"07d324bb-c285-4b84-9b41-684557381df4\")).parents('.cell').data().cell;\n",
       "      cell.output_area.append_execute_result(NB_LOAD_WARNING)\n",
       "    }\n",
       "\n",
       "  }\n",
       "\n",
       "  if (window._bokeh_is_loading === 0) {\n",
       "    console.log(\"Bokeh: BokehJS loaded, going straight to plotting\");\n",
       "    run_inline_js();\n",
       "  } else {\n",
       "    load_libs(js_urls, function() {\n",
       "      console.log(\"Bokeh: BokehJS plotting callback run at\", now());\n",
       "      run_inline_js();\n",
       "    });\n",
       "  }\n",
       "}(this));"
      ]
     },
     "metadata": {},
     "output_type": "display_data"
    }
   ],
   "source": [
    "output_notebook()"
   ]
  },
  {
   "cell_type": "code",
   "execution_count": 127,
   "metadata": {
    "collapsed": false,
    "deletable": true,
    "editable": true
   },
   "outputs": [
    {
     "data": {
      "text/html": [
       "\n",
       "\n",
       "    <div class=\"bk-root\">\n",
       "        <div class=\"bk-plotdiv\" id=\"a27f7112-b653-4103-92c0-a994b4836481\"></div>\n",
       "    </div>\n",
       "<script type=\"text/javascript\">\n",
       "  \n",
       "  (function(global) {\n",
       "    function now() {\n",
       "      return new Date();\n",
       "    }\n",
       "  \n",
       "    var force = false;\n",
       "  \n",
       "    if (typeof (window._bokeh_onload_callbacks) === \"undefined\" || force === true) {\n",
       "      window._bokeh_onload_callbacks = [];\n",
       "      window._bokeh_is_loading = undefined;\n",
       "    }\n",
       "  \n",
       "  \n",
       "    \n",
       "    if (typeof (window._bokeh_timeout) === \"undefined\" || force === true) {\n",
       "      window._bokeh_timeout = Date.now() + 0;\n",
       "      window._bokeh_failed_load = false;\n",
       "    }\n",
       "  \n",
       "    var NB_LOAD_WARNING = {'data': {'text/html':\n",
       "       \"<div style='background-color: #fdd'>\\n\"+\n",
       "       \"<p>\\n\"+\n",
       "       \"BokehJS does not appear to have successfully loaded. If loading BokehJS from CDN, this \\n\"+\n",
       "       \"may be due to a slow or bad network connection. Possible fixes:\\n\"+\n",
       "       \"</p>\\n\"+\n",
       "       \"<ul>\\n\"+\n",
       "       \"<li>re-rerun `output_notebook()` to attempt to load from CDN again, or</li>\\n\"+\n",
       "       \"<li>use INLINE resources instead, as so:</li>\\n\"+\n",
       "       \"</ul>\\n\"+\n",
       "       \"<code>\\n\"+\n",
       "       \"from bokeh.resources import INLINE\\n\"+\n",
       "       \"output_notebook(resources=INLINE)\\n\"+\n",
       "       \"</code>\\n\"+\n",
       "       \"</div>\"}};\n",
       "  \n",
       "    function display_loaded() {\n",
       "      if (window.Bokeh !== undefined) {\n",
       "        document.getElementById(\"a27f7112-b653-4103-92c0-a994b4836481\").textContent = \"BokehJS successfully loaded.\";\n",
       "      } else if (Date.now() < window._bokeh_timeout) {\n",
       "        setTimeout(display_loaded, 100)\n",
       "      }\n",
       "    }\n",
       "  \n",
       "    function run_callbacks() {\n",
       "      window._bokeh_onload_callbacks.forEach(function(callback) { callback() });\n",
       "      delete window._bokeh_onload_callbacks\n",
       "      console.info(\"Bokeh: all callbacks have finished\");\n",
       "    }\n",
       "  \n",
       "    function load_libs(js_urls, callback) {\n",
       "      window._bokeh_onload_callbacks.push(callback);\n",
       "      if (window._bokeh_is_loading > 0) {\n",
       "        console.log(\"Bokeh: BokehJS is being loaded, scheduling callback at\", now());\n",
       "        return null;\n",
       "      }\n",
       "      if (js_urls == null || js_urls.length === 0) {\n",
       "        run_callbacks();\n",
       "        return null;\n",
       "      }\n",
       "      console.log(\"Bokeh: BokehJS not loaded, scheduling load and callback at\", now());\n",
       "      window._bokeh_is_loading = js_urls.length;\n",
       "      for (var i = 0; i < js_urls.length; i++) {\n",
       "        var url = js_urls[i];\n",
       "        var s = document.createElement('script');\n",
       "        s.src = url;\n",
       "        s.async = false;\n",
       "        s.onreadystatechange = s.onload = function() {\n",
       "          window._bokeh_is_loading--;\n",
       "          if (window._bokeh_is_loading === 0) {\n",
       "            console.log(\"Bokeh: all BokehJS libraries loaded\");\n",
       "            run_callbacks()\n",
       "          }\n",
       "        };\n",
       "        s.onerror = function() {\n",
       "          console.warn(\"failed to load library \" + url);\n",
       "        };\n",
       "        console.log(\"Bokeh: injecting script tag for BokehJS library: \", url);\n",
       "        document.getElementsByTagName(\"head\")[0].appendChild(s);\n",
       "      }\n",
       "    };var element = document.getElementById(\"a27f7112-b653-4103-92c0-a994b4836481\");\n",
       "    if (element == null) {\n",
       "      console.log(\"Bokeh: ERROR: autoload.js configured with elementid 'a27f7112-b653-4103-92c0-a994b4836481' but no matching script tag was found. \")\n",
       "      return false;\n",
       "    }\n",
       "  \n",
       "    var js_urls = [];\n",
       "  \n",
       "    var inline_js = [\n",
       "      function(Bokeh) {\n",
       "        (function() {\n",
       "          var fn = function() {\n",
       "            var docs_json = {\"d808ccae-6e4a-40ca-8171-0d066b57c76d\":{\"roots\":{\"references\":[{\"attributes\":{\"items\":[{\"id\":\"c92e9f8e-466b-4e3a-8ea7-99b88f0e34e3\",\"type\":\"LegendItem\"}],\"plot\":{\"id\":\"91956c7b-c808-42a9-964f-2f2b6b58726a\",\"subtype\":\"Figure\",\"type\":\"Plot\"}},\"id\":\"0a7e6346-078d-425d-912f-eb8b167932bc\",\"type\":\"Legend\"},{\"attributes\":{\"below\":[{\"id\":\"e60de52b-0145-488d-a3cd-03352b43f47d\",\"type\":\"CategoricalAxis\"}],\"left\":[{\"id\":\"87c43499-25ed-47a6-8a34-890a5ea4921c\",\"type\":\"LinearAxis\"}],\"plot_height\":400,\"renderers\":[{\"id\":\"e60de52b-0145-488d-a3cd-03352b43f47d\",\"type\":\"CategoricalAxis\"},{\"id\":\"c88c3140-b96a-4723-9568-280314624a87\",\"type\":\"Grid\"},{\"id\":\"87c43499-25ed-47a6-8a34-890a5ea4921c\",\"type\":\"LinearAxis\"},{\"id\":\"0be7d753-83a3-45ed-a323-56ff0ad24899\",\"type\":\"Grid\"},{\"id\":\"0a7e6346-078d-425d-912f-eb8b167932bc\",\"type\":\"Legend\"},{\"id\":\"7c76ccec-0ee5-49f0-a814-b0e5b62e500d\",\"type\":\"GlyphRenderer\"}],\"title\":{\"id\":\"8c268c4a-1158-4b59-8e76-d87a10fd1d90\",\"type\":\"Title\"},\"tool_events\":{\"id\":\"b0d57196-f658-4d5b-a4ca-66512e9f8fb9\",\"type\":\"ToolEvents\"},\"toolbar\":{\"id\":\"69daa554-4bb1-458c-be44-ea816ee745dc\",\"type\":\"Toolbar\"},\"x_range\":{\"id\":\"db008e49-7a34-47a5-874a-d4d066a13174\",\"type\":\"FactorRange\"},\"y_range\":{\"id\":\"d6729960-2cbd-4e22-b44c-0e0dfad20956\",\"type\":\"DataRange1d\"}},\"id\":\"91956c7b-c808-42a9-964f-2f2b6b58726a\",\"subtype\":\"Figure\",\"type\":\"Plot\"},{\"attributes\":{\"label\":{\"value\":\"Market price\"},\"renderers\":[{\"id\":\"7c76ccec-0ee5-49f0-a814-b0e5b62e500d\",\"type\":\"GlyphRenderer\"}]},\"id\":\"c92e9f8e-466b-4e3a-8ea7-99b88f0e34e3\",\"type\":\"LegendItem\"},{\"attributes\":{},\"id\":\"acc53f48-5183-476a-8de0-e7a1add807c0\",\"type\":\"BasicTicker\"},{\"attributes\":{\"fill_alpha\":{\"value\":0.1},\"fill_color\":{\"value\":\"#1f77b4\"},\"line_alpha\":{\"value\":0.1},\"line_color\":{\"value\":\"#1f77b4\"},\"top\":{\"field\":\"Retail price\"},\"width\":{\"value\":0.5},\"x\":{\"field\":\"Scenario\"}},\"id\":\"2e3b300b-9a0e-4c8b-a02a-601ebdd4886b\",\"type\":\"VBar\"},{\"attributes\":{\"args\":{\"a\":{\"id\":\"7c76ccec-0ee5-49f0-a814-b0e5b62e500d\",\"type\":\"GlyphRenderer\"},\"s\":{\"id\":\"1518fbb6-badb-4ffc-b8d4-9f952b03fcc3\",\"type\":\"ColumnDataSource\"}},\"code\":\"   \\n        var visibile = a.visible;\\n        visibile = False;\\n        }\\n\"},\"id\":\"76aee084-6cce-4be0-8644-961da80febfc\",\"type\":\"CustomJS\"},{\"attributes\":{\"children\":[{\"id\":\"079fd7b0-0c41-48f8-a902-a3ee361413a0\",\"type\":\"WidgetBox\"},{\"id\":\"91956c7b-c808-42a9-964f-2f2b6b58726a\",\"subtype\":\"Figure\",\"type\":\"Plot\"}]},\"id\":\"6914f3d8-d4c2-49e4-b288-008f15620bf0\",\"type\":\"Row\"},{\"attributes\":{},\"id\":\"c7a82b38-f24c-4893-9a26-71e22cc87088\",\"type\":\"CategoricalTicker\"},{\"attributes\":{\"formatter\":{\"id\":\"aeb6e83e-1895-4762-afb5-a0a380d38891\",\"type\":\"CategoricalTickFormatter\"},\"plot\":{\"id\":\"91956c7b-c808-42a9-964f-2f2b6b58726a\",\"subtype\":\"Figure\",\"type\":\"Plot\"},\"ticker\":{\"id\":\"c7a82b38-f24c-4893-9a26-71e22cc87088\",\"type\":\"CategoricalTicker\"}},\"id\":\"e60de52b-0145-488d-a3cd-03352b43f47d\",\"type\":\"CategoricalAxis\"},{\"attributes\":{\"fill_color\":{\"value\":\"MidnightBlue\"},\"line_color\":{\"value\":\"MidnightBlue\"},\"top\":{\"field\":\"Retail price\"},\"width\":{\"value\":0.5},\"x\":{\"field\":\"Scenario\"}},\"id\":\"8ce30c15-801d-478c-ba73-ebc203823c53\",\"type\":\"VBar\"},{\"attributes\":{\"dimension\":1,\"plot\":{\"id\":\"91956c7b-c808-42a9-964f-2f2b6b58726a\",\"subtype\":\"Figure\",\"type\":\"Plot\"},\"ticker\":{\"id\":\"acc53f48-5183-476a-8de0-e7a1add807c0\",\"type\":\"BasicTicker\"}},\"id\":\"0be7d753-83a3-45ed-a323-56ff0ad24899\",\"type\":\"Grid\"},{\"attributes\":{\"active_drag\":\"auto\",\"active_scroll\":\"auto\",\"active_tap\":\"auto\",\"logo\":\"grey\"},\"id\":\"69daa554-4bb1-458c-be44-ea816ee745dc\",\"type\":\"Toolbar\"},{\"attributes\":{\"callback\":null,\"factors\":[\"Normal rose\",\"Water saving rose\",\"Living wage rose\",\"Water saving & living wage rose\"]},\"id\":\"db008e49-7a34-47a5-874a-d4d066a13174\",\"type\":\"FactorRange\"},{\"attributes\":{\"data_source\":{\"id\":\"1518fbb6-badb-4ffc-b8d4-9f952b03fcc3\",\"type\":\"ColumnDataSource\"},\"glyph\":{\"id\":\"8ce30c15-801d-478c-ba73-ebc203823c53\",\"type\":\"VBar\"},\"hover_glyph\":null,\"nonselection_glyph\":{\"id\":\"2e3b300b-9a0e-4c8b-a02a-601ebdd4886b\",\"type\":\"VBar\"},\"selection_glyph\":null},\"id\":\"7c76ccec-0ee5-49f0-a814-b0e5b62e500d\",\"type\":\"GlyphRenderer\"},{\"attributes\":{\"children\":[{\"id\":\"d7b26c3e-015a-467f-84ba-3817126b6bb5\",\"type\":\"RadioGroup\"}]},\"id\":\"079fd7b0-0c41-48f8-a902-a3ee361413a0\",\"type\":\"WidgetBox\"},{\"attributes\":{},\"id\":\"aeb6e83e-1895-4762-afb5-a0a380d38891\",\"type\":\"CategoricalTickFormatter\"},{\"attributes\":{\"active\":0,\"callback\":{\"id\":\"76aee084-6cce-4be0-8644-961da80febfc\",\"type\":\"CustomJS\"},\"labels\":[\"Scenario 1\",\"Scenario 2\",\"Scenario 3\",\"Scenario 4\"]},\"id\":\"d7b26c3e-015a-467f-84ba-3817126b6bb5\",\"type\":\"RadioGroup\"},{\"attributes\":{\"formatter\":{\"id\":\"76167c14-401b-4146-b42e-4549ee331e60\",\"type\":\"BasicTickFormatter\"},\"plot\":{\"id\":\"91956c7b-c808-42a9-964f-2f2b6b58726a\",\"subtype\":\"Figure\",\"type\":\"Plot\"},\"ticker\":{\"id\":\"acc53f48-5183-476a-8de0-e7a1add807c0\",\"type\":\"BasicTicker\"}},\"id\":\"87c43499-25ed-47a6-8a34-890a5ea4921c\",\"type\":\"LinearAxis\"},{\"attributes\":{},\"id\":\"76167c14-401b-4146-b42e-4549ee331e60\",\"type\":\"BasicTickFormatter\"},{\"attributes\":{\"plot\":{\"id\":\"91956c7b-c808-42a9-964f-2f2b6b58726a\",\"subtype\":\"Figure\",\"type\":\"Plot\"},\"ticker\":{\"id\":\"c7a82b38-f24c-4893-9a26-71e22cc87088\",\"type\":\"CategoricalTicker\"}},\"id\":\"c88c3140-b96a-4723-9568-280314624a87\",\"type\":\"Grid\"},{\"attributes\":{\"callback\":null},\"id\":\"d6729960-2cbd-4e22-b44c-0e0dfad20956\",\"type\":\"DataRange1d\"},{\"attributes\":{\"callback\":null,\"column_names\":[\"Water cost\",\"index\",\"Retail price\",\"Scenario\",\"Social cost\"],\"data\":{\"Retail price\":[10,9,11,10],\"Scenario\":[\"Normal rose\",\"Water saving rose\",\"Living wage rose\",\"Water saving & living wage rose\"],\"Social cost\":[3,3,1,1],\"Water cost\":[5,2,5,2],\"index\":[0,1,2,3]}},\"id\":\"1518fbb6-badb-4ffc-b8d4-9f952b03fcc3\",\"type\":\"ColumnDataSource\"},{\"attributes\":{\"plot\":null,\"text\":\"Price of a Kenyan rose\"},\"id\":\"8c268c4a-1158-4b59-8e76-d87a10fd1d90\",\"type\":\"Title\"},{\"attributes\":{},\"id\":\"b0d57196-f658-4d5b-a4ca-66512e9f8fb9\",\"type\":\"ToolEvents\"}],\"root_ids\":[\"6914f3d8-d4c2-49e4-b288-008f15620bf0\"]},\"title\":\"Bokeh Application\",\"version\":\"0.12.4\"}};\n",
       "            var render_items = [{\"docid\":\"d808ccae-6e4a-40ca-8171-0d066b57c76d\",\"elementid\":\"a27f7112-b653-4103-92c0-a994b4836481\",\"modelid\":\"6914f3d8-d4c2-49e4-b288-008f15620bf0\"}];\n",
       "            \n",
       "            Bokeh.embed.embed_items(docs_json, render_items);\n",
       "          };\n",
       "          if (document.readyState != \"loading\") fn();\n",
       "          else document.addEventListener(\"DOMContentLoaded\", fn);\n",
       "        })();\n",
       "      },\n",
       "      function(Bokeh) {\n",
       "      }\n",
       "    ];\n",
       "  \n",
       "    function run_inline_js() {\n",
       "      \n",
       "      if ((window.Bokeh !== undefined) || (force === true)) {\n",
       "        for (var i = 0; i < inline_js.length; i++) {\n",
       "          inline_js[i](window.Bokeh);\n",
       "        }if (force === true) {\n",
       "          display_loaded();\n",
       "        }} else if (Date.now() < window._bokeh_timeout) {\n",
       "        setTimeout(run_inline_js, 100);\n",
       "      } else if (!window._bokeh_failed_load) {\n",
       "        console.log(\"Bokeh: BokehJS failed to load within specified timeout.\");\n",
       "        window._bokeh_failed_load = true;\n",
       "      } else if (force !== true) {\n",
       "        var cell = $(document.getElementById(\"a27f7112-b653-4103-92c0-a994b4836481\")).parents('.cell').data().cell;\n",
       "        cell.output_area.append_execute_result(NB_LOAD_WARNING)\n",
       "      }\n",
       "  \n",
       "    }\n",
       "  \n",
       "    if (window._bokeh_is_loading === 0) {\n",
       "      console.log(\"Bokeh: BokehJS loaded, going straight to plotting\");\n",
       "      run_inline_js();\n",
       "    } else {\n",
       "      load_libs(js_urls, function() {\n",
       "        console.log(\"Bokeh: BokehJS plotting callback run at\", now());\n",
       "        run_inline_js();\n",
       "      });\n",
       "    }\n",
       "  }(this));\n",
       "</script>"
      ]
     },
     "metadata": {},
     "output_type": "display_data"
    }
   ],
   "source": [
    "layout=(row(widgetbox(widgets),plot))\n",
    "show(layout)"
   ]
  },
  {
   "cell_type": "code",
   "execution_count": null,
   "metadata": {
    "collapsed": true
   },
   "outputs": [],
   "source": []
  },
  {
   "cell_type": "code",
   "execution_count": null,
   "metadata": {
    "collapsed": false
   },
   "outputs": [],
   "source": [
    "'''\n",
    "plot.vbar(\n",
    "    x=[scenarios], \n",
    "    width=0.5, \n",
    "    top=df[\"Retail price\"]+df[\"Social cost\"], \n",
    "    color = \"FireBrick\", \n",
    "    bottom = df[\"Retail price\"], \n",
    "    legend=\"Social cost\")\n",
    "plot.vbar(\n",
    "    x=[scenarios], \n",
    "    width=0.5, \n",
    "    top=df[\"Retail price\"]+df[\"Social cost\"]+df[\"Water cost\"], \n",
    "    color = \"SeaGreen\", \n",
    "    bottom = df[\"Retail price\"]+df[\"Social cost\"], \n",
    "    legend=\"Water cost\"\n",
    "    '''\n",
    "    "
   ]
  }
 ],
 "metadata": {
  "kernelspec": {
   "display_name": "Python 3",
   "language": "python",
   "name": "python3"
  },
  "language_info": {
   "codemirror_mode": {
    "name": "ipython",
    "version": 3
   },
   "file_extension": ".py",
   "mimetype": "text/x-python",
   "name": "python",
   "nbconvert_exporter": "python",
   "pygments_lexer": "ipython3",
   "version": "3.5.2"
  }
 },
 "nbformat": 4,
 "nbformat_minor": 2
}
