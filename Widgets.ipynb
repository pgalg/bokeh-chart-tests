{
 "cells": [
  {
   "cell_type": "code",
   "execution_count": 19,
   "metadata": {
    "collapsed": true,
    "deletable": true,
    "editable": true
   },
   "outputs": [],
   "source": [
    "import pandas as pd\n",
    "\n",
    "from bokeh.io import show, output_notebook\n",
    "from bokeh.layouts import widgetbox, row\n",
    "from bokeh.models.widgets import RadioGroup\n",
    "from bokeh.models import CustomJS ,ColumnDataSource\n",
    "from bokeh.plotting import figure, output_file"
   ]
  },
  {
   "cell_type": "code",
   "execution_count": 20,
   "metadata": {
    "collapsed": false,
    "deletable": true,
    "editable": true
   },
   "outputs": [
    {
     "data": {
      "text/html": [
       "<div>\n",
       "<table border=\"1\" class=\"dataframe\">\n",
       "  <thead>\n",
       "    <tr style=\"text-align: right;\">\n",
       "      <th></th>\n",
       "      <th>Scenario</th>\n",
       "      <th>Retail price</th>\n",
       "      <th>Social cost</th>\n",
       "      <th>Water cost</th>\n",
       "    </tr>\n",
       "  </thead>\n",
       "  <tbody>\n",
       "    <tr>\n",
       "      <th>0</th>\n",
       "      <td>Normal rose</td>\n",
       "      <td>10</td>\n",
       "      <td>3</td>\n",
       "      <td>5</td>\n",
       "    </tr>\n",
       "    <tr>\n",
       "      <th>1</th>\n",
       "      <td>Water saving rose</td>\n",
       "      <td>9</td>\n",
       "      <td>3</td>\n",
       "      <td>2</td>\n",
       "    </tr>\n",
       "    <tr>\n",
       "      <th>2</th>\n",
       "      <td>Living wage rose</td>\n",
       "      <td>11</td>\n",
       "      <td>1</td>\n",
       "      <td>5</td>\n",
       "    </tr>\n",
       "    <tr>\n",
       "      <th>3</th>\n",
       "      <td>Water saving &amp; living wage rose</td>\n",
       "      <td>10</td>\n",
       "      <td>1</td>\n",
       "      <td>2</td>\n",
       "    </tr>\n",
       "  </tbody>\n",
       "</table>\n",
       "</div>"
      ],
      "text/plain": [
       "                          Scenario  Retail price  Social cost  Water cost\n",
       "0                      Normal rose            10            3           5\n",
       "1                Water saving rose             9            3           2\n",
       "2                 Living wage rose            11            1           5\n",
       "3  Water saving & living wage rose            10            1           2"
      ]
     },
     "execution_count": 20,
     "metadata": {},
     "output_type": "execute_result"
    }
   ],
   "source": [
    "df = pd.read_excel('TPbars.xlsx')\n",
    "baseline=df.iloc[0:1,0:4]\n",
    "s1=df.iloc[1:2,0:4] # water saving\n",
    "s2=df.iloc[2:3,0:4] # lw\n",
    "s3=df.iloc[3:4,0:4] # water saving and lw\n",
    "\n",
    "s1[\"Scenario\"] = \"Improved rose\"\n",
    "s2[\"Scenario\"] = \"Improved rose\"\n",
    "s3[\"Scenario\"] = \"Improved rose\"\n",
    "\n",
    "\n",
    "df"
   ]
  },
  {
   "cell_type": "code",
   "execution_count": 21,
   "metadata": {
    "collapsed": false,
    "deletable": true,
    "editable": true
   },
   "outputs": [
    {
     "data": {
      "text/plain": [
       "1    9\n",
       "Name: Retail price, dtype: int64"
      ]
     },
     "execution_count": 21,
     "metadata": {},
     "output_type": "execute_result"
    }
   ],
   "source": [
    "#social cost of scenario 1\n",
    "values[1][\"Retail price\"]\n"
   ]
  },
  {
   "cell_type": "code",
   "execution_count": 22,
   "metadata": {
    "collapsed": false
   },
   "outputs": [],
   "source": [
    "#can only be executed once because it alters column names\n",
    "values = (baseline,s1,s2,s3)\n",
    "#change social cost to social cost top (social cost + retail cost)\n",
    "for i in values:\n",
    "   i[\"Social cost\"]=i[\"Social cost\"]+i[\"Retail price\"]\n",
    "   i.rename(index=str, columns={\"Social cost\": \"Social cost top\"}, inplace = True)\n",
    "#change env cost to env cost top (env cost + social cost top)\n",
    "for i in values:\n",
    "   i[\"Water cost\"]=i[\"Water cost\"]+i[\"Social cost top\"]\n",
    "   i.rename(index=str, columns={\"Water cost\": \"Water cost top\"}, inplace = True)\n"
   ]
  },
  {
   "cell_type": "code",
   "execution_count": 23,
   "metadata": {
    "collapsed": false,
    "deletable": true,
    "editable": true
   },
   "outputs": [
    {
     "data": {
      "text/html": [
       "<div style=\"display: table;\"><div style=\"display: table-row;\"><div style=\"display: table-cell;\"><b title=\"bokeh.models.sources.ColumnDataSource\">ColumnDataSource</b>(</div><div style=\"display: table-cell;\">id&nbsp;=&nbsp;'eed3d96d-ca22-4eff-87d0-eb582563eea9', <span id=\"319e1e3f-e17b-4140-9eea-4caa012cf768\" style=\"cursor: pointer;\">&hellip;)</span></div></div><div class=\"5decebaf-e13a-418c-8d31-d578b2d8762b\" style=\"display: none;\"><div style=\"display: table-cell;\"></div><div style=\"display: table-cell;\">callback&nbsp;=&nbsp;None,</div></div><div class=\"5decebaf-e13a-418c-8d31-d578b2d8762b\" style=\"display: none;\"><div style=\"display: table-cell;\"></div><div style=\"display: table-cell;\">column_names&nbsp;=&nbsp;['Retail price', 'Scenario', 'Social cost', 'Water cost', 'index'],</div></div><div class=\"5decebaf-e13a-418c-8d31-d578b2d8762b\" style=\"display: none;\"><div style=\"display: table-cell;\"></div><div style=\"display: table-cell;\">data&nbsp;=&nbsp;{'Retail price': [10, 9, 11, 10], 'Scenario': ['Normal rose', 'Water saving rose', 'Living wage rose', 'Water saving & living wage rose'], 'Social cost': [3, 3, 1, 1], 'Water cost': [5, 2, 5, 2], 'index': [0, 1, 2, 3]},</div></div><div class=\"5decebaf-e13a-418c-8d31-d578b2d8762b\" style=\"display: none;\"><div style=\"display: table-cell;\"></div><div style=\"display: table-cell;\">js_callbacks&nbsp;=&nbsp;{},</div></div><div class=\"5decebaf-e13a-418c-8d31-d578b2d8762b\" style=\"display: none;\"><div style=\"display: table-cell;\"></div><div style=\"display: table-cell;\">name&nbsp;=&nbsp;None,</div></div><div class=\"5decebaf-e13a-418c-8d31-d578b2d8762b\" style=\"display: none;\"><div style=\"display: table-cell;\"></div><div style=\"display: table-cell;\">selected&nbsp;=&nbsp;{'2d': {}, '1d': {'indices': []}, '0d': {'indices': [], 'glyph': None}},</div></div><div class=\"5decebaf-e13a-418c-8d31-d578b2d8762b\" style=\"display: none;\"><div style=\"display: table-cell;\"></div><div style=\"display: table-cell;\">tags&nbsp;=&nbsp;[])</div></div></div>\n",
       "<script>\n",
       "(function() {\n",
       "  var expanded = false;\n",
       "  var ellipsis = document.getElementById(\"319e1e3f-e17b-4140-9eea-4caa012cf768\");\n",
       "  ellipsis.addEventListener(\"click\", function() {\n",
       "    var rows = document.getElementsByClassName(\"5decebaf-e13a-418c-8d31-d578b2d8762b\");\n",
       "    for (var i = 0; i < rows.length; i++) {\n",
       "      var el = rows[i];\n",
       "      el.style.display = expanded ? \"none\" : \"table-row\";\n",
       "    }\n",
       "    ellipsis.innerHTML = expanded ? \"&hellip;)\" : \"&lsaquo;&lsaquo;&lsaquo;\";\n",
       "    expanded = !expanded;\n",
       "  });\n",
       "})();\n",
       "</script>\n"
      ],
      "text/plain": [
       "ColumnDataSource(id='eed3d96d-ca22-4eff-87d0-eb582563eea9', ...)"
      ]
     },
     "execution_count": 23,
     "metadata": {},
     "output_type": "execute_result"
    }
   ],
   "source": [
    "plotframe=ColumnDataSource(df)\n",
    "plotframe"
   ]
  },
  {
   "cell_type": "code",
   "execution_count": 24,
   "metadata": {
    "collapsed": true,
    "deletable": true,
    "editable": true
   },
   "outputs": [],
   "source": [
    "normal = ColumnDataSource(baseline)\n",
    "normal1 = ColumnDataSource(s1)\n",
    "improved1 = ColumnDataSource(s1)\n",
    "improved2 = ColumnDataSource(s2)\n",
    "improved3 = ColumnDataSource(s3)\n",
    "\n"
   ]
  },
  {
   "cell_type": "markdown",
   "metadata": {
    "deletable": true,
    "editable": true
   },
   "source": [
    "\n",
    "scenarios"
   ]
  },
  {
   "cell_type": "markdown",
   "metadata": {
    "deletable": true,
    "editable": true
   },
   "source": [
    "retail=list(df[\"Retail price\"])\n",
    "retail"
   ]
  },
  {
   "cell_type": "code",
   "execution_count": 41,
   "metadata": {
    "collapsed": false,
    "deletable": true,
    "editable": true
   },
   "outputs": [],
   "source": [
    "plot = figure(plot_width=600, plot_height=400, x_range=[\"Normal rose\",\"Improved rose\"], y_range=(0, 20), title=\"Price of a Kenyan rose\", tools=\"\", logo=\"grey\")\n",
    "\n",
    "bluenormalbar= plot.vbar(\n",
    "    x=\"Scenario\", \n",
    "    width=0.5, \n",
    "    top=\"Retail price\", \n",
    "    color=\"MidnightBlue\", \n",
    "    legend=\"Market price\",\n",
    "    visible=True,\n",
    "    source=normal\n",
    "    )\n",
    "blueimprovedbar= plot.vbar(\n",
    "    x=\"Scenario\", \n",
    "    width=0.5, \n",
    "    top=\"Retail price\",\n",
    "    color=\"MidnightBlue\", \n",
    "    legend=\"Market price\",\n",
    "    visible=True,\n",
    "    source=normal1\n",
    "    )\n",
    "\n",
    "rednormalbar= plot.vbar(\n",
    "    x=\"Scenario\", \n",
    "    width=0.5, \n",
    "    top=\"Social cost top\",\n",
    "    bottom=\"Retail price\",\n",
    "    color = \"FireBrick\", \n",
    "    legend=\"Social cost\",\n",
    "    source=normal\n",
    "    )\n",
    "\n",
    "redimprovedbar= plot.vbar(\n",
    "    x=\"Scenario\", \n",
    "    width=0.5, \n",
    "    top=\"Social cost top\",\n",
    "    bottom=\"Retail price\",\n",
    "    color = \"FireBrick\", \n",
    "    legend=\"Social cost\",\n",
    "    source=normal1\n",
    ")\n",
    "greennormalbar= plot.vbar(\n",
    "    x=\"Scenario\", \n",
    "    width=0.5, \n",
    "    top=\"Water cost top\",\n",
    "    bottom=\"Social cost top\",\n",
    "    color=\"SeaGreen\", \n",
    "    legend=\"Market price\",\n",
    "    visible=True,\n",
    "    source=normal\n",
    "    )\n",
    "greenimprovedbar= plot.vbar(\n",
    "    x=\"Scenario\", \n",
    "    width=0.5, \n",
    "    top=\"Water cost top\",\n",
    "    bottom=\"Social cost top\",\n",
    "    color=\"SeaGreen\", \n",
    "    legend=\"Market price\",\n",
    "    visible=True,\n",
    "    source=normal1\n",
    "    )\n"
   ]
  },
  {
   "cell_type": "code",
   "execution_count": 42,
   "metadata": {
    "collapsed": true,
    "deletable": true,
    "editable": true
   },
   "outputs": [],
   "source": [
    "#this should change the source data of blueimproved, back and forth, \n",
    "callback = CustomJS(args=(dict(improved=blueimprovedbar, s1=improved1, s2=improved2, s3=improved3)), code=\"\"\"\n",
    "    var source = improved.data_source;\n",
    "\n",
    "    if (cb_obj.active == 0) {\n",
    "        source.data = s1.data\n",
    "    } else if (cb_obj.active == 1) {\n",
    "        source.data = s2.data\n",
    "    } else if (cb_obj.active == 2) {\n",
    "        source.data = s3.data\n",
    "    }\n",
    "    improved.trigger('change');\n",
    "    \"\"\")"
   ]
  },
  {
   "cell_type": "code",
   "execution_count": 43,
   "metadata": {
    "collapsed": true,
    "deletable": true,
    "editable": true
   },
   "outputs": [],
   "source": [
    "widgets = RadioGroup(\n",
    "    labels=[\"Water saving\", \"Living wage\",\"Water saving + Living wage\"], \n",
    "    callback=callback,\n",
    "    active=0\n",
    ")"
   ]
  },
  {
   "cell_type": "code",
   "execution_count": 44,
   "metadata": {
    "collapsed": false,
    "deletable": true,
    "editable": true,
    "scrolled": true
   },
   "outputs": [
    {
     "data": {
      "text/html": [
       "\n",
       "    <div class=\"bk-root\">\n",
       "        <a href=\"http://bokeh.pydata.org\" target=\"_blank\" class=\"bk-logo bk-logo-small bk-logo-notebook\"></a>\n",
       "        <span id=\"4588ce71-9613-4d0a-9d85-9be31f1dba7a\">Loading BokehJS ...</span>\n",
       "    </div>"
      ]
     },
     "metadata": {},
     "output_type": "display_data"
    },
    {
     "data": {
      "application/javascript": [
       "\n",
       "(function(global) {\n",
       "  function now() {\n",
       "    return new Date();\n",
       "  }\n",
       "\n",
       "  var force = true;\n",
       "\n",
       "  if (typeof (window._bokeh_onload_callbacks) === \"undefined\" || force === true) {\n",
       "    window._bokeh_onload_callbacks = [];\n",
       "    window._bokeh_is_loading = undefined;\n",
       "  }\n",
       "\n",
       "\n",
       "  \n",
       "  if (typeof (window._bokeh_timeout) === \"undefined\" || force === true) {\n",
       "    window._bokeh_timeout = Date.now() + 5000;\n",
       "    window._bokeh_failed_load = false;\n",
       "  }\n",
       "\n",
       "  var NB_LOAD_WARNING = {'data': {'text/html':\n",
       "     \"<div style='background-color: #fdd'>\\n\"+\n",
       "     \"<p>\\n\"+\n",
       "     \"BokehJS does not appear to have successfully loaded. If loading BokehJS from CDN, this \\n\"+\n",
       "     \"may be due to a slow or bad network connection. Possible fixes:\\n\"+\n",
       "     \"</p>\\n\"+\n",
       "     \"<ul>\\n\"+\n",
       "     \"<li>re-rerun `output_notebook()` to attempt to load from CDN again, or</li>\\n\"+\n",
       "     \"<li>use INLINE resources instead, as so:</li>\\n\"+\n",
       "     \"</ul>\\n\"+\n",
       "     \"<code>\\n\"+\n",
       "     \"from bokeh.resources import INLINE\\n\"+\n",
       "     \"output_notebook(resources=INLINE)\\n\"+\n",
       "     \"</code>\\n\"+\n",
       "     \"</div>\"}};\n",
       "\n",
       "  function display_loaded() {\n",
       "    if (window.Bokeh !== undefined) {\n",
       "      document.getElementById(\"4588ce71-9613-4d0a-9d85-9be31f1dba7a\").textContent = \"BokehJS successfully loaded.\";\n",
       "    } else if (Date.now() < window._bokeh_timeout) {\n",
       "      setTimeout(display_loaded, 100)\n",
       "    }\n",
       "  }\n",
       "\n",
       "  function run_callbacks() {\n",
       "    window._bokeh_onload_callbacks.forEach(function(callback) { callback() });\n",
       "    delete window._bokeh_onload_callbacks\n",
       "    console.info(\"Bokeh: all callbacks have finished\");\n",
       "  }\n",
       "\n",
       "  function load_libs(js_urls, callback) {\n",
       "    window._bokeh_onload_callbacks.push(callback);\n",
       "    if (window._bokeh_is_loading > 0) {\n",
       "      console.log(\"Bokeh: BokehJS is being loaded, scheduling callback at\", now());\n",
       "      return null;\n",
       "    }\n",
       "    if (js_urls == null || js_urls.length === 0) {\n",
       "      run_callbacks();\n",
       "      return null;\n",
       "    }\n",
       "    console.log(\"Bokeh: BokehJS not loaded, scheduling load and callback at\", now());\n",
       "    window._bokeh_is_loading = js_urls.length;\n",
       "    for (var i = 0; i < js_urls.length; i++) {\n",
       "      var url = js_urls[i];\n",
       "      var s = document.createElement('script');\n",
       "      s.src = url;\n",
       "      s.async = false;\n",
       "      s.onreadystatechange = s.onload = function() {\n",
       "        window._bokeh_is_loading--;\n",
       "        if (window._bokeh_is_loading === 0) {\n",
       "          console.log(\"Bokeh: all BokehJS libraries loaded\");\n",
       "          run_callbacks()\n",
       "        }\n",
       "      };\n",
       "      s.onerror = function() {\n",
       "        console.warn(\"failed to load library \" + url);\n",
       "      };\n",
       "      console.log(\"Bokeh: injecting script tag for BokehJS library: \", url);\n",
       "      document.getElementsByTagName(\"head\")[0].appendChild(s);\n",
       "    }\n",
       "  };var element = document.getElementById(\"4588ce71-9613-4d0a-9d85-9be31f1dba7a\");\n",
       "  if (element == null) {\n",
       "    console.log(\"Bokeh: ERROR: autoload.js configured with elementid '4588ce71-9613-4d0a-9d85-9be31f1dba7a' but no matching script tag was found. \")\n",
       "    return false;\n",
       "  }\n",
       "\n",
       "  var js_urls = [\"https://cdn.pydata.org/bokeh/release/bokeh-0.12.4.min.js\", \"https://cdn.pydata.org/bokeh/release/bokeh-widgets-0.12.4.min.js\"];\n",
       "\n",
       "  var inline_js = [\n",
       "    function(Bokeh) {\n",
       "      Bokeh.set_log_level(\"info\");\n",
       "    },\n",
       "    \n",
       "    function(Bokeh) {\n",
       "      \n",
       "      document.getElementById(\"4588ce71-9613-4d0a-9d85-9be31f1dba7a\").textContent = \"BokehJS is loading...\";\n",
       "    },\n",
       "    function(Bokeh) {\n",
       "      console.log(\"Bokeh: injecting CSS: https://cdn.pydata.org/bokeh/release/bokeh-0.12.4.min.css\");\n",
       "      Bokeh.embed.inject_css(\"https://cdn.pydata.org/bokeh/release/bokeh-0.12.4.min.css\");\n",
       "      console.log(\"Bokeh: injecting CSS: https://cdn.pydata.org/bokeh/release/bokeh-widgets-0.12.4.min.css\");\n",
       "      Bokeh.embed.inject_css(\"https://cdn.pydata.org/bokeh/release/bokeh-widgets-0.12.4.min.css\");\n",
       "    }\n",
       "  ];\n",
       "\n",
       "  function run_inline_js() {\n",
       "    \n",
       "    if ((window.Bokeh !== undefined) || (force === true)) {\n",
       "      for (var i = 0; i < inline_js.length; i++) {\n",
       "        inline_js[i](window.Bokeh);\n",
       "      }if (force === true) {\n",
       "        display_loaded();\n",
       "      }} else if (Date.now() < window._bokeh_timeout) {\n",
       "      setTimeout(run_inline_js, 100);\n",
       "    } else if (!window._bokeh_failed_load) {\n",
       "      console.log(\"Bokeh: BokehJS failed to load within specified timeout.\");\n",
       "      window._bokeh_failed_load = true;\n",
       "    } else if (force !== true) {\n",
       "      var cell = $(document.getElementById(\"4588ce71-9613-4d0a-9d85-9be31f1dba7a\")).parents('.cell').data().cell;\n",
       "      cell.output_area.append_execute_result(NB_LOAD_WARNING)\n",
       "    }\n",
       "\n",
       "  }\n",
       "\n",
       "  if (window._bokeh_is_loading === 0) {\n",
       "    console.log(\"Bokeh: BokehJS loaded, going straight to plotting\");\n",
       "    run_inline_js();\n",
       "  } else {\n",
       "    load_libs(js_urls, function() {\n",
       "      console.log(\"Bokeh: BokehJS plotting callback run at\", now());\n",
       "      run_inline_js();\n",
       "    });\n",
       "  }\n",
       "}(this));"
      ]
     },
     "metadata": {},
     "output_type": "display_data"
    },
    {
     "data": {
      "text/plain": [
       "{'Retail price': [9],\n",
       " 'Scenario': ['Improved rose'],\n",
       " 'Social cost top': [12],\n",
       " 'Water cost top': [14],\n",
       " 'index': ['1']}"
      ]
     },
     "execution_count": 44,
     "metadata": {},
     "output_type": "execute_result"
    }
   ],
   "source": [
    "output_notebook()\n",
    "#output_file(\"widgets.html\")\n",
    "improved1.data"
   ]
  },
  {
   "cell_type": "code",
   "execution_count": 45,
   "metadata": {
    "collapsed": false,
    "deletable": true,
    "editable": true
   },
   "outputs": [
    {
     "data": {
      "text/html": [
       "\n",
       "\n",
       "    <div class=\"bk-root\">\n",
       "        <div class=\"bk-plotdiv\" id=\"78cc29a0-1629-40c3-aaa8-7c5dba37a933\"></div>\n",
       "    </div>\n",
       "<script type=\"text/javascript\">\n",
       "  \n",
       "  (function(global) {\n",
       "    function now() {\n",
       "      return new Date();\n",
       "    }\n",
       "  \n",
       "    var force = false;\n",
       "  \n",
       "    if (typeof (window._bokeh_onload_callbacks) === \"undefined\" || force === true) {\n",
       "      window._bokeh_onload_callbacks = [];\n",
       "      window._bokeh_is_loading = undefined;\n",
       "    }\n",
       "  \n",
       "  \n",
       "    \n",
       "    if (typeof (window._bokeh_timeout) === \"undefined\" || force === true) {\n",
       "      window._bokeh_timeout = Date.now() + 0;\n",
       "      window._bokeh_failed_load = false;\n",
       "    }\n",
       "  \n",
       "    var NB_LOAD_WARNING = {'data': {'text/html':\n",
       "       \"<div style='background-color: #fdd'>\\n\"+\n",
       "       \"<p>\\n\"+\n",
       "       \"BokehJS does not appear to have successfully loaded. If loading BokehJS from CDN, this \\n\"+\n",
       "       \"may be due to a slow or bad network connection. Possible fixes:\\n\"+\n",
       "       \"</p>\\n\"+\n",
       "       \"<ul>\\n\"+\n",
       "       \"<li>re-rerun `output_notebook()` to attempt to load from CDN again, or</li>\\n\"+\n",
       "       \"<li>use INLINE resources instead, as so:</li>\\n\"+\n",
       "       \"</ul>\\n\"+\n",
       "       \"<code>\\n\"+\n",
       "       \"from bokeh.resources import INLINE\\n\"+\n",
       "       \"output_notebook(resources=INLINE)\\n\"+\n",
       "       \"</code>\\n\"+\n",
       "       \"</div>\"}};\n",
       "  \n",
       "    function display_loaded() {\n",
       "      if (window.Bokeh !== undefined) {\n",
       "        document.getElementById(\"78cc29a0-1629-40c3-aaa8-7c5dba37a933\").textContent = \"BokehJS successfully loaded.\";\n",
       "      } else if (Date.now() < window._bokeh_timeout) {\n",
       "        setTimeout(display_loaded, 100)\n",
       "      }\n",
       "    }\n",
       "  \n",
       "    function run_callbacks() {\n",
       "      window._bokeh_onload_callbacks.forEach(function(callback) { callback() });\n",
       "      delete window._bokeh_onload_callbacks\n",
       "      console.info(\"Bokeh: all callbacks have finished\");\n",
       "    }\n",
       "  \n",
       "    function load_libs(js_urls, callback) {\n",
       "      window._bokeh_onload_callbacks.push(callback);\n",
       "      if (window._bokeh_is_loading > 0) {\n",
       "        console.log(\"Bokeh: BokehJS is being loaded, scheduling callback at\", now());\n",
       "        return null;\n",
       "      }\n",
       "      if (js_urls == null || js_urls.length === 0) {\n",
       "        run_callbacks();\n",
       "        return null;\n",
       "      }\n",
       "      console.log(\"Bokeh: BokehJS not loaded, scheduling load and callback at\", now());\n",
       "      window._bokeh_is_loading = js_urls.length;\n",
       "      for (var i = 0; i < js_urls.length; i++) {\n",
       "        var url = js_urls[i];\n",
       "        var s = document.createElement('script');\n",
       "        s.src = url;\n",
       "        s.async = false;\n",
       "        s.onreadystatechange = s.onload = function() {\n",
       "          window._bokeh_is_loading--;\n",
       "          if (window._bokeh_is_loading === 0) {\n",
       "            console.log(\"Bokeh: all BokehJS libraries loaded\");\n",
       "            run_callbacks()\n",
       "          }\n",
       "        };\n",
       "        s.onerror = function() {\n",
       "          console.warn(\"failed to load library \" + url);\n",
       "        };\n",
       "        console.log(\"Bokeh: injecting script tag for BokehJS library: \", url);\n",
       "        document.getElementsByTagName(\"head\")[0].appendChild(s);\n",
       "      }\n",
       "    };var element = document.getElementById(\"78cc29a0-1629-40c3-aaa8-7c5dba37a933\");\n",
       "    if (element == null) {\n",
       "      console.log(\"Bokeh: ERROR: autoload.js configured with elementid '78cc29a0-1629-40c3-aaa8-7c5dba37a933' but no matching script tag was found. \")\n",
       "      return false;\n",
       "    }\n",
       "  \n",
       "    var js_urls = [];\n",
       "  \n",
       "    var inline_js = [\n",
       "      function(Bokeh) {\n",
       "        (function() {\n",
       "          var fn = function() {\n",
       "            var docs_json = {\"c181ff9f-4811-43c7-9ea3-c19b0b492ddb\":{\"roots\":{\"references\":[{\"attributes\":{\"data_source\":{\"id\":\"688e0706-0dd6-486b-8ad0-f8655f4af247\",\"type\":\"ColumnDataSource\"},\"glyph\":{\"id\":\"b760b5e8-0904-491c-8567-aeeec79e46aa\",\"type\":\"VBar\"},\"hover_glyph\":null,\"nonselection_glyph\":{\"id\":\"0457e695-631f-401d-b5ce-eb5e61ee6657\",\"type\":\"VBar\"},\"selection_glyph\":null},\"id\":\"448b07b8-2457-49a5-97ee-d51e034a7621\",\"type\":\"GlyphRenderer\"},{\"attributes\":{\"bottom\":{\"field\":\"Retail price\"},\"fill_alpha\":{\"value\":0.1},\"fill_color\":{\"value\":\"#1f77b4\"},\"line_alpha\":{\"value\":0.1},\"line_color\":{\"value\":\"#1f77b4\"},\"top\":{\"field\":\"Social cost top\"},\"width\":{\"value\":0.5},\"x\":{\"field\":\"Scenario\"}},\"id\":\"be117fd5-9121-474f-a9f2-78f7be7e7764\",\"type\":\"VBar\"},{\"attributes\":{\"callback\":null,\"column_names\":[\"Retail price\",\"Scenario\",\"Social cost top\",\"Water cost top\",\"index\"],\"data\":{\"Retail price\":[10],\"Scenario\":[\"Normal rose\"],\"Social cost top\":[13],\"Water cost top\":[18],\"index\":[\"0\"]}},\"id\":\"688e0706-0dd6-486b-8ad0-f8655f4af247\",\"type\":\"ColumnDataSource\"},{\"attributes\":{\"plot\":{\"id\":\"9bd15cf7-29fd-4f9e-982a-d70c9d5fc912\",\"subtype\":\"Figure\",\"type\":\"Plot\"},\"ticker\":{\"id\":\"55c2f3c0-79f6-439a-a252-5c6c4a8271e4\",\"type\":\"CategoricalTicker\"}},\"id\":\"41a25c2d-3b1e-4551-ba90-0972e850ac7b\",\"type\":\"Grid\"},{\"attributes\":{\"bottom\":{\"field\":\"Social cost top\"},\"fill_alpha\":{\"value\":0.1},\"fill_color\":{\"value\":\"#1f77b4\"},\"line_alpha\":{\"value\":0.1},\"line_color\":{\"value\":\"#1f77b4\"},\"top\":{\"field\":\"Water cost top\"},\"width\":{\"value\":0.5},\"x\":{\"field\":\"Scenario\"}},\"id\":\"948f9b16-b553-43fb-9363-6542d933466d\",\"type\":\"VBar\"},{\"attributes\":{\"callback\":null,\"column_names\":[\"Retail price\",\"Scenario\",\"Social cost top\",\"Water cost top\",\"index\"],\"data\":{\"Retail price\":[10],\"Scenario\":[\"Improved rose\"],\"Social cost top\":[11],\"Water cost top\":[13],\"index\":[\"3\"]}},\"id\":\"48493a7f-c16a-412b-bea7-918ff3156c7f\",\"type\":\"ColumnDataSource\"},{\"attributes\":{\"label\":{\"value\":\"Social cost\"},\"renderers\":[{\"id\":\"fce8e02a-2397-4054-8c9f-60f223f226f4\",\"type\":\"GlyphRenderer\"},{\"id\":\"af28513c-ea69-4877-9da2-c59224e54e3b\",\"type\":\"GlyphRenderer\"}]},\"id\":\"065eb38d-279f-4491-88de-7dc5a3859e77\",\"type\":\"LegendItem\"},{\"attributes\":{},\"id\":\"daf71b33-8dcb-4e50-89c8-4d3992febbfc\",\"type\":\"ToolEvents\"},{\"attributes\":{\"items\":[{\"id\":\"bb556711-22e7-488a-b085-5f6dde84fa97\",\"type\":\"LegendItem\"},{\"id\":\"065eb38d-279f-4491-88de-7dc5a3859e77\",\"type\":\"LegendItem\"}],\"plot\":{\"id\":\"9bd15cf7-29fd-4f9e-982a-d70c9d5fc912\",\"subtype\":\"Figure\",\"type\":\"Plot\"}},\"id\":\"24e8476f-8c52-4631-a1ad-1b54d2ec0cbf\",\"type\":\"Legend\"},{\"attributes\":{\"plot\":null,\"text\":\"Price of a Kenyan rose\"},\"id\":\"6752e070-4409-475a-a879-ba3980230dbd\",\"type\":\"Title\"},{\"attributes\":{\"callback\":null,\"end\":20},\"id\":\"21260dc2-3c90-40b1-9c5f-5fc82f46bf89\",\"type\":\"Range1d\"},{\"attributes\":{\"data_source\":{\"id\":\"afb32a8d-f738-44c4-8263-c54cd0759092\",\"type\":\"ColumnDataSource\"},\"glyph\":{\"id\":\"19fde877-ac69-48d7-aee0-f48907250268\",\"type\":\"VBar\"},\"hover_glyph\":null,\"nonselection_glyph\":{\"id\":\"0ed5d201-642d-4ee1-a13d-c380661b5906\",\"type\":\"VBar\"},\"selection_glyph\":null},\"id\":\"af28513c-ea69-4877-9da2-c59224e54e3b\",\"type\":\"GlyphRenderer\"},{\"attributes\":{\"active\":0,\"callback\":{\"id\":\"fdef9077-e2a8-4d85-9151-efd2ae4bca11\",\"type\":\"CustomJS\"},\"labels\":[\"Water saving\",\"Living wage\",\"Water saving + Living wage\"]},\"id\":\"8cf224fb-1330-4928-83eb-2f2584832180\",\"type\":\"RadioGroup\"},{\"attributes\":{\"formatter\":{\"id\":\"14e720ee-a24a-438b-96a6-d5fb51752788\",\"type\":\"CategoricalTickFormatter\"},\"plot\":{\"id\":\"9bd15cf7-29fd-4f9e-982a-d70c9d5fc912\",\"subtype\":\"Figure\",\"type\":\"Plot\"},\"ticker\":{\"id\":\"55c2f3c0-79f6-439a-a252-5c6c4a8271e4\",\"type\":\"CategoricalTicker\"}},\"id\":\"e3afb8b9-963e-4be4-9de5-d4018009976c\",\"type\":\"CategoricalAxis\"},{\"attributes\":{\"data_source\":{\"id\":\"688e0706-0dd6-486b-8ad0-f8655f4af247\",\"type\":\"ColumnDataSource\"},\"glyph\":{\"id\":\"6ef7502a-4a8f-4d5f-a6dc-056e7937a12c\",\"type\":\"VBar\"},\"hover_glyph\":null,\"nonselection_glyph\":{\"id\":\"a674ed45-7549-4c87-9ff7-86e6b9e61941\",\"type\":\"VBar\"},\"selection_glyph\":null},\"id\":\"d3ba4e1b-e944-4214-abd2-fe7287fc96f2\",\"type\":\"GlyphRenderer\"},{\"attributes\":{\"active_drag\":\"auto\",\"active_scroll\":\"auto\",\"active_tap\":\"auto\",\"logo\":\"grey\"},\"id\":\"23fe17bc-ff48-40b8-a794-ebc7867463b7\",\"type\":\"Toolbar\"},{\"attributes\":{\"fill_alpha\":{\"value\":0.1},\"fill_color\":{\"value\":\"#1f77b4\"},\"line_alpha\":{\"value\":0.1},\"line_color\":{\"value\":\"#1f77b4\"},\"top\":{\"field\":\"Retail price\"},\"width\":{\"value\":0.5},\"x\":{\"field\":\"Scenario\"}},\"id\":\"66e3b171-a2cf-4536-8c89-1134336b526b\",\"type\":\"VBar\"},{\"attributes\":{\"bottom\":{\"field\":\"Retail price\"},\"fill_color\":{\"value\":\"FireBrick\"},\"line_color\":{\"value\":\"FireBrick\"},\"top\":{\"field\":\"Social cost top\"},\"width\":{\"value\":0.5},\"x\":{\"field\":\"Scenario\"}},\"id\":\"19fde877-ac69-48d7-aee0-f48907250268\",\"type\":\"VBar\"},{\"attributes\":{\"fill_color\":{\"value\":\"MidnightBlue\"},\"line_color\":{\"value\":\"MidnightBlue\"},\"top\":{\"field\":\"Retail price\"},\"width\":{\"value\":0.5},\"x\":{\"field\":\"Scenario\"}},\"id\":\"6cabed26-edcd-4da7-b544-2185c446f004\",\"type\":\"VBar\"},{\"attributes\":{\"data_source\":{\"id\":\"afb32a8d-f738-44c4-8263-c54cd0759092\",\"type\":\"ColumnDataSource\"},\"glyph\":{\"id\":\"437cd5b2-995e-41e5-a554-a6f7e0ff231c\",\"type\":\"VBar\"},\"hover_glyph\":null,\"nonselection_glyph\":{\"id\":\"948f9b16-b553-43fb-9363-6542d933466d\",\"type\":\"VBar\"},\"selection_glyph\":null},\"id\":\"45ef19a1-934e-4ca0-b3e3-5a7fc29ff3ad\",\"type\":\"GlyphRenderer\"},{\"attributes\":{\"children\":[{\"id\":\"8cf224fb-1330-4928-83eb-2f2584832180\",\"type\":\"RadioGroup\"}]},\"id\":\"bc5fdff4-ba64-4c51-aab3-1041f0860d98\",\"type\":\"WidgetBox\"},{\"attributes\":{\"fill_color\":{\"value\":\"MidnightBlue\"},\"line_color\":{\"value\":\"MidnightBlue\"},\"top\":{\"field\":\"Retail price\"},\"width\":{\"value\":0.5},\"x\":{\"field\":\"Scenario\"}},\"id\":\"6ef7502a-4a8f-4d5f-a6dc-056e7937a12c\",\"type\":\"VBar\"},{\"attributes\":{\"label\":{\"value\":\"Market price\"},\"renderers\":[{\"id\":\"d3ba4e1b-e944-4214-abd2-fe7287fc96f2\",\"type\":\"GlyphRenderer\"},{\"id\":\"1e833d51-8efa-4397-a966-194ada5cac11\",\"type\":\"GlyphRenderer\"},{\"id\":\"448b07b8-2457-49a5-97ee-d51e034a7621\",\"type\":\"GlyphRenderer\"},{\"id\":\"45ef19a1-934e-4ca0-b3e3-5a7fc29ff3ad\",\"type\":\"GlyphRenderer\"}]},\"id\":\"bb556711-22e7-488a-b085-5f6dde84fa97\",\"type\":\"LegendItem\"},{\"attributes\":{\"bottom\":{\"field\":\"Retail price\"},\"fill_color\":{\"value\":\"FireBrick\"},\"line_color\":{\"value\":\"FireBrick\"},\"top\":{\"field\":\"Social cost top\"},\"width\":{\"value\":0.5},\"x\":{\"field\":\"Scenario\"}},\"id\":\"634a044d-bf89-4c2a-a4cb-8dd944415dd0\",\"type\":\"VBar\"},{\"attributes\":{\"bottom\":{\"field\":\"Retail price\"},\"fill_alpha\":{\"value\":0.1},\"fill_color\":{\"value\":\"#1f77b4\"},\"line_alpha\":{\"value\":0.1},\"line_color\":{\"value\":\"#1f77b4\"},\"top\":{\"field\":\"Social cost top\"},\"width\":{\"value\":0.5},\"x\":{\"field\":\"Scenario\"}},\"id\":\"0ed5d201-642d-4ee1-a13d-c380661b5906\",\"type\":\"VBar\"},{\"attributes\":{\"fill_alpha\":{\"value\":0.1},\"fill_color\":{\"value\":\"#1f77b4\"},\"line_alpha\":{\"value\":0.1},\"line_color\":{\"value\":\"#1f77b4\"},\"top\":{\"field\":\"Retail price\"},\"width\":{\"value\":0.5},\"x\":{\"field\":\"Scenario\"}},\"id\":\"a674ed45-7549-4c87-9ff7-86e6b9e61941\",\"type\":\"VBar\"},{\"attributes\":{\"data_source\":{\"id\":\"688e0706-0dd6-486b-8ad0-f8655f4af247\",\"type\":\"ColumnDataSource\"},\"glyph\":{\"id\":\"634a044d-bf89-4c2a-a4cb-8dd944415dd0\",\"type\":\"VBar\"},\"hover_glyph\":null,\"nonselection_glyph\":{\"id\":\"be117fd5-9121-474f-a9f2-78f7be7e7764\",\"type\":\"VBar\"},\"selection_glyph\":null},\"id\":\"fce8e02a-2397-4054-8c9f-60f223f226f4\",\"type\":\"GlyphRenderer\"},{\"attributes\":{\"callback\":null,\"factors\":[\"Normal rose\",\"Improved rose\"]},\"id\":\"a0552bde-d4ef-4cd4-8245-fae0680a84fe\",\"type\":\"FactorRange\"},{\"attributes\":{\"formatter\":{\"id\":\"260a7e74-88d9-4a42-87c6-f0d15a0ae296\",\"type\":\"BasicTickFormatter\"},\"plot\":{\"id\":\"9bd15cf7-29fd-4f9e-982a-d70c9d5fc912\",\"subtype\":\"Figure\",\"type\":\"Plot\"},\"ticker\":{\"id\":\"c4b32d2e-68e3-4242-98f3-91d3a74c931c\",\"type\":\"BasicTicker\"}},\"id\":\"ff94881c-26ae-4250-b0c6-a73ff3ebf180\",\"type\":\"LinearAxis\"},{\"attributes\":{},\"id\":\"c4b32d2e-68e3-4242-98f3-91d3a74c931c\",\"type\":\"BasicTicker\"},{\"attributes\":{},\"id\":\"260a7e74-88d9-4a42-87c6-f0d15a0ae296\",\"type\":\"BasicTickFormatter\"},{\"attributes\":{\"callback\":null,\"column_names\":[\"Retail price\",\"Scenario\",\"Social cost top\",\"Water cost top\",\"index\"],\"data\":{\"Retail price\":[9],\"Scenario\":[\"Improved rose\"],\"Social cost top\":[12],\"Water cost top\":[14],\"index\":[\"1\"]}},\"id\":\"2054171b-e96a-4a2f-adb3-1a4b97436ef4\",\"type\":\"ColumnDataSource\"},{\"attributes\":{},\"id\":\"14e720ee-a24a-438b-96a6-d5fb51752788\",\"type\":\"CategoricalTickFormatter\"},{\"attributes\":{\"callback\":null,\"column_names\":[\"Retail price\",\"Scenario\",\"Social cost top\",\"Water cost top\",\"index\"],\"data\":{\"Retail price\":[11],\"Scenario\":[\"Improved rose\"],\"Social cost top\":[12],\"Water cost top\":[17],\"index\":[\"2\"]}},\"id\":\"cb912f86-df9b-48a8-856f-9026b6738883\",\"type\":\"ColumnDataSource\"},{\"attributes\":{\"children\":[{\"id\":\"bc5fdff4-ba64-4c51-aab3-1041f0860d98\",\"type\":\"WidgetBox\"},{\"id\":\"9bd15cf7-29fd-4f9e-982a-d70c9d5fc912\",\"subtype\":\"Figure\",\"type\":\"Plot\"}]},\"id\":\"c84352df-e19b-4bdd-bf8b-7d28aa9d778e\",\"type\":\"Row\"},{\"attributes\":{\"dimension\":1,\"plot\":{\"id\":\"9bd15cf7-29fd-4f9e-982a-d70c9d5fc912\",\"subtype\":\"Figure\",\"type\":\"Plot\"},\"ticker\":{\"id\":\"c4b32d2e-68e3-4242-98f3-91d3a74c931c\",\"type\":\"BasicTicker\"}},\"id\":\"99249014-1b3d-4b71-85ba-b493c6b0eb32\",\"type\":\"Grid\"},{\"attributes\":{\"args\":{\"improved\":{\"id\":\"1e833d51-8efa-4397-a966-194ada5cac11\",\"type\":\"GlyphRenderer\"},\"s1\":{\"id\":\"2054171b-e96a-4a2f-adb3-1a4b97436ef4\",\"type\":\"ColumnDataSource\"},\"s2\":{\"id\":\"cb912f86-df9b-48a8-856f-9026b6738883\",\"type\":\"ColumnDataSource\"},\"s3\":{\"id\":\"48493a7f-c16a-412b-bea7-918ff3156c7f\",\"type\":\"ColumnDataSource\"}},\"code\":\"\\n    var source = improved.data_source;\\n\\n    if (cb_obj.active == 0) {\\n        source.data = s1.data\\n    } else if (cb_obj.active == 1) {\\n        source.data = s2.data\\n    } else if (cb_obj.active == 2) {\\n        source.data = s3.data\\n    }\\n    improved.trigger('change');\\n    \"},\"id\":\"fdef9077-e2a8-4d85-9151-efd2ae4bca11\",\"type\":\"CustomJS\"},{\"attributes\":{\"bottom\":{\"field\":\"Social cost top\"},\"fill_alpha\":{\"value\":0.1},\"fill_color\":{\"value\":\"#1f77b4\"},\"line_alpha\":{\"value\":0.1},\"line_color\":{\"value\":\"#1f77b4\"},\"top\":{\"field\":\"Water cost top\"},\"width\":{\"value\":0.5},\"x\":{\"field\":\"Scenario\"}},\"id\":\"0457e695-631f-401d-b5ce-eb5e61ee6657\",\"type\":\"VBar\"},{\"attributes\":{},\"id\":\"55c2f3c0-79f6-439a-a252-5c6c4a8271e4\",\"type\":\"CategoricalTicker\"},{\"attributes\":{\"data_source\":{\"id\":\"afb32a8d-f738-44c4-8263-c54cd0759092\",\"type\":\"ColumnDataSource\"},\"glyph\":{\"id\":\"6cabed26-edcd-4da7-b544-2185c446f004\",\"type\":\"VBar\"},\"hover_glyph\":null,\"nonselection_glyph\":{\"id\":\"66e3b171-a2cf-4536-8c89-1134336b526b\",\"type\":\"VBar\"},\"selection_glyph\":null},\"id\":\"1e833d51-8efa-4397-a966-194ada5cac11\",\"type\":\"GlyphRenderer\"},{\"attributes\":{\"bottom\":{\"field\":\"Social cost top\"},\"fill_color\":{\"value\":\"SeaGreen\"},\"line_color\":{\"value\":\"SeaGreen\"},\"top\":{\"field\":\"Water cost top\"},\"width\":{\"value\":0.5},\"x\":{\"field\":\"Scenario\"}},\"id\":\"437cd5b2-995e-41e5-a554-a6f7e0ff231c\",\"type\":\"VBar\"},{\"attributes\":{\"callback\":null,\"column_names\":[\"Retail price\",\"Scenario\",\"Social cost top\",\"Water cost top\",\"index\"],\"data\":{\"Retail price\":[9],\"Scenario\":[\"Improved rose\"],\"Social cost top\":[12],\"Water cost top\":[14],\"index\":[\"1\"]}},\"id\":\"afb32a8d-f738-44c4-8263-c54cd0759092\",\"type\":\"ColumnDataSource\"},{\"attributes\":{\"below\":[{\"id\":\"e3afb8b9-963e-4be4-9de5-d4018009976c\",\"type\":\"CategoricalAxis\"}],\"left\":[{\"id\":\"ff94881c-26ae-4250-b0c6-a73ff3ebf180\",\"type\":\"LinearAxis\"}],\"plot_height\":400,\"renderers\":[{\"id\":\"e3afb8b9-963e-4be4-9de5-d4018009976c\",\"type\":\"CategoricalAxis\"},{\"id\":\"41a25c2d-3b1e-4551-ba90-0972e850ac7b\",\"type\":\"Grid\"},{\"id\":\"ff94881c-26ae-4250-b0c6-a73ff3ebf180\",\"type\":\"LinearAxis\"},{\"id\":\"99249014-1b3d-4b71-85ba-b493c6b0eb32\",\"type\":\"Grid\"},{\"id\":\"24e8476f-8c52-4631-a1ad-1b54d2ec0cbf\",\"type\":\"Legend\"},{\"id\":\"d3ba4e1b-e944-4214-abd2-fe7287fc96f2\",\"type\":\"GlyphRenderer\"},{\"id\":\"1e833d51-8efa-4397-a966-194ada5cac11\",\"type\":\"GlyphRenderer\"},{\"id\":\"fce8e02a-2397-4054-8c9f-60f223f226f4\",\"type\":\"GlyphRenderer\"},{\"id\":\"af28513c-ea69-4877-9da2-c59224e54e3b\",\"type\":\"GlyphRenderer\"},{\"id\":\"448b07b8-2457-49a5-97ee-d51e034a7621\",\"type\":\"GlyphRenderer\"},{\"id\":\"45ef19a1-934e-4ca0-b3e3-5a7fc29ff3ad\",\"type\":\"GlyphRenderer\"}],\"title\":{\"id\":\"6752e070-4409-475a-a879-ba3980230dbd\",\"type\":\"Title\"},\"tool_events\":{\"id\":\"daf71b33-8dcb-4e50-89c8-4d3992febbfc\",\"type\":\"ToolEvents\"},\"toolbar\":{\"id\":\"23fe17bc-ff48-40b8-a794-ebc7867463b7\",\"type\":\"Toolbar\"},\"x_range\":{\"id\":\"a0552bde-d4ef-4cd4-8245-fae0680a84fe\",\"type\":\"FactorRange\"},\"y_range\":{\"id\":\"21260dc2-3c90-40b1-9c5f-5fc82f46bf89\",\"type\":\"Range1d\"}},\"id\":\"9bd15cf7-29fd-4f9e-982a-d70c9d5fc912\",\"subtype\":\"Figure\",\"type\":\"Plot\"},{\"attributes\":{\"bottom\":{\"field\":\"Social cost top\"},\"fill_color\":{\"value\":\"SeaGreen\"},\"line_color\":{\"value\":\"SeaGreen\"},\"top\":{\"field\":\"Water cost top\"},\"width\":{\"value\":0.5},\"x\":{\"field\":\"Scenario\"}},\"id\":\"b760b5e8-0904-491c-8567-aeeec79e46aa\",\"type\":\"VBar\"}],\"root_ids\":[\"c84352df-e19b-4bdd-bf8b-7d28aa9d778e\"]},\"title\":\"Bokeh Application\",\"version\":\"0.12.4\"}};\n",
       "            var render_items = [{\"docid\":\"c181ff9f-4811-43c7-9ea3-c19b0b492ddb\",\"elementid\":\"78cc29a0-1629-40c3-aaa8-7c5dba37a933\",\"modelid\":\"c84352df-e19b-4bdd-bf8b-7d28aa9d778e\"}];\n",
       "            \n",
       "            Bokeh.embed.embed_items(docs_json, render_items);\n",
       "          };\n",
       "          if (document.readyState != \"loading\") fn();\n",
       "          else document.addEventListener(\"DOMContentLoaded\", fn);\n",
       "        })();\n",
       "      },\n",
       "      function(Bokeh) {\n",
       "      }\n",
       "    ];\n",
       "  \n",
       "    function run_inline_js() {\n",
       "      \n",
       "      if ((window.Bokeh !== undefined) || (force === true)) {\n",
       "        for (var i = 0; i < inline_js.length; i++) {\n",
       "          inline_js[i](window.Bokeh);\n",
       "        }if (force === true) {\n",
       "          display_loaded();\n",
       "        }} else if (Date.now() < window._bokeh_timeout) {\n",
       "        setTimeout(run_inline_js, 100);\n",
       "      } else if (!window._bokeh_failed_load) {\n",
       "        console.log(\"Bokeh: BokehJS failed to load within specified timeout.\");\n",
       "        window._bokeh_failed_load = true;\n",
       "      } else if (force !== true) {\n",
       "        var cell = $(document.getElementById(\"78cc29a0-1629-40c3-aaa8-7c5dba37a933\")).parents('.cell').data().cell;\n",
       "        cell.output_area.append_execute_result(NB_LOAD_WARNING)\n",
       "      }\n",
       "  \n",
       "    }\n",
       "  \n",
       "    if (window._bokeh_is_loading === 0) {\n",
       "      console.log(\"Bokeh: BokehJS loaded, going straight to plotting\");\n",
       "      run_inline_js();\n",
       "    } else {\n",
       "      load_libs(js_urls, function() {\n",
       "        console.log(\"Bokeh: BokehJS plotting callback run at\", now());\n",
       "        run_inline_js();\n",
       "      });\n",
       "    }\n",
       "  }(this));\n",
       "</script>"
      ]
     },
     "metadata": {},
     "output_type": "display_data"
    }
   ],
   "source": [
    "layout=(row(widgetbox(widgets),plot))\n",
    "show(layout)"
   ]
  },
  {
   "cell_type": "code",
   "execution_count": 11,
   "metadata": {
    "collapsed": false,
    "deletable": true,
    "editable": true
   },
   "outputs": [
    {
     "data": {
      "text/plain": [
       "{'Retail price': [9],\n",
       " 'Scenario': ['Improved rose'],\n",
       " 'Social cost': [3],\n",
       " 'Water cost': [2],\n",
       " 'index': [1]}"
      ]
     },
     "execution_count": 11,
     "metadata": {},
     "output_type": "execute_result"
    }
   ],
   "source": [
    "improved1.data"
   ]
  },
  {
   "cell_type": "code",
   "execution_count": 12,
   "metadata": {
    "collapsed": false,
    "deletable": true,
    "editable": true
   },
   "outputs": [
    {
     "data": {
      "text/plain": [
       "{'Retail price': [11],\n",
       " 'Scenario': ['Improved rose'],\n",
       " 'Social cost': [1],\n",
       " 'Water cost': [5],\n",
       " 'index': [2]}"
      ]
     },
     "execution_count": 12,
     "metadata": {},
     "output_type": "execute_result"
    }
   ],
   "source": [
    "improved2.data"
   ]
  },
  {
   "cell_type": "code",
   "execution_count": 13,
   "metadata": {
    "collapsed": false,
    "deletable": true,
    "editable": true
   },
   "outputs": [
    {
     "data": {
      "text/plain": [
       "'\\nplot.vbar(\\n    x=[scenarios], \\n    width=0.5, \\n    top=df[\"Retail price\"]+df[\"Social cost\"], \\n    color = \"FireBrick\", \\n    bottom = df[\"Retail price\"], \\n    legend=\"Social cost\")\\nplot.vbar(\\n    x=[scenarios], \\n    width=0.5, \\n    top=df[\"Retail price\"]+df[\"Social cost\"]+df[\"Water cost\"], \\n    color = \"SeaGreen\", \\n    bottom = df[\"Retail price\"]+df[\"Social cost\"], \\n    legend=\"Water cost\"\\n    '"
      ]
     },
     "execution_count": 13,
     "metadata": {},
     "output_type": "execute_result"
    }
   ],
   "source": [
    "'''\n",
    "plot.vbar(\n",
    "    x=[scenarios], \n",
    "    width=0.5, \n",
    "    top=df[\"Retail price\"]+df[\"Social cost\"], \n",
    "    color = \"FireBrick\", \n",
    "    bottom = df[\"Retail price\"], \n",
    "    legend=\"Social cost\")\n",
    "plot.vbar(\n",
    "    x=[scenarios], \n",
    "    width=0.5, \n",
    "    top=df[\"Retail price\"]+df[\"Social cost\"]+df[\"Water cost\"], \n",
    "    color = \"SeaGreen\", \n",
    "    bottom = df[\"Retail price\"]+df[\"Social cost\"], \n",
    "    legend=\"Water cost\"\n",
    "    '''"
   ]
  }
 ],
 "metadata": {
  "kernelspec": {
   "display_name": "Python 3",
   "language": "python",
   "name": "python3"
  },
  "language_info": {
   "codemirror_mode": {
    "name": "ipython",
    "version": 3
   },
   "file_extension": ".py",
   "mimetype": "text/x-python",
   "name": "python",
   "nbconvert_exporter": "python",
   "pygments_lexer": "ipython3",
   "version": "3.5.2"
  }
 },
 "nbformat": 4,
 "nbformat_minor": 1
}
