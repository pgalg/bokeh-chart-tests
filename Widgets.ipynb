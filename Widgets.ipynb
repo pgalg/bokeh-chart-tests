{
 "cells": [
  {
   "cell_type": "code",
   "execution_count": 14,
   "metadata": {
    "collapsed": false,
    "deletable": true,
    "editable": true
   },
   "outputs": [],
   "source": [
    "import pandas as pd\n",
    "\n",
    "from bokeh.io import show, output_notebook\n",
    "from bokeh.layouts import widgetbox, row, column\n",
    "from bokeh.models.widgets import RadioGroup\n",
    "from bokeh.models import CustomJS ,ColumnDataSource\n",
    "from bokeh.plotting import figure"
   ]
  },
  {
   "cell_type": "code",
   "execution_count": 15,
   "metadata": {
    "collapsed": false,
    "deletable": true,
    "editable": true
   },
   "outputs": [
    {
     "data": {
      "text/html": [
       "<div>\n",
       "<table border=\"1\" class=\"dataframe\">\n",
       "  <thead>\n",
       "    <tr style=\"text-align: right;\">\n",
       "      <th></th>\n",
       "      <th>Scenario</th>\n",
       "      <th>Retail price</th>\n",
       "      <th>Social cost</th>\n",
       "      <th>Water cost</th>\n",
       "    </tr>\n",
       "  </thead>\n",
       "  <tbody>\n",
       "    <tr>\n",
       "      <th>0</th>\n",
       "      <td>Normal rose</td>\n",
       "      <td>10</td>\n",
       "      <td>3</td>\n",
       "      <td>5</td>\n",
       "    </tr>\n",
       "    <tr>\n",
       "      <th>1</th>\n",
       "      <td>Water saving rose</td>\n",
       "      <td>9</td>\n",
       "      <td>3</td>\n",
       "      <td>2</td>\n",
       "    </tr>\n",
       "    <tr>\n",
       "      <th>2</th>\n",
       "      <td>Living wage rose</td>\n",
       "      <td>11</td>\n",
       "      <td>1</td>\n",
       "      <td>5</td>\n",
       "    </tr>\n",
       "    <tr>\n",
       "      <th>3</th>\n",
       "      <td>Water saving &amp; living wage rose</td>\n",
       "      <td>10</td>\n",
       "      <td>1</td>\n",
       "      <td>2</td>\n",
       "    </tr>\n",
       "  </tbody>\n",
       "</table>\n",
       "</div>"
      ],
      "text/plain": [
       "                          Scenario  Retail price  Social cost  Water cost\n",
       "0                      Normal rose            10            3           5\n",
       "1                Water saving rose             9            3           2\n",
       "2                 Living wage rose            11            1           5\n",
       "3  Water saving & living wage rose            10            1           2"
      ]
     },
     "execution_count": 15,
     "metadata": {},
     "output_type": "execute_result"
    }
   ],
   "source": [
    "df = pd.read_excel('TPbars.xlsx')\n",
    "baseline=df.iloc[0:1,0:4]\n",
    "s1=df.iloc[1:2,0:4] # water saving\n",
    "s2=df.iloc[2:3,0:4] # lw\n",
    "s3=df.iloc[3:4,0:4] # water saving and lw\n",
    "\n",
    "s1[\"Scenario\"] = \"Improved rose\"\n",
    "s2[\"Scenario\"] = \"Improved rose\"\n",
    "s3[\"Scenario\"] = \"Improved rose\"\n",
    "df"
   ]
  },
  {
   "cell_type": "code",
   "execution_count": 3,
   "metadata": {
    "collapsed": false,
    "deletable": true,
    "editable": true
   },
   "outputs": [
    {
     "data": {
      "text/html": [
       "<div>\n",
       "<table border=\"1\" class=\"dataframe\">\n",
       "  <thead>\n",
       "    <tr style=\"text-align: right;\">\n",
       "      <th></th>\n",
       "      <th>Scenario</th>\n",
       "      <th>Retail price</th>\n",
       "      <th>Social cost</th>\n",
       "      <th>Water cost</th>\n",
       "    </tr>\n",
       "  </thead>\n",
       "  <tbody>\n",
       "    <tr>\n",
       "      <th>0</th>\n",
       "      <td>Normal rose</td>\n",
       "      <td>10</td>\n",
       "      <td>3</td>\n",
       "      <td>5</td>\n",
       "    </tr>\n",
       "    <tr>\n",
       "      <th>1</th>\n",
       "      <td>Water saving rose</td>\n",
       "      <td>9</td>\n",
       "      <td>3</td>\n",
       "      <td>2</td>\n",
       "    </tr>\n",
       "    <tr>\n",
       "      <th>2</th>\n",
       "      <td>Living wage rose</td>\n",
       "      <td>11</td>\n",
       "      <td>1</td>\n",
       "      <td>5</td>\n",
       "    </tr>\n",
       "    <tr>\n",
       "      <th>3</th>\n",
       "      <td>Water saving &amp; living wage rose</td>\n",
       "      <td>10</td>\n",
       "      <td>1</td>\n",
       "      <td>2</td>\n",
       "    </tr>\n",
       "  </tbody>\n",
       "</table>\n",
       "</div>"
      ],
      "text/plain": [
       "                          Scenario  Retail price  Social cost  Water cost\n",
       "0                      Normal rose            10            3           5\n",
       "1                Water saving rose             9            3           2\n",
       "2                 Living wage rose            11            1           5\n",
       "3  Water saving & living wage rose            10            1           2"
      ]
     },
     "execution_count": 3,
     "metadata": {},
     "output_type": "execute_result"
    }
   ],
   "source": [
    "#df.append(4,\"Improved rose\")\n",
    "df"
   ]
  },
  {
   "cell_type": "code",
   "execution_count": 4,
   "metadata": {
    "collapsed": false,
    "deletable": true,
    "editable": true
   },
   "outputs": [
    {
     "data": {
      "text/html": [
       "<div style=\"display: table;\"><div style=\"display: table-row;\"><div style=\"display: table-cell;\"><b title=\"bokeh.models.sources.ColumnDataSource\">ColumnDataSource</b>(</div><div style=\"display: table-cell;\">id&nbsp;=&nbsp;'5d038870-93d6-499e-9fe6-c41c95765881', <span id=\"3315fe7f-c89b-4a68-8ff7-2f01512eab43\" style=\"cursor: pointer;\">&hellip;)</span></div></div><div class=\"36c7a8c8-6437-447a-9b17-915a3542c78f\" style=\"display: none;\"><div style=\"display: table-cell;\"></div><div style=\"display: table-cell;\">callback&nbsp;=&nbsp;None,</div></div><div class=\"36c7a8c8-6437-447a-9b17-915a3542c78f\" style=\"display: none;\"><div style=\"display: table-cell;\"></div><div style=\"display: table-cell;\">column_names&nbsp;=&nbsp;['index', 'Scenario', 'Retail price', 'Water cost', 'Social cost'],</div></div><div class=\"36c7a8c8-6437-447a-9b17-915a3542c78f\" style=\"display: none;\"><div style=\"display: table-cell;\"></div><div style=\"display: table-cell;\">data&nbsp;=&nbsp;{'index': [0, 1, 2, 3], 'Scenario': ['Normal rose', 'Water saving rose', 'Living wage rose', 'Water saving & living wage rose'], 'Retail price': [10, 9, 11, 10], 'Water cost': [5, 2, 5, 2], 'Social cost': [3, 3, 1, 1]},</div></div><div class=\"36c7a8c8-6437-447a-9b17-915a3542c78f\" style=\"display: none;\"><div style=\"display: table-cell;\"></div><div style=\"display: table-cell;\">js_callbacks&nbsp;=&nbsp;{},</div></div><div class=\"36c7a8c8-6437-447a-9b17-915a3542c78f\" style=\"display: none;\"><div style=\"display: table-cell;\"></div><div style=\"display: table-cell;\">name&nbsp;=&nbsp;None,</div></div><div class=\"36c7a8c8-6437-447a-9b17-915a3542c78f\" style=\"display: none;\"><div style=\"display: table-cell;\"></div><div style=\"display: table-cell;\">selected&nbsp;=&nbsp;{'1d': {'indices': []}, '2d': {}, '0d': {'indices': [], 'glyph': None}},</div></div><div class=\"36c7a8c8-6437-447a-9b17-915a3542c78f\" style=\"display: none;\"><div style=\"display: table-cell;\"></div><div style=\"display: table-cell;\">tags&nbsp;=&nbsp;[])</div></div></div>\n",
       "<script>\n",
       "(function() {\n",
       "  var expanded = false;\n",
       "  var ellipsis = document.getElementById(\"3315fe7f-c89b-4a68-8ff7-2f01512eab43\");\n",
       "  ellipsis.addEventListener(\"click\", function() {\n",
       "    var rows = document.getElementsByClassName(\"36c7a8c8-6437-447a-9b17-915a3542c78f\");\n",
       "    for (var i = 0; i < rows.length; i++) {\n",
       "      var el = rows[i];\n",
       "      el.style.display = expanded ? \"none\" : \"table-row\";\n",
       "    }\n",
       "    ellipsis.innerHTML = expanded ? \"&hellip;)\" : \"&lsaquo;&lsaquo;&lsaquo;\";\n",
       "    expanded = !expanded;\n",
       "  });\n",
       "})();\n",
       "</script>\n"
      ],
      "text/plain": [
       "ColumnDataSource(id='5d038870-93d6-499e-9fe6-c41c95765881', ...)"
      ]
     },
     "execution_count": 4,
     "metadata": {},
     "output_type": "execute_result"
    }
   ],
   "source": [
    "plotframe=ColumnDataSource(df)\n",
    "plotframe"
   ]
  },
  {
   "cell_type": "code",
   "execution_count": 5,
   "metadata": {
    "collapsed": false,
    "deletable": true,
    "editable": true
   },
   "outputs": [],
   "source": [
    "normal = ColumnDataSource(baseline)\n",
    "improved1 = ColumnDataSource(s1)\n",
    "improved2 = ColumnDataSource(s2)\n",
    "improved3 = ColumnDataSource(s3)"
   ]
  },
  {
   "cell_type": "markdown",
   "metadata": {
    "collapsed": false,
    "deletable": true,
    "editable": true
   },
   "source": [
    "\n",
    "scenarios"
   ]
  },
  {
   "cell_type": "markdown",
   "metadata": {
    "collapsed": false,
    "deletable": true,
    "editable": true
   },
   "source": [
    "retail=list(df[\"Retail price\"])\n",
    "retail"
   ]
  },
  {
   "cell_type": "code",
   "execution_count": 6,
   "metadata": {
    "collapsed": false,
    "deletable": true,
    "editable": true
   },
   "outputs": [],
   "source": [
    "plot = figure(plot_width=600, plot_height=400, x_range=[\"Normal rose\",\"Improved rose\"], y_range=(0, 13), title=\"Price of a Kenyan rose\", tools=\"\", logo=\"grey\")\n",
    "bluenormalbar= plot.vbar(\n",
    "    x=\"Scenario\", \n",
    "    width=0.5, \n",
    "    top=\"Retail price\", \n",
    "    color=\"MidnightBlue\", \n",
    "    legend=\"Market price\",\n",
    "    visible=True,\n",
    "    source=normal\n",
    "    )\n",
    "blueimprovedbar= plot.vbar(\n",
    "    x=\"Scenario\", \n",
    "    width=0.5, \n",
    "    top=\"Retail price\", \n",
    "    color=\"MidnightBlue\", \n",
    "    legend=\"Market price\",\n",
    "    visible=True,\n",
    "    source=improved1\n",
    "    )"
   ]
  },
  {
   "cell_type": "code",
   "execution_count": 7,
   "metadata": {
    "collapsed": false,
    "deletable": true,
    "editable": true
   },
   "outputs": [],
   "source": [
    "#this should change the source data of blueimproved, back and forth, but it does not do it.\n",
    "callback = CustomJS(args=(dict(improved=blueimprovedbar, s1=improved1, s2=improved2, s3=improved3)), code=\"\"\"\n",
    "    var source = improved.data_source;\n",
    "    \n",
    "    if (cb_obj.active == 0) {\n",
    "        source.data = s1.data\n",
    "    } else if (cb_obj.active == 1) {\n",
    "        source.data = s2.data\n",
    "    } else if (cb_obj.active == 2) {\n",
    "        source.data = s3.data\n",
    "    }\n",
    "    improved.trigger('change')\n",
    "    \"\"\")"
   ]
  },
  {
   "cell_type": "code",
   "execution_count": 8,
   "metadata": {
    "collapsed": false,
    "deletable": true,
    "editable": true
   },
   "outputs": [],
   "source": [
    "widgets = RadioGroup(\n",
    "    labels=[\"Water saving\", \"Living wage\",\"Water saving + Living wage\"], \n",
    "    callback=callback,\n",
    "    active=0\n",
    ")"
   ]
  },
  {
   "cell_type": "code",
   "execution_count": 9,
   "metadata": {
    "collapsed": false,
    "deletable": true,
    "editable": true,
    "scrolled": true
   },
   "outputs": [],
   "source": [
    "#output_notebook()\n",
    "\n"
   ]
  },
  {
   "cell_type": "code",
   "execution_count": 10,
   "metadata": {
    "collapsed": false,
    "deletable": true,
    "editable": true
   },
   "outputs": [],
   "source": [
    "from bokeh.io import output_file\n",
    "output_file(\"widgets.html\")"
   ]
  },
  {
   "cell_type": "code",
   "execution_count": 16,
   "metadata": {
    "collapsed": false,
    "deletable": true,
    "editable": true
   },
   "outputs": [],
   "source": [
    "layout=(column(widgetbox(widgets),plot, responsive=True, sizing_mode=\"scale_both\"))\n",
    "show(layout)"
   ]
  },
  {
   "cell_type": "code",
   "execution_count": 12,
   "metadata": {
    "collapsed": false,
    "deletable": true,
    "editable": true
   },
   "outputs": [
    {
     "data": {
      "text/plain": [
       "{'Retail price': [9],\n",
       " 'Scenario': ['Improved rose'],\n",
       " 'Social cost': [3],\n",
       " 'Water cost': [2],\n",
       " 'index': [1]}"
      ]
     },
     "execution_count": 12,
     "metadata": {},
     "output_type": "execute_result"
    }
   ],
   "source": [
    "improved1.data"
   ]
  },
  {
   "cell_type": "code",
   "execution_count": 13,
   "metadata": {
    "collapsed": false,
    "deletable": true,
    "editable": true
   },
   "outputs": [
    {
     "data": {
      "text/plain": [
       "{'Retail price': [11],\n",
       " 'Scenario': ['Improved rose'],\n",
       " 'Social cost': [1],\n",
       " 'Water cost': [5],\n",
       " 'index': [2]}"
      ]
     },
     "execution_count": 13,
     "metadata": {},
     "output_type": "execute_result"
    }
   ],
   "source": [
    "improved2.data"
   ]
  },
  {
   "cell_type": "code",
   "execution_count": 14,
   "metadata": {
    "collapsed": false,
    "deletable": true,
    "editable": true
   },
   "outputs": [
    {
     "data": {
      "text/plain": [
       "'\\nplot.vbar(\\n    x=[scenarios], \\n    width=0.5, \\n    top=df[\"Retail price\"]+df[\"Social cost\"], \\n    color = \"FireBrick\", \\n    bottom = df[\"Retail price\"], \\n    legend=\"Social cost\")\\nplot.vbar(\\n    x=[scenarios], \\n    width=0.5, \\n    top=df[\"Retail price\"]+df[\"Social cost\"]+df[\"Water cost\"], \\n    color = \"SeaGreen\", \\n    bottom = df[\"Retail price\"]+df[\"Social cost\"], \\n    legend=\"Water cost\"\\n    '"
      ]
     },
     "execution_count": 14,
     "metadata": {},
     "output_type": "execute_result"
    }
   ],
   "source": [
    "'''\n",
    "plot.vbar(\n",
    "    x=[scenarios], \n",
    "    width=0.5, \n",
    "    top=df[\"Retail price\"]+df[\"Social cost\"], \n",
    "    color = \"FireBrick\", \n",
    "    bottom = df[\"Retail price\"], \n",
    "    legend=\"Social cost\")\n",
    "plot.vbar(\n",
    "    x=[scenarios], \n",
    "    width=0.5, \n",
    "    top=df[\"Retail price\"]+df[\"Social cost\"]+df[\"Water cost\"], \n",
    "    color = \"SeaGreen\", \n",
    "    bottom = df[\"Retail price\"]+df[\"Social cost\"], \n",
    "    legend=\"Water cost\"\n",
    "    '''"
   ]
  },
  {
   "cell_type": "code",
   "execution_count": null,
   "metadata": {
    "collapsed": true,
    "deletable": true,
    "editable": true
   },
   "outputs": [],
   "source": []
  },
  {
   "cell_type": "code",
   "execution_count": null,
   "metadata": {
    "collapsed": true,
    "deletable": true,
    "editable": true
   },
   "outputs": [],
   "source": []
  },
  {
   "cell_type": "code",
   "execution_count": null,
   "metadata": {
    "collapsed": true,
    "deletable": true,
    "editable": true
   },
   "outputs": [],
   "source": []
  },
  {
   "cell_type": "code",
   "execution_count": null,
   "metadata": {
    "collapsed": true,
    "deletable": true,
    "editable": true
   },
   "outputs": [],
   "source": []
  },
  {
   "cell_type": "code",
   "execution_count": null,
   "metadata": {
    "collapsed": true,
    "deletable": true,
    "editable": true
   },
   "outputs": [],
   "source": []
  },
  {
   "cell_type": "code",
   "execution_count": null,
   "metadata": {
    "collapsed": true,
    "deletable": true,
    "editable": true
   },
   "outputs": [],
   "source": []
  },
  {
   "cell_type": "code",
   "execution_count": null,
   "metadata": {
    "collapsed": true,
    "deletable": true,
    "editable": true
   },
   "outputs": [],
   "source": []
  }
 ],
 "metadata": {
  "kernelspec": {
   "display_name": "Python 3",
   "language": "python",
   "name": "python3"
  },
  "language_info": {
   "codemirror_mode": {
    "name": "ipython",
    "version": 3
   },
   "file_extension": ".py",
   "mimetype": "text/x-python",
   "name": "python",
   "nbconvert_exporter": "python",
   "pygments_lexer": "ipython3",
   "version": "3.5.2"
  }
 },
 "nbformat": 4,
 "nbformat_minor": 0
}
