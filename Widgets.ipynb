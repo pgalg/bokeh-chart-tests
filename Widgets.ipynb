{
 "cells": [
  {
   "cell_type": "code",
   "execution_count": 1,
   "metadata": {
    "collapsed": false,
    "deletable": true,
    "editable": true
   },
   "outputs": [],
   "source": [
    "import pandas as pd\n",
    "\n",
    "from bokeh.io import show, output_notebook\n",
    "from bokeh.layouts import widgetbox, row\n",
    "from bokeh.models.widgets import RadioGroup\n",
    "from bokeh.models import CustomJS ,ColumnDataSource\n",
    "from bokeh.plotting import figure"
   ]
  },
  {
   "cell_type": "code",
   "execution_count": 237,
   "metadata": {
    "collapsed": false,
    "deletable": true,
    "editable": true
   },
   "outputs": [
    {
     "data": {
      "text/html": [
       "<div>\n",
       "<table border=\"1\" class=\"dataframe\">\n",
       "  <thead>\n",
       "    <tr style=\"text-align: right;\">\n",
       "      <th></th>\n",
       "      <th>Scenario</th>\n",
       "      <th>Retail price</th>\n",
       "      <th>Social cost</th>\n",
       "      <th>Water cost</th>\n",
       "    </tr>\n",
       "  </thead>\n",
       "  <tbody>\n",
       "    <tr>\n",
       "      <th>0</th>\n",
       "      <td>Normal rose</td>\n",
       "      <td>10</td>\n",
       "      <td>3</td>\n",
       "      <td>5</td>\n",
       "    </tr>\n",
       "    <tr>\n",
       "      <th>1</th>\n",
       "      <td>Water saving rose</td>\n",
       "      <td>9</td>\n",
       "      <td>3</td>\n",
       "      <td>2</td>\n",
       "    </tr>\n",
       "    <tr>\n",
       "      <th>2</th>\n",
       "      <td>Living wage rose</td>\n",
       "      <td>11</td>\n",
       "      <td>1</td>\n",
       "      <td>5</td>\n",
       "    </tr>\n",
       "    <tr>\n",
       "      <th>3</th>\n",
       "      <td>Water saving &amp; living wage rose</td>\n",
       "      <td>10</td>\n",
       "      <td>1</td>\n",
       "      <td>2</td>\n",
       "    </tr>\n",
       "  </tbody>\n",
       "</table>\n",
       "</div>"
      ],
      "text/plain": [
       "                          Scenario  Retail price  Social cost  Water cost\n",
       "0                      Normal rose            10            3           5\n",
       "1                Water saving rose             9            3           2\n",
       "2                 Living wage rose            11            1           5\n",
       "3  Water saving & living wage rose            10            1           2"
      ]
     },
     "execution_count": 237,
     "metadata": {},
     "output_type": "execute_result"
    }
   ],
   "source": [
    "df = pd.read_excel('TPbars.xlsx')\n",
    "baseline=df.iloc[0:1,0:4]\n",
    "s1=df.iloc[1:2,0:4] # water saving\n",
    "s2=df.iloc[2:3,0:4] # lw\n",
    "s3=df.iloc[3:4,0:4] # water saving and lw\n",
    "\n",
    "s1[\"Scenario\"] = \"Improved rose\"\n",
    "s2[\"Scenario\"] = \"Improved rose\"\n",
    "s3[\"Scenario\"] = \"Improved rose\"\n",
    "df"
   ]
  },
  {
   "cell_type": "code",
   "execution_count": 239,
   "metadata": {
    "collapsed": false
   },
   "outputs": [
    {
     "ename": "TypeError",
     "evalue": "cannot concatenate a non-NDFrame object",
     "traceback": [
      "\u001b[0;31m---------------------------------------------------------------------------\u001b[0m",
      "\u001b[0;31mTypeError\u001b[0m                                 Traceback (most recent call last)",
      "\u001b[0;32m<ipython-input-239-45e608d68df8>\u001b[0m in \u001b[0;36m<module>\u001b[0;34m()\u001b[0m\n\u001b[0;32m----> 1\u001b[0;31m \u001b[0mdf\u001b[0m\u001b[1;33m.\u001b[0m\u001b[0mappend\u001b[0m\u001b[1;33m(\u001b[0m\u001b[1;36m4\u001b[0m\u001b[1;33m,\u001b[0m\u001b[1;34m\"Improved rose\"\u001b[0m\u001b[1;33m)\u001b[0m\u001b[1;33m\u001b[0m\u001b[0m\n\u001b[0m\u001b[1;32m      2\u001b[0m \u001b[0mdf\u001b[0m\u001b[1;33m\u001b[0m\u001b[0m\n",
      "\u001b[0;32mc:\\program files (x86)\\python35-32\\lib\\site-packages\\pandas\\core\\frame.py\u001b[0m in \u001b[0;36mappend\u001b[0;34m(self, other, ignore_index, verify_integrity)\u001b[0m\n\u001b[1;32m   4433\u001b[0m             \u001b[0mto_concat\u001b[0m \u001b[1;33m=\u001b[0m \u001b[1;33m[\u001b[0m\u001b[0mself\u001b[0m\u001b[1;33m,\u001b[0m \u001b[0mother\u001b[0m\u001b[1;33m]\u001b[0m\u001b[1;33m\u001b[0m\u001b[0m\n\u001b[1;32m   4434\u001b[0m         return concat(to_concat, ignore_index=ignore_index,\n\u001b[0;32m-> 4435\u001b[0;31m                       verify_integrity=verify_integrity)\n\u001b[0m\u001b[1;32m   4436\u001b[0m \u001b[1;33m\u001b[0m\u001b[0m\n\u001b[1;32m   4437\u001b[0m     def join(self, other, on=None, how='left', lsuffix='', rsuffix='',\n",
      "\u001b[0;32mc:\\program files (x86)\\python35-32\\lib\\site-packages\\pandas\\tools\\merge.py\u001b[0m in \u001b[0;36mconcat\u001b[0;34m(objs, axis, join, join_axes, ignore_index, keys, levels, names, verify_integrity, copy)\u001b[0m\n\u001b[1;32m   1449\u001b[0m                        \u001b[0mkeys\u001b[0m\u001b[1;33m=\u001b[0m\u001b[0mkeys\u001b[0m\u001b[1;33m,\u001b[0m \u001b[0mlevels\u001b[0m\u001b[1;33m=\u001b[0m\u001b[0mlevels\u001b[0m\u001b[1;33m,\u001b[0m \u001b[0mnames\u001b[0m\u001b[1;33m=\u001b[0m\u001b[0mnames\u001b[0m\u001b[1;33m,\u001b[0m\u001b[1;33m\u001b[0m\u001b[0m\n\u001b[1;32m   1450\u001b[0m                        \u001b[0mverify_integrity\u001b[0m\u001b[1;33m=\u001b[0m\u001b[0mverify_integrity\u001b[0m\u001b[1;33m,\u001b[0m\u001b[1;33m\u001b[0m\u001b[0m\n\u001b[0;32m-> 1451\u001b[0;31m                        copy=copy)\n\u001b[0m\u001b[1;32m   1452\u001b[0m     \u001b[1;32mreturn\u001b[0m \u001b[0mop\u001b[0m\u001b[1;33m.\u001b[0m\u001b[0mget_result\u001b[0m\u001b[1;33m(\u001b[0m\u001b[1;33m)\u001b[0m\u001b[1;33m\u001b[0m\u001b[0m\n\u001b[1;32m   1453\u001b[0m \u001b[1;33m\u001b[0m\u001b[0m\n",
      "\u001b[0;32mc:\\program files (x86)\\python35-32\\lib\\site-packages\\pandas\\tools\\merge.py\u001b[0m in \u001b[0;36m__init__\u001b[0;34m(self, objs, axis, join, join_axes, keys, levels, names, ignore_index, verify_integrity, copy)\u001b[0m\n\u001b[1;32m   1506\u001b[0m         \u001b[1;32mfor\u001b[0m \u001b[0mobj\u001b[0m \u001b[1;32min\u001b[0m \u001b[0mobjs\u001b[0m\u001b[1;33m:\u001b[0m\u001b[1;33m\u001b[0m\u001b[0m\n\u001b[1;32m   1507\u001b[0m             \u001b[1;32mif\u001b[0m \u001b[1;32mnot\u001b[0m \u001b[0misinstance\u001b[0m\u001b[1;33m(\u001b[0m\u001b[0mobj\u001b[0m\u001b[1;33m,\u001b[0m \u001b[0mNDFrame\u001b[0m\u001b[1;33m)\u001b[0m\u001b[1;33m:\u001b[0m\u001b[1;33m\u001b[0m\u001b[0m\n\u001b[0;32m-> 1508\u001b[0;31m                 \u001b[1;32mraise\u001b[0m \u001b[0mTypeError\u001b[0m\u001b[1;33m(\u001b[0m\u001b[1;34m\"cannot concatenate a non-NDFrame object\"\u001b[0m\u001b[1;33m)\u001b[0m\u001b[1;33m\u001b[0m\u001b[0m\n\u001b[0m\u001b[1;32m   1509\u001b[0m \u001b[1;33m\u001b[0m\u001b[0m\n\u001b[1;32m   1510\u001b[0m             \u001b[1;31m# consolidate\u001b[0m\u001b[1;33m\u001b[0m\u001b[1;33m\u001b[0m\u001b[0m\n",
      "\u001b[0;31mTypeError\u001b[0m: cannot concatenate a non-NDFrame object"
     ],
     "output_type": "error"
    }
   ],
   "source": [
    "df.append(4,\"Improved rose\")\n",
    "df"
   ]
  },
  {
   "cell_type": "code",
   "execution_count": 226,
   "metadata": {
    "collapsed": false
   },
   "outputs": [
    {
     "data": {
      "text/html": [
       "<div style=\"display: table;\"><div style=\"display: table-row;\"><div style=\"display: table-cell;\"><b title=\"bokeh.models.sources.ColumnDataSource\">ColumnDataSource</b>(</div><div style=\"display: table-cell;\">id&nbsp;=&nbsp;'e7ab3674-5688-4d22-8d86-cba332b0004d', <span id=\"9251aec3-2fcd-4dd9-852d-89d8d35f21b7\" style=\"cursor: pointer;\">&hellip;)</span></div></div><div class=\"12283cb4-9967-444c-bd87-7d196ac5846d\" style=\"display: none;\"><div style=\"display: table-cell;\"></div><div style=\"display: table-cell;\">callback&nbsp;=&nbsp;None,</div></div><div class=\"12283cb4-9967-444c-bd87-7d196ac5846d\" style=\"display: none;\"><div style=\"display: table-cell;\"></div><div style=\"display: table-cell;\">column_names&nbsp;=&nbsp;['index', 'Scenario', 'Social cost', 'Retail price', 'Water cost'],</div></div><div class=\"12283cb4-9967-444c-bd87-7d196ac5846d\" style=\"display: none;\"><div style=\"display: table-cell;\"></div><div style=\"display: table-cell;\">data&nbsp;=&nbsp;{'index': [0, 1, 2, 3], 'Scenario': ['Normal rose', 'Water saving rose', 'Living wage rose', 'Water saving & living wage rose'], 'Social cost': [3, 3, 1, 1], 'Retail price': [10, 9, 11, 10], 'Water cost': [5, 2, 5, 2]},</div></div><div class=\"12283cb4-9967-444c-bd87-7d196ac5846d\" style=\"display: none;\"><div style=\"display: table-cell;\"></div><div style=\"display: table-cell;\">js_callbacks&nbsp;=&nbsp;{},</div></div><div class=\"12283cb4-9967-444c-bd87-7d196ac5846d\" style=\"display: none;\"><div style=\"display: table-cell;\"></div><div style=\"display: table-cell;\">name&nbsp;=&nbsp;None,</div></div><div class=\"12283cb4-9967-444c-bd87-7d196ac5846d\" style=\"display: none;\"><div style=\"display: table-cell;\"></div><div style=\"display: table-cell;\">selected&nbsp;=&nbsp;{'1d': {'indices': []}, '0d': {'glyph': None, 'indices': []}, '2d': {}},</div></div><div class=\"12283cb4-9967-444c-bd87-7d196ac5846d\" style=\"display: none;\"><div style=\"display: table-cell;\"></div><div style=\"display: table-cell;\">tags&nbsp;=&nbsp;[])</div></div></div>\n",
       "<script>\n",
       "(function() {\n",
       "  var expanded = false;\n",
       "  var ellipsis = document.getElementById(\"9251aec3-2fcd-4dd9-852d-89d8d35f21b7\");\n",
       "  ellipsis.addEventListener(\"click\", function() {\n",
       "    var rows = document.getElementsByClassName(\"12283cb4-9967-444c-bd87-7d196ac5846d\");\n",
       "    for (var i = 0; i < rows.length; i++) {\n",
       "      var el = rows[i];\n",
       "      el.style.display = expanded ? \"none\" : \"table-row\";\n",
       "    }\n",
       "    ellipsis.innerHTML = expanded ? \"&hellip;)\" : \"&lsaquo;&lsaquo;&lsaquo;\";\n",
       "    expanded = !expanded;\n",
       "  });\n",
       "})();\n",
       "</script>\n"
      ],
      "text/plain": [
       "ColumnDataSource(id='e7ab3674-5688-4d22-8d86-cba332b0004d', ...)"
      ]
     },
     "execution_count": 226,
     "metadata": {},
     "output_type": "execute_result"
    }
   ],
   "source": [
    "plotframe=ColumnDataSource(df)\n",
    "plotframe"
   ]
  },
  {
   "cell_type": "code",
   "execution_count": 92,
   "metadata": {
    "collapsed": false
   },
   "outputs": [
    {
     "data": {
      "text/plain": [
       "{'Retail price': [10],\n",
       " 'Scenario': ['Improved rose'],\n",
       " 'Social cost': [1],\n",
       " 'Water cost': [2],\n",
       " 'index': [3]}"
      ]
     },
     "execution_count": 92,
     "metadata": {},
     "output_type": "execute_result"
    }
   ],
   "source": [
    "normal = ColumnDataSource(baseline)\n",
    "improved1 = ColumnDataSource(s1)\n",
    "improved2 = ColumnDataSource(s2)\n",
    "improved3 = ColumnDataSource(s3)"
   ]
  },
  {
   "cell_type": "markdown",
   "metadata": {
    "collapsed": false,
    "deletable": true,
    "editable": true
   },
   "source": [
    "\n",
    "scenarios"
   ]
  },
  {
   "cell_type": "markdown",
   "metadata": {
    "collapsed": false,
    "deletable": true,
    "editable": true
   },
   "source": [
    "retail=list(df[\"Retail price\"])\n",
    "retail"
   ]
  },
  {
   "cell_type": "code",
   "execution_count": null,
   "metadata": {
    "collapsed": false,
    "deletable": true,
    "editable": true
   },
   "outputs": [],
   "source": [
    ""
   ]
  },
  {
   "cell_type": "code",
   "execution_count": 349,
   "metadata": {
    "collapsed": false,
    "deletable": true,
    "editable": true
   },
   "outputs": [],
   "source": [
    "plot = figure(plot_width=600, plot_height=400, x_range=[\"Normal rose\",\"Improved rose\"], y_range=(0, 13), title=\"Price of a Kenyan rose\", tools=\"\", logo=\"grey\")\n",
    "bluenormalbar= plot.vbar(\n",
    "    x=\"Scenario\", \n",
    "    width=0.5, \n",
    "    top=\"Retail price\", \n",
    "    color=\"MidnightBlue\", \n",
    "    legend=\"Market price\",\n",
    "    visible=True,\n",
    "    source=normal\n",
    "    )\n",
    "blueimprovedbar= plot.vbar(\n",
    "    x=\"Scenario\", \n",
    "    width=0.5, \n",
    "    top=\"Retail price\", \n",
    "    color=\"MidnightBlue\", \n",
    "    legend=\"Market price\",\n",
    "    visible=True,\n",
    "    source=improved1\n",
    "    )"
   ]
  },
  {
   "cell_type": "code",
   "execution_count": 350,
   "metadata": {
    "collapsed": false,
    "deletable": true,
    "editable": true
   },
   "outputs": [],
   "source": [
    "#this should change the source data of blueimproved, back and forth, but it does not do it.\n",
    "callback = CustomJS(args=(dict(improved=blueimprovedbar, s1=improved1, s2=improved2, s3=improved3)), code=\"\"\"\n",
    "    var source = improved.data_source;\n",
    "    \n",
    "    if (cb_obj.active == 0) {\n",
    "        source.data = s1.data\n",
    "    } else if (cb_obj.active == 1) {\n",
    "        source.data = s2.data\n",
    "    } else if (cb_obj.active == 2) {\n",
    "        source.data = s3.data\n",
    "    }\n",
    "    improved.trigger('change')\n",
    "    \"\"\")"
   ]
  },
  {
   "cell_type": "code",
   "execution_count": 358,
   "metadata": {
    "collapsed": false,
    "deletable": true,
    "editable": true
   },
   "outputs": [],
   "source": [
    "widgets = RadioGroup(\n",
    "    labels=[\"Water saving\", \"Living wage\",\"Water saving + Living wage\"], \n",
    "    callback=callback\n",
    "    active=0\n",
    ")"
   ]
  },
  {
   "cell_type": "code",
   "execution_count": 362,
   "metadata": {
    "collapsed": false,
    "deletable": true,
    "editable": true,
    "scrolled": true
   },
   "outputs": [
    {
     "data": {
      "text/html": [
       "\n",
       "    <div class=\"bk-root\">\n",
       "        <a href=\"http://bokeh.pydata.org\" target=\"_blank\" class=\"bk-logo bk-logo-small bk-logo-notebook\"></a>\n",
       "        <span id=\"4156c133-791b-417e-aa56-be97f1db741b\">Loading BokehJS ...</span>\n",
       "    </div>"
      ]
     },
     "metadata": {},
     "output_type": "execute_result"
    },
    {
     "data": {},
     "metadata": {},
     "output_type": "display_data"
    },
    {
     "data": {
      "text/plain": [
       "{'Retail price': [9],\n",
       " 'Scenario': ['Improved rose'],\n",
       " 'Social cost': [3],\n",
       " 'Water cost': [2],\n",
       " 'index': [1]}"
      ]
     },
     "execution_count": 362,
     "metadata": {},
     "output_type": "execute_result"
    }
   ],
   "source": [
    "output_notebook()\n",
    "improved1.data"
   ]
  },
  {
   "cell_type": "code",
   "execution_count": 360,
   "metadata": {
    "collapsed": false,
    "deletable": true,
    "editable": true
   },
   "outputs": [
    {
     "data": {
      "text/html": [
       "\n",
       "\n",
       "    <div class=\"bk-root\">\n",
       "        <div class=\"bk-plotdiv\" id=\"580faa86-38ae-469f-8868-0d515d6e656e\"></div>\n",
       "    </div>\n",
       "<script type=\"text/javascript\">\n",
       "  \n",
       "  (function(global) {\n",
       "    function now() {\n",
       "      return new Date();\n",
       "    }\n",
       "  \n",
       "    var force = false;\n",
       "  \n",
       "    if (typeof (window._bokeh_onload_callbacks) === \"undefined\" || force === true) {\n",
       "      window._bokeh_onload_callbacks = [];\n",
       "      window._bokeh_is_loading = undefined;\n",
       "    }\n",
       "  \n",
       "  \n",
       "    \n",
       "    if (typeof (window._bokeh_timeout) === \"undefined\" || force === true) {\n",
       "      window._bokeh_timeout = Date.now() + 0;\n",
       "      window._bokeh_failed_load = false;\n",
       "    }\n",
       "  \n",
       "    var NB_LOAD_WARNING = {'data': {'text/html':\n",
       "       \"<div style='background-color: #fdd'>\\n\"+\n",
       "       \"<p>\\n\"+\n",
       "       \"BokehJS does not appear to have successfully loaded. If loading BokehJS from CDN, this \\n\"+\n",
       "       \"may be due to a slow or bad network connection. Possible fixes:\\n\"+\n",
       "       \"</p>\\n\"+\n",
       "       \"<ul>\\n\"+\n",
       "       \"<li>re-rerun `output_notebook()` to attempt to load from CDN again, or</li>\\n\"+\n",
       "       \"<li>use INLINE resources instead, as so:</li>\\n\"+\n",
       "       \"</ul>\\n\"+\n",
       "       \"<code>\\n\"+\n",
       "       \"from bokeh.resources import INLINE\\n\"+\n",
       "       \"output_notebook(resources=INLINE)\\n\"+\n",
       "       \"</code>\\n\"+\n",
       "       \"</div>\"}};\n",
       "  \n",
       "    function display_loaded() {\n",
       "      if (window.Bokeh !== undefined) {\n",
       "        document.getElementById(\"580faa86-38ae-469f-8868-0d515d6e656e\").textContent = \"BokehJS successfully loaded.\";\n",
       "      } else if (Date.now() < window._bokeh_timeout) {\n",
       "        setTimeout(display_loaded, 100)\n",
       "      }\n",
       "    }\n",
       "  \n",
       "    function run_callbacks() {\n",
       "      window._bokeh_onload_callbacks.forEach(function(callback) { callback() });\n",
       "      delete window._bokeh_onload_callbacks\n",
       "      console.info(\"Bokeh: all callbacks have finished\");\n",
       "    }\n",
       "  \n",
       "    function load_libs(js_urls, callback) {\n",
       "      window._bokeh_onload_callbacks.push(callback);\n",
       "      if (window._bokeh_is_loading > 0) {\n",
       "        console.log(\"Bokeh: BokehJS is being loaded, scheduling callback at\", now());\n",
       "        return null;\n",
       "      }\n",
       "      if (js_urls == null || js_urls.length === 0) {\n",
       "        run_callbacks();\n",
       "        return null;\n",
       "      }\n",
       "      console.log(\"Bokeh: BokehJS not loaded, scheduling load and callback at\", now());\n",
       "      window._bokeh_is_loading = js_urls.length;\n",
       "      for (var i = 0; i < js_urls.length; i++) {\n",
       "        var url = js_urls[i];\n",
       "        var s = document.createElement('script');\n",
       "        s.src = url;\n",
       "        s.async = false;\n",
       "        s.onreadystatechange = s.onload = function() {\n",
       "          window._bokeh_is_loading--;\n",
       "          if (window._bokeh_is_loading === 0) {\n",
       "            console.log(\"Bokeh: all BokehJS libraries loaded\");\n",
       "            run_callbacks()\n",
       "          }\n",
       "        };\n",
       "        s.onerror = function() {\n",
       "          console.warn(\"failed to load library \" + url);\n",
       "        };\n",
       "        console.log(\"Bokeh: injecting script tag for BokehJS library: \", url);\n",
       "        document.getElementsByTagName(\"head\")[0].appendChild(s);\n",
       "      }\n",
       "    };var element = document.getElementById(\"580faa86-38ae-469f-8868-0d515d6e656e\");\n",
       "    if (element == null) {\n",
       "      console.log(\"Bokeh: ERROR: autoload.js configured with elementid '580faa86-38ae-469f-8868-0d515d6e656e' but no matching script tag was found. \")\n",
       "      return false;\n",
       "    }\n",
       "  \n",
       "    var js_urls = [];\n",
       "  \n",
       "    var inline_js = [\n",
       "      function(Bokeh) {\n",
       "        (function() {\n",
       "          var fn = function() {\n",
       "            var docs_json = {\"976b97c2-42f8-4ab0-9494-a43a5a76e477\":{\"roots\":{\"references\":[{\"attributes\":{\"data_source\":{\"id\":\"72203806-ce7e-4c75-9af5-88bd18791b07\",\"type\":\"ColumnDataSource\"},\"glyph\":{\"id\":\"25be9895-b69a-4404-9bae-12cc50c60d7c\",\"type\":\"VBar\"},\"hover_glyph\":null,\"nonselection_glyph\":{\"id\":\"5b6c56b7-92c8-4774-8c70-a8015b13d945\",\"type\":\"VBar\"},\"selection_glyph\":null},\"id\":\"f5d3fc8c-762a-4c6e-ab50-beec9a2fe955\",\"type\":\"GlyphRenderer\"},{\"attributes\":{\"label\":{\"value\":\"Market price\"},\"renderers\":[{\"id\":\"2ed6b2cf-249d-4142-bf62-1e282ef82784\",\"type\":\"GlyphRenderer\"},{\"id\":\"f5d3fc8c-762a-4c6e-ab50-beec9a2fe955\",\"type\":\"GlyphRenderer\"}]},\"id\":\"6e790eb6-baa5-47dd-88b7-68062c4b7b32\",\"type\":\"LegendItem\"},{\"attributes\":{},\"id\":\"f5d40dd2-a95e-4624-ba67-5906800e2004\",\"type\":\"BasicTicker\"},{\"attributes\":{\"dimension\":1,\"plot\":{\"id\":\"73295e9f-f2e1-4648-a6e4-f86259d97e87\",\"subtype\":\"Figure\",\"type\":\"Plot\"},\"ticker\":{\"id\":\"f5d40dd2-a95e-4624-ba67-5906800e2004\",\"type\":\"BasicTicker\"}},\"id\":\"5ac0206b-dce1-4b1e-98bb-098aa70afd44\",\"type\":\"Grid\"},{\"attributes\":{},\"id\":\"08e34074-efa9-4b5f-b49c-30f836b32126\",\"type\":\"BasicTickFormatter\"},{\"attributes\":{\"data_source\":{\"id\":\"b592f6c0-46de-4b3f-ab5e-fd311dec5c0d\",\"type\":\"ColumnDataSource\"},\"glyph\":{\"id\":\"f115fab8-fdfc-4424-8786-09f7a88239f8\",\"type\":\"VBar\"},\"hover_glyph\":null,\"nonselection_glyph\":{\"id\":\"514e9dab-59bb-42ae-8bd0-7805a2817503\",\"type\":\"VBar\"},\"selection_glyph\":null},\"id\":\"2ed6b2cf-249d-4142-bf62-1e282ef82784\",\"type\":\"GlyphRenderer\"},{\"attributes\":{\"active_drag\":\"auto\",\"active_scroll\":\"auto\",\"active_tap\":\"auto\",\"logo\":\"grey\"},\"id\":\"3504ca4a-f4df-47f7-90e1-15519630aa6f\",\"type\":\"Toolbar\"},{\"attributes\":{\"callback\":null,\"end\":13},\"id\":\"d0b129bc-f14f-488c-a03e-055770ef1dfe\",\"type\":\"Range1d\"},{\"attributes\":{\"callback\":null,\"column_names\":[\"index\",\"Scenario\",\"Social cost\",\"Retail price\",\"Water cost\"],\"data\":{\"Retail price\":[10],\"Scenario\":[\"Improved rose\"],\"Social cost\":[1],\"Water cost\":[2],\"index\":[3]}},\"id\":\"efce9006-5f06-4c90-81d7-d42664e3312d\",\"type\":\"ColumnDataSource\"},{\"attributes\":{\"args\":{\"improved\":{\"id\":\"f5d3fc8c-762a-4c6e-ab50-beec9a2fe955\",\"type\":\"GlyphRenderer\"},\"s1\":{\"id\":\"72203806-ce7e-4c75-9af5-88bd18791b07\",\"type\":\"ColumnDataSource\"},\"s2\":{\"id\":\"73d9fbd9-6326-447e-9196-73139babbe13\",\"type\":\"ColumnDataSource\"},\"s3\":{\"id\":\"efce9006-5f06-4c90-81d7-d42664e3312d\",\"type\":\"ColumnDataSource\"}},\"code\":\"\\n    var source = improved.data_source;\\n    \\n    if (cb_obj.active == 0) {\\n        source.data = s1.data\\n    } else if (cb_obj.active == 1) {\\n        source.data = s2.data\\n    } else if (cb_obj.active == 2) {\\n        source.data = s3.data\\n    }\\n//    improved.trigger('change')\\n    \"},\"id\":\"5b4443de-5b6d-4c0b-92fd-acd876ab725d\",\"type\":\"CustomJS\"},{\"attributes\":{\"children\":[{\"id\":\"df957b0e-b464-4d87-bb27-2f1c1623133b\",\"type\":\"WidgetBox\"},{\"id\":\"73295e9f-f2e1-4648-a6e4-f86259d97e87\",\"subtype\":\"Figure\",\"type\":\"Plot\"}]},\"id\":\"117aae88-3807-450c-af53-219a6acc9eb2\",\"type\":\"Row\"},{\"attributes\":{\"formatter\":{\"id\":\"08e34074-efa9-4b5f-b49c-30f836b32126\",\"type\":\"BasicTickFormatter\"},\"plot\":{\"id\":\"73295e9f-f2e1-4648-a6e4-f86259d97e87\",\"subtype\":\"Figure\",\"type\":\"Plot\"},\"ticker\":{\"id\":\"f5d40dd2-a95e-4624-ba67-5906800e2004\",\"type\":\"BasicTicker\"}},\"id\":\"b92a5a63-de9d-4621-91e6-20ef468d7cab\",\"type\":\"LinearAxis\"},{\"attributes\":{\"fill_alpha\":{\"value\":0.1},\"fill_color\":{\"value\":\"#1f77b4\"},\"line_alpha\":{\"value\":0.1},\"line_color\":{\"value\":\"#1f77b4\"},\"top\":{\"field\":\"Retail price\"},\"width\":{\"value\":0.5},\"x\":{\"field\":\"Scenario\"}},\"id\":\"5b6c56b7-92c8-4774-8c70-a8015b13d945\",\"type\":\"VBar\"},{\"attributes\":{},\"id\":\"c642a868-4ad2-4fb2-a3c0-ebbdbe63aa4e\",\"type\":\"CategoricalTicker\"},{\"attributes\":{},\"id\":\"41148452-10dd-423e-ab08-f0b495c7e8ea\",\"type\":\"CategoricalTickFormatter\"},{\"attributes\":{\"children\":[{\"id\":\"638972f0-781e-4076-9975-80378dc07ee3\",\"type\":\"RadioGroup\"}]},\"id\":\"df957b0e-b464-4d87-bb27-2f1c1623133b\",\"type\":\"WidgetBox\"},{\"attributes\":{\"callback\":null,\"column_names\":[\"index\",\"Scenario\",\"Social cost\",\"Retail price\",\"Water cost\"],\"data\":{\"Retail price\":[10],\"Scenario\":[\"Normal rose\"],\"Social cost\":[3],\"Water cost\":[5],\"index\":[0]}},\"id\":\"b592f6c0-46de-4b3f-ab5e-fd311dec5c0d\",\"type\":\"ColumnDataSource\"},{\"attributes\":{\"callback\":null,\"column_names\":[\"index\",\"Scenario\",\"Social cost\",\"Retail price\",\"Water cost\"],\"data\":{\"Retail price\":[11],\"Scenario\":[\"Improved rose\"],\"Social cost\":[1],\"Water cost\":[5],\"index\":[2]}},\"id\":\"73d9fbd9-6326-447e-9196-73139babbe13\",\"type\":\"ColumnDataSource\"},{\"attributes\":{\"formatter\":{\"id\":\"41148452-10dd-423e-ab08-f0b495c7e8ea\",\"type\":\"CategoricalTickFormatter\"},\"plot\":{\"id\":\"73295e9f-f2e1-4648-a6e4-f86259d97e87\",\"subtype\":\"Figure\",\"type\":\"Plot\"},\"ticker\":{\"id\":\"c642a868-4ad2-4fb2-a3c0-ebbdbe63aa4e\",\"type\":\"CategoricalTicker\"}},\"id\":\"5d8dec9e-3fd6-493e-8759-fe0293c4ec22\",\"type\":\"CategoricalAxis\"},{\"attributes\":{},\"id\":\"c25cb523-f8c5-4977-a04b-7ea82381d64f\",\"type\":\"ToolEvents\"},{\"attributes\":{\"below\":[{\"id\":\"5d8dec9e-3fd6-493e-8759-fe0293c4ec22\",\"type\":\"CategoricalAxis\"}],\"left\":[{\"id\":\"b92a5a63-de9d-4621-91e6-20ef468d7cab\",\"type\":\"LinearAxis\"}],\"plot_height\":400,\"renderers\":[{\"id\":\"5d8dec9e-3fd6-493e-8759-fe0293c4ec22\",\"type\":\"CategoricalAxis\"},{\"id\":\"93ad50d3-eff4-4ca5-a749-e4dd4ed275b4\",\"type\":\"Grid\"},{\"id\":\"b92a5a63-de9d-4621-91e6-20ef468d7cab\",\"type\":\"LinearAxis\"},{\"id\":\"5ac0206b-dce1-4b1e-98bb-098aa70afd44\",\"type\":\"Grid\"},{\"id\":\"b0cd6359-2023-4b9f-8ee6-d2a8c42b0243\",\"type\":\"Legend\"},{\"id\":\"2ed6b2cf-249d-4142-bf62-1e282ef82784\",\"type\":\"GlyphRenderer\"},{\"id\":\"f5d3fc8c-762a-4c6e-ab50-beec9a2fe955\",\"type\":\"GlyphRenderer\"}],\"title\":{\"id\":\"301e330b-7c8f-4b97-8b89-42cd13b73671\",\"type\":\"Title\"},\"tool_events\":{\"id\":\"c25cb523-f8c5-4977-a04b-7ea82381d64f\",\"type\":\"ToolEvents\"},\"toolbar\":{\"id\":\"3504ca4a-f4df-47f7-90e1-15519630aa6f\",\"type\":\"Toolbar\"},\"x_range\":{\"id\":\"9c01f4c5-5f11-42fb-a15a-0a8b953bdd50\",\"type\":\"FactorRange\"},\"y_range\":{\"id\":\"d0b129bc-f14f-488c-a03e-055770ef1dfe\",\"type\":\"Range1d\"}},\"id\":\"73295e9f-f2e1-4648-a6e4-f86259d97e87\",\"subtype\":\"Figure\",\"type\":\"Plot\"},{\"attributes\":{\"callback\":null,\"column_names\":[\"index\",\"Scenario\",\"Social cost\",\"Retail price\",\"Water cost\"],\"data\":{\"Retail price\":[9],\"Scenario\":[\"Improved rose\"],\"Social cost\":[3],\"Water cost\":[2],\"index\":[1]}},\"id\":\"72203806-ce7e-4c75-9af5-88bd18791b07\",\"type\":\"ColumnDataSource\"},{\"attributes\":{\"fill_color\":{\"value\":\"MidnightBlue\"},\"line_color\":{\"value\":\"MidnightBlue\"},\"top\":{\"field\":\"Retail price\"},\"width\":{\"value\":0.5},\"x\":{\"field\":\"Scenario\"}},\"id\":\"25be9895-b69a-4404-9bae-12cc50c60d7c\",\"type\":\"VBar\"},{\"attributes\":{\"callback\":{\"id\":\"5b4443de-5b6d-4c0b-92fd-acd876ab725d\",\"type\":\"CustomJS\"},\"labels\":[\"Water saving\",\"Living wage\",\"Water saving + Living wage\"]},\"id\":\"638972f0-781e-4076-9975-80378dc07ee3\",\"type\":\"RadioGroup\"},{\"attributes\":{\"items\":[{\"id\":\"6e790eb6-baa5-47dd-88b7-68062c4b7b32\",\"type\":\"LegendItem\"}],\"plot\":{\"id\":\"73295e9f-f2e1-4648-a6e4-f86259d97e87\",\"subtype\":\"Figure\",\"type\":\"Plot\"}},\"id\":\"b0cd6359-2023-4b9f-8ee6-d2a8c42b0243\",\"type\":\"Legend\"},{\"attributes\":{\"fill_alpha\":{\"value\":0.1},\"fill_color\":{\"value\":\"#1f77b4\"},\"line_alpha\":{\"value\":0.1},\"line_color\":{\"value\":\"#1f77b4\"},\"top\":{\"field\":\"Retail price\"},\"width\":{\"value\":0.5},\"x\":{\"field\":\"Scenario\"}},\"id\":\"514e9dab-59bb-42ae-8bd0-7805a2817503\",\"type\":\"VBar\"},{\"attributes\":{\"fill_color\":{\"value\":\"MidnightBlue\"},\"line_color\":{\"value\":\"MidnightBlue\"},\"top\":{\"field\":\"Retail price\"},\"width\":{\"value\":0.5},\"x\":{\"field\":\"Scenario\"}},\"id\":\"f115fab8-fdfc-4424-8786-09f7a88239f8\",\"type\":\"VBar\"},{\"attributes\":{\"callback\":null,\"factors\":[\"Normal rose\",\"Improved rose\"]},\"id\":\"9c01f4c5-5f11-42fb-a15a-0a8b953bdd50\",\"type\":\"FactorRange\"},{\"attributes\":{\"plot\":{\"id\":\"73295e9f-f2e1-4648-a6e4-f86259d97e87\",\"subtype\":\"Figure\",\"type\":\"Plot\"},\"ticker\":{\"id\":\"c642a868-4ad2-4fb2-a3c0-ebbdbe63aa4e\",\"type\":\"CategoricalTicker\"}},\"id\":\"93ad50d3-eff4-4ca5-a749-e4dd4ed275b4\",\"type\":\"Grid\"},{\"attributes\":{\"plot\":null,\"text\":\"Price of a Kenyan rose\"},\"id\":\"301e330b-7c8f-4b97-8b89-42cd13b73671\",\"type\":\"Title\"}],\"root_ids\":[\"117aae88-3807-450c-af53-219a6acc9eb2\"]},\"title\":\"Bokeh Application\",\"version\":\"0.12.4\"}};\n",
       "            var render_items = [{\"docid\":\"976b97c2-42f8-4ab0-9494-a43a5a76e477\",\"elementid\":\"580faa86-38ae-469f-8868-0d515d6e656e\",\"modelid\":\"117aae88-3807-450c-af53-219a6acc9eb2\"}];\n",
       "            \n",
       "            Bokeh.embed.embed_items(docs_json, render_items);\n",
       "          };\n",
       "          if (document.readyState != \"loading\") fn();\n",
       "          else document.addEventListener(\"DOMContentLoaded\", fn);\n",
       "        })();\n",
       "      },\n",
       "      function(Bokeh) {\n",
       "      }\n",
       "    ];\n",
       "  \n",
       "    function run_inline_js() {\n",
       "      \n",
       "      if ((window.Bokeh !== undefined) || (force === true)) {\n",
       "        for (var i = 0; i < inline_js.length; i++) {\n",
       "          inline_js[i](window.Bokeh);\n",
       "        }if (force === true) {\n",
       "          display_loaded();\n",
       "        }} else if (Date.now() < window._bokeh_timeout) {\n",
       "        setTimeout(run_inline_js, 100);\n",
       "      } else if (!window._bokeh_failed_load) {\n",
       "        console.log(\"Bokeh: BokehJS failed to load within specified timeout.\");\n",
       "        window._bokeh_failed_load = true;\n",
       "      } else if (force !== true) {\n",
       "        var cell = $(document.getElementById(\"580faa86-38ae-469f-8868-0d515d6e656e\")).parents('.cell').data().cell;\n",
       "        cell.output_area.append_execute_result(NB_LOAD_WARNING)\n",
       "      }\n",
       "  \n",
       "    }\n",
       "  \n",
       "    if (window._bokeh_is_loading === 0) {\n",
       "      console.log(\"Bokeh: BokehJS loaded, going straight to plotting\");\n",
       "      run_inline_js();\n",
       "    } else {\n",
       "      load_libs(js_urls, function() {\n",
       "        console.log(\"Bokeh: BokehJS plotting callback run at\", now());\n",
       "        run_inline_js();\n",
       "      });\n",
       "    }\n",
       "  }(this));\n",
       "</script>"
      ]
     },
     "metadata": {},
     "output_type": "execute_result"
    }
   ],
   "source": [
    "layout=(row(widgetbox(widgets),plot))\n",
    "show(layout)"
   ]
  },
  {
   "cell_type": "code",
   "execution_count": 361,
   "metadata": {
    "collapsed": false
   },
   "outputs": [
    {
     "data": {
      "text/plain": [
       "{'Retail price': [9],\n",
       " 'Scenario': ['Improved rose'],\n",
       " 'Social cost': [3],\n",
       " 'Water cost': [2],\n",
       " 'index': [1]}"
      ]
     },
     "execution_count": 361,
     "metadata": {},
     "output_type": "execute_result"
    }
   ],
   "source": [
    "improved1.data"
   ]
  },
  {
   "cell_type": "code",
   "execution_count": 297,
   "metadata": {
    "collapsed": false,
    "deletable": true,
    "editable": true
   },
   "outputs": [
    {
     "data": {
      "text/plain": [
       "{'Retail price': [11],\n",
       " 'Scenario': ['Improved rose'],\n",
       " 'Social cost': [1],\n",
       " 'Water cost': [5],\n",
       " 'index': [2]}"
      ]
     },
     "execution_count": 297,
     "metadata": {},
     "output_type": "execute_result"
    }
   ],
   "source": [
    "improved2.data"
   ]
  },
  {
   "cell_type": "code",
   "execution_count": 138,
   "metadata": {
    "collapsed": false,
    "deletable": true,
    "editable": true
   },
   "outputs": [
    {
     "data": {
      "text/plain": [
       "'\\nplot.vbar(\\n    x=[scenarios], \\n    width=0.5, \\n    top=df[\"Retail price\"]+df[\"Social cost\"], \\n    color = \"FireBrick\", \\n    bottom = df[\"Retail price\"], \\n    legend=\"Social cost\")\\nplot.vbar(\\n    x=[scenarios], \\n    width=0.5, \\n    top=df[\"Retail price\"]+df[\"Social cost\"]+df[\"Water cost\"], \\n    color = \"SeaGreen\", \\n    bottom = df[\"Retail price\"]+df[\"Social cost\"], \\n    legend=\"Water cost\"\\n    '"
      ]
     },
     "execution_count": 138,
     "metadata": {},
     "output_type": "execute_result"
    }
   ],
   "source": [
    "'''\n",
    "plot.vbar(\n",
    "    x=[scenarios], \n",
    "    width=0.5, \n",
    "    top=df[\"Retail price\"]+df[\"Social cost\"], \n",
    "    color = \"FireBrick\", \n",
    "    bottom = df[\"Retail price\"], \n",
    "    legend=\"Social cost\")\n",
    "plot.vbar(\n",
    "    x=[scenarios], \n",
    "    width=0.5, \n",
    "    top=df[\"Retail price\"]+df[\"Social cost\"]+df[\"Water cost\"], \n",
    "    color = \"SeaGreen\", \n",
    "    bottom = df[\"Retail price\"]+df[\"Social cost\"], \n",
    "    legend=\"Water cost\"\n",
    "    '''"
   ]
  },
  {
   "cell_type": "code",
   "execution_count": null,
   "metadata": {
    "collapsed": true,
    "deletable": true,
    "editable": true
   },
   "outputs": [],
   "source": [
    ""
   ]
  },
  {
   "cell_type": "code",
   "execution_count": null,
   "metadata": {
    "collapsed": true,
    "deletable": true,
    "editable": true
   },
   "outputs": [],
   "source": [
    ""
   ]
  },
  {
   "cell_type": "code",
   "execution_count": null,
   "metadata": {
    "collapsed": true,
    "deletable": true,
    "editable": true
   },
   "outputs": [],
   "source": [
    ""
   ]
  },
  {
   "cell_type": "code",
   "execution_count": null,
   "metadata": {
    "collapsed": true,
    "deletable": true,
    "editable": true
   },
   "outputs": [],
   "source": [
    ""
   ]
  },
  {
   "cell_type": "code",
   "execution_count": null,
   "metadata": {
    "collapsed": true,
    "deletable": true,
    "editable": true
   },
   "outputs": [],
   "source": [
    ""
   ]
  },
  {
   "cell_type": "code",
   "execution_count": null,
   "metadata": {
    "collapsed": true,
    "deletable": true,
    "editable": true
   },
   "outputs": [],
   "source": [
    ""
   ]
  },
  {
   "cell_type": "code",
   "execution_count": null,
   "metadata": {
    "collapsed": true,
    "deletable": true,
    "editable": true
   },
   "outputs": [],
   "source": [
    ""
   ]
  }
 ],
 "metadata": {
  "kernelspec": {
   "display_name": "Python 3",
   "language": "python",
   "name": "python3"
  },
  "language_info": {
   "codemirror_mode": {
    "name": "ipython",
    "version": 3.0
   },
   "file_extension": ".py",
   "mimetype": "text/x-python",
   "name": "python",
   "nbconvert_exporter": "python",
   "pygments_lexer": "ipython3",
   "version": "3.5.2"
  }
 },
 "nbformat": 4,
 "nbformat_minor": 0
}