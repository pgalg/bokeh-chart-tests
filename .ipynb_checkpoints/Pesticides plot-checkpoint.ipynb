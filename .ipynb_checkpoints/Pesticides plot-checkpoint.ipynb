{
 "cells": [
  {
   "cell_type": "code",
   "execution_count": 1,
   "metadata": {
    "collapsed": false,
    "deletable": true,
    "editable": true,
    "scrolled": true
   },
   "outputs": [
    {
     "data": {
      "text/plain": [
       "['Compartments',\n",
       " 'Subcompartment',\n",
       " 'Substance name (ReCiPe)',\n",
       " 'Substance name (SimaPro)',\n",
       " 'CAS number',\n",
       " 'Unit',\n",
       " 'FETP(I)',\n",
       " 'FETP(H)',\n",
       " 'FETP(E)',\n",
       " 'HTP(I)',\n",
       " 'HTP(H)',\n",
       " 'HTP(E)',\n",
       " 'METP(I)',\n",
       " 'METP(H)',\n",
       " 'METP(E)',\n",
       " 'TETP(I)',\n",
       " 'TETP(H)',\n",
       " 'TETP(E)',\n",
       " 'FETP(I) End EQ',\n",
       " 'FETP(H) End EQ',\n",
       " 'FETP(E) End EQ',\n",
       " 'HTP(I) End HH',\n",
       " 'HTP(H) End HH',\n",
       " 'HTP(E) End HH',\n",
       " 'METP(I) End EQ',\n",
       " 'METP(H) End EQ',\n",
       " 'METP(E) End EQ',\n",
       " 'TETP(I) End EQ',\n",
       " 'TETP(H) End EQ',\n",
       " 'TETP(E) End EQ',\n",
       " 'Group',\n",
       " 'Weighting factor']"
      ]
     },
     "execution_count": 1,
     "metadata": {},
     "output_type": "execute_result"
    }
   ],
   "source": [
    "import pandas\n",
    "df=pandas.read_excel(\"pesticides.xlsx\", sheetname=0)\n",
    "list(df)"
   ]
  },
  {
   "cell_type": "code",
   "execution_count": 2,
   "metadata": {
    "collapsed": false,
    "deletable": true,
    "editable": true
   },
   "outputs": [
    {
     "data": {
      "text/plain": [
       "['.ipynb_checkpoints',\n",
       " 'Bokeh 1 simple scatter.ipynb',\n",
       " 'pesticides plot.html',\n",
       " 'Pesticides plot.ipynb',\n",
       " 'pesticides.xlsx',\n",
       " 'Scatter_chart.html',\n",
       " 'Scatter_plotting.html']"
      ]
     },
     "execution_count": 2,
     "metadata": {},
     "output_type": "execute_result"
    }
   ],
   "source": [
    "import os\n",
    "os.listdir()"
   ]
  },
  {
   "cell_type": "code",
   "execution_count": 3,
   "metadata": {
    "collapsed": false,
    "deletable": true,
    "editable": true
   },
   "outputs": [
    {
     "data": {
      "text/html": [
       "<div>\n",
       "<table border=\"1\" class=\"dataframe\">\n",
       "  <thead>\n",
       "    <tr style=\"text-align: right;\">\n",
       "      <th></th>\n",
       "      <th>Ecotox</th>\n",
       "      <th>Humtox</th>\n",
       "      <th>Name</th>\n",
       "      <th>Compartment</th>\n",
       "    </tr>\n",
       "  </thead>\n",
       "  <tbody>\n",
       "    <tr>\n",
       "      <th>0</th>\n",
       "      <td>0.011542</td>\n",
       "      <td>0.0</td>\n",
       "      <td>((3,5,6-Trichloro-2-pyridinyl)oxy)-acetic acid...</td>\n",
       "      <td>air, high. pop.</td>\n",
       "    </tr>\n",
       "    <tr>\n",
       "      <th>1</th>\n",
       "      <td>0.007722</td>\n",
       "      <td>0.0</td>\n",
       "      <td>((3,5,6-Trichloro-2-pyridinyl)oxy)-acetic acid...</td>\n",
       "      <td>air, low. pop.</td>\n",
       "    </tr>\n",
       "    <tr>\n",
       "      <th>2</th>\n",
       "      <td>0.006235</td>\n",
       "      <td>0.0</td>\n",
       "      <td>((3,5,6-Trichloro-2-pyridinyl)oxy)-acetic acid...</td>\n",
       "      <td>soil, agricultural</td>\n",
       "    </tr>\n",
       "    <tr>\n",
       "      <th>3</th>\n",
       "      <td>0.053042</td>\n",
       "      <td>0.0</td>\n",
       "      <td>((3,5,6-Trichloro-2-pyridinyl)oxy)-acetic acid...</td>\n",
       "      <td>soil, forestry</td>\n",
       "    </tr>\n",
       "  </tbody>\n",
       "</table>\n",
       "</div>"
      ],
      "text/plain": [
       "     Ecotox  Humtox                                               Name  \\\n",
       "0  0.011542     0.0  ((3,5,6-Trichloro-2-pyridinyl)oxy)-acetic acid...   \n",
       "1  0.007722     0.0  ((3,5,6-Trichloro-2-pyridinyl)oxy)-acetic acid...   \n",
       "2  0.006235     0.0  ((3,5,6-Trichloro-2-pyridinyl)oxy)-acetic acid...   \n",
       "3  0.053042     0.0  ((3,5,6-Trichloro-2-pyridinyl)oxy)-acetic acid...   \n",
       "\n",
       "          Compartment  \n",
       "0     air, high. pop.  \n",
       "1      air, low. pop.  \n",
       "2  soil, agricultural  \n",
       "3      soil, forestry  "
      ]
     },
     "execution_count": 3,
     "metadata": {},
     "output_type": "execute_result"
    }
   ],
   "source": [
    "from bokeh.plotting import figure, output_file, show\n",
    "\n",
    "\n",
    "plotdf=pandas.DataFrame()\n",
    "plotdf['Ecotox']=df['TETP(E)']\n",
    "plotdf['Humtox']=df['HTP(E) End HH']\n",
    "plotdf['Name']=df['Substance name (ReCiPe)']\n",
    "plotdf['Compartment']=df[\"Compartments\"]+\", \"+df[\"Subcompartment\"]\n",
    "\n",
    "plotdf.iloc[0:4,0:4]\n"
   ]
  },
  {
   "cell_type": "code",
   "execution_count": 4,
   "metadata": {
    "collapsed": false
   },
   "outputs": [],
   "source": [
    "from bokeh.models import HoverTool\n",
    "hover=HoverTool(\n",
    "     tooltips=[\n",
    "            (\"Name\", \"@Name\"),\n",
    "            (\"(x,y)\", \"($x, $y)\"),\n",
    "        ]\n",
    "    )"
   ]
  },
  {
   "cell_type": "code",
   "execution_count": 9,
   "metadata": {
    "collapsed": false
   },
   "outputs": [
    {
     "data": {
      "text/html": [
       "<div style=\"display: table;\"><div style=\"display: table-row;\"><div style=\"display: table-cell;\"><b title=\"bokeh.models.renderers.GlyphRenderer\">GlyphRenderer</b>(</div><div style=\"display: table-cell;\">id&nbsp;=&nbsp;'78391a7a-e616-4cc6-b073-fbb11ffd1afb', <span id=\"db4ae113-a5ae-4c63-9a60-68ff31e1e2c2\" style=\"cursor: pointer;\">&hellip;)</span></div></div><div class=\"7f53c80e-47a7-484a-849c-1f94003ffada\" style=\"display: none;\"><div style=\"display: table-cell;\"></div><div style=\"display: table-cell;\">data_source&nbsp;=&nbsp;ColumnDataSource(id='5ee3f5ff-4ef3-47b4-9b45-bbf232c154e1', ...),</div></div><div class=\"7f53c80e-47a7-484a-849c-1f94003ffada\" style=\"display: none;\"><div style=\"display: table-cell;\"></div><div style=\"display: table-cell;\">glyph&nbsp;=&nbsp;Circle(id='ba20d9a1-e533-4274-8eff-23b16b783f9c', ...),</div></div><div class=\"7f53c80e-47a7-484a-849c-1f94003ffada\" style=\"display: none;\"><div style=\"display: table-cell;\"></div><div style=\"display: table-cell;\">hover_glyph&nbsp;=&nbsp;None,</div></div><div class=\"7f53c80e-47a7-484a-849c-1f94003ffada\" style=\"display: none;\"><div style=\"display: table-cell;\"></div><div style=\"display: table-cell;\">js_callbacks&nbsp;=&nbsp;{},</div></div><div class=\"7f53c80e-47a7-484a-849c-1f94003ffada\" style=\"display: none;\"><div style=\"display: table-cell;\"></div><div style=\"display: table-cell;\">level&nbsp;=&nbsp;'glyph',</div></div><div class=\"7f53c80e-47a7-484a-849c-1f94003ffada\" style=\"display: none;\"><div style=\"display: table-cell;\"></div><div style=\"display: table-cell;\">name&nbsp;=&nbsp;None,</div></div><div class=\"7f53c80e-47a7-484a-849c-1f94003ffada\" style=\"display: none;\"><div style=\"display: table-cell;\"></div><div style=\"display: table-cell;\">nonselection_glyph&nbsp;=&nbsp;Circle(id='f42930b7-537c-4dd6-834f-362cbca7b4d7', ...),</div></div><div class=\"7f53c80e-47a7-484a-849c-1f94003ffada\" style=\"display: none;\"><div style=\"display: table-cell;\"></div><div style=\"display: table-cell;\">selection_glyph&nbsp;=&nbsp;None,</div></div><div class=\"7f53c80e-47a7-484a-849c-1f94003ffada\" style=\"display: none;\"><div style=\"display: table-cell;\"></div><div style=\"display: table-cell;\">tags&nbsp;=&nbsp;[],</div></div><div class=\"7f53c80e-47a7-484a-849c-1f94003ffada\" style=\"display: none;\"><div style=\"display: table-cell;\"></div><div style=\"display: table-cell;\">visible&nbsp;=&nbsp;True,</div></div><div class=\"7f53c80e-47a7-484a-849c-1f94003ffada\" style=\"display: none;\"><div style=\"display: table-cell;\"></div><div style=\"display: table-cell;\">x_range_name&nbsp;=&nbsp;'default',</div></div><div class=\"7f53c80e-47a7-484a-849c-1f94003ffada\" style=\"display: none;\"><div style=\"display: table-cell;\"></div><div style=\"display: table-cell;\">y_range_name&nbsp;=&nbsp;'default')</div></div></div>\n",
       "<script>\n",
       "(function() {\n",
       "  var expanded = false;\n",
       "  var ellipsis = document.getElementById(\"db4ae113-a5ae-4c63-9a60-68ff31e1e2c2\");\n",
       "  ellipsis.addEventListener(\"click\", function() {\n",
       "    var rows = document.getElementsByClassName(\"7f53c80e-47a7-484a-849c-1f94003ffada\");\n",
       "    for (var i = 0; i < rows.length; i++) {\n",
       "      var el = rows[i];\n",
       "      el.style.display = expanded ? \"none\" : \"table-row\";\n",
       "    }\n",
       "    ellipsis.innerHTML = expanded ? \"&hellip;)\" : \"&lsaquo;&lsaquo;&lsaquo;\";\n",
       "    expanded = !expanded;\n",
       "  });\n",
       "})();\n",
       "</script>\n"
      ],
      "text/plain": [
       "GlyphRenderer(id='78391a7a-e616-4cc6-b073-fbb11ffd1afb', ...)"
      ]
     },
     "execution_count": 9,
     "metadata": {},
     "output_type": "execute_result"
    }
   ],
   "source": [
    "b=figure(title=\"Toxic emissions\", tools=[hover])\n",
    "\n",
    "b.circle(plotdf['Ecotox'],plotdf['Humtox'], size=5, color=\"red\")\n"
   ]
  },
  {
   "cell_type": "code",
   "execution_count": 10,
   "metadata": {
    "collapsed": false,
    "deletable": true,
    "editable": true
   },
   "outputs": [
    {
     "name": "stderr",
     "output_type": "stream",
     "text": [
      "INFO:bokeh.core.state:Session output file 'pesticides plot.html' already exists, will be overwritten.\n"
     ]
    }
   ],
   "source": [
    "output_file(\"pesticides plot.html\")\n",
    "# initializes the output file\n",
    "\n",
    "show(b)\n",
    "# add b to file"
   ]
  },
  {
   "cell_type": "code",
   "execution_count": null,
   "metadata": {
    "collapsed": true,
    "deletable": true,
    "editable": true
   },
   "outputs": [],
   "source": []
  }
 ],
 "metadata": {
  "kernelspec": {
   "display_name": "Python 3",
   "language": "python",
   "name": "python3"
  },
  "language_info": {
   "codemirror_mode": {
    "name": "ipython",
    "version": 3
   },
   "file_extension": ".py",
   "mimetype": "text/x-python",
   "name": "python",
   "nbconvert_exporter": "python",
   "pygments_lexer": "ipython3",
   "version": "3.5.2"
  }
 },
 "nbformat": 4,
 "nbformat_minor": 2
}
