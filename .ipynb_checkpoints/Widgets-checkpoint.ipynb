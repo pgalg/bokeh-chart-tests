{
 "cells": [
  {
   "cell_type": "code",
   "execution_count": 1,
   "metadata": {
    "collapsed": false,
    "deletable": true,
    "editable": true
   },
   "outputs": [],
   "source": [
    "import pandas as pd\n",
    "\n",
    "from bokeh.io import show, output_notebook\n",
    "from bokeh.layouts import widgetbox, row\n",
    "from bokeh.models.widgets import RadioGroup\n",
    "from bokeh.models import CustomJS ,ColumnDataSource\n",
    "from bokeh.plotting import figure\n"
   ]
  },
  {
   "cell_type": "code",
   "execution_count": 2,
   "metadata": {
    "collapsed": false,
    "deletable": true,
    "editable": true
   },
   "outputs": [
    {
     "data": {
      "text/html": [
       "<div>\n",
       "<table border=\"1\" class=\"dataframe\">\n",
       "  <thead>\n",
       "    <tr style=\"text-align: right;\">\n",
       "      <th></th>\n",
       "      <th>Scenario</th>\n",
       "      <th>Retail price</th>\n",
       "      <th>Social cost</th>\n",
       "      <th>Water cost</th>\n",
       "    </tr>\n",
       "  </thead>\n",
       "  <tbody>\n",
       "    <tr>\n",
       "      <th>0</th>\n",
       "      <td>Normal rose</td>\n",
       "      <td>10</td>\n",
       "      <td>3</td>\n",
       "      <td>5</td>\n",
       "    </tr>\n",
       "    <tr>\n",
       "      <th>1</th>\n",
       "      <td>Water saving rose</td>\n",
       "      <td>9</td>\n",
       "      <td>3</td>\n",
       "      <td>2</td>\n",
       "    </tr>\n",
       "    <tr>\n",
       "      <th>2</th>\n",
       "      <td>Living wage rose</td>\n",
       "      <td>11</td>\n",
       "      <td>1</td>\n",
       "      <td>5</td>\n",
       "    </tr>\n",
       "    <tr>\n",
       "      <th>3</th>\n",
       "      <td>Water saving &amp; living wage rose</td>\n",
       "      <td>10</td>\n",
       "      <td>1</td>\n",
       "      <td>2</td>\n",
       "    </tr>\n",
       "  </tbody>\n",
       "</table>\n",
       "</div>"
      ],
      "text/plain": [
       "                          Scenario  Retail price  Social cost  Water cost\n",
       "0                      Normal rose            10            3           5\n",
       "1                Water saving rose             9            3           2\n",
       "2                 Living wage rose            11            1           5\n",
       "3  Water saving & living wage rose            10            1           2"
      ]
     },
     "execution_count": 2,
     "metadata": {},
     "output_type": "execute_result"
    }
   ],
   "source": [
    "df = pd.read_excel('TPbars.xlsx')\n",
    "source = ColumnDataSource(df)\n",
    "df"
   ]
  },
  {
   "cell_type": "code",
   "execution_count": 3,
   "metadata": {
    "collapsed": false,
    "deletable": true,
    "editable": true
   },
   "outputs": [
    {
     "data": {
      "text/plain": [
       "['Normal rose',\n",
       " 'Water saving rose',\n",
       " 'Living wage rose',\n",
       " 'Water saving & living wage rose']"
      ]
     },
     "execution_count": 3,
     "metadata": {},
     "output_type": "execute_result"
    }
   ],
   "source": [
    "scenarios=list(df[\"Scenario\"])\n",
    "scenarios"
   ]
  },
  {
   "cell_type": "code",
   "execution_count": 4,
   "metadata": {
    "collapsed": false
   },
   "outputs": [
    {
     "data": {
      "text/plain": [
       "[10, 9, 11, 10]"
      ]
     },
     "execution_count": 4,
     "metadata": {},
     "output_type": "execute_result"
    }
   ],
   "source": [
    "retail=list(df[\"Retail price\"])\n",
    "retail\n"
   ]
  },
  {
   "cell_type": "code",
   "execution_count": 5,
   "metadata": {
    "collapsed": true
   },
   "outputs": [],
   "source": [
    "n = 0"
   ]
  },
  {
   "cell_type": "code",
   "execution_count": 101,
   "metadata": {
    "collapsed": false,
    "deletable": true,
    "editable": true
   },
   "outputs": [],
   "source": [
    "plot = figure(plot_width=600, plot_height=400, x_range=scenarios, title=\"Price of a Kenyan rose\", tools=\"\", logo=\"grey\")\n",
    "a= plot.vbar(\n",
    "    x=\"Scenario\", \n",
    "    width=0.5, \n",
    "    top=\"Retail price\", \n",
    "    color=\"MidnightBlue\", \n",
    "    legend=\"Market price\",\n",
    "    visible=True,\n",
    "    source=source\n",
    "    )\n"
   ]
  },
  {
   "cell_type": "code",
   "execution_count": 102,
   "metadata": {
    "collapsed": false,
    "deletable": true,
    "editable": true
   },
   "outputs": [],
   "source": [
    "widgets = RadioGroup(labels=[\"Scenario 1\", \"Scenario 2\",\"Scenario 3\",\"Scenario 4\"], active=0)\n"
   ]
  },
  {
   "cell_type": "code",
   "execution_count": 103,
   "metadata": {
    "collapsed": false,
    "deletable": true,
    "editable": true
   },
   "outputs": [],
   "source": [
    "widgets.callback = CustomJS(args=dict(a=a,s=source), code=\"\"\"   \n",
    "        var visibile = a.visible;\n",
    "        visibile = False;\n",
    "        s.trigger('change');\n",
    "        }\n",
    "\"\"\")\n"
   ]
  },
  {
   "cell_type": "code",
   "execution_count": 104,
   "metadata": {
    "collapsed": false,
    "deletable": true,
    "editable": true,
    "scrolled": true
   },
   "outputs": [
    {
     "data": {
      "text/html": [
       "\n",
       "    <div class=\"bk-root\">\n",
       "        <a href=\"http://bokeh.pydata.org\" target=\"_blank\" class=\"bk-logo bk-logo-small bk-logo-notebook\"></a>\n",
       "        <span id=\"5532b21a-41cb-4a7d-88af-81d4cac9aa9f\">Loading BokehJS ...</span>\n",
       "    </div>"
      ]
     },
     "metadata": {},
     "output_type": "display_data"
    },
    {
     "data": {
      "application/javascript": [
       "\n",
       "(function(global) {\n",
       "  function now() {\n",
       "    return new Date();\n",
       "  }\n",
       "\n",
       "  var force = true;\n",
       "\n",
       "  if (typeof (window._bokeh_onload_callbacks) === \"undefined\" || force === true) {\n",
       "    window._bokeh_onload_callbacks = [];\n",
       "    window._bokeh_is_loading = undefined;\n",
       "  }\n",
       "\n",
       "\n",
       "  \n",
       "  if (typeof (window._bokeh_timeout) === \"undefined\" || force === true) {\n",
       "    window._bokeh_timeout = Date.now() + 5000;\n",
       "    window._bokeh_failed_load = false;\n",
       "  }\n",
       "\n",
       "  var NB_LOAD_WARNING = {'data': {'text/html':\n",
       "     \"<div style='background-color: #fdd'>\\n\"+\n",
       "     \"<p>\\n\"+\n",
       "     \"BokehJS does not appear to have successfully loaded. If loading BokehJS from CDN, this \\n\"+\n",
       "     \"may be due to a slow or bad network connection. Possible fixes:\\n\"+\n",
       "     \"</p>\\n\"+\n",
       "     \"<ul>\\n\"+\n",
       "     \"<li>re-rerun `output_notebook()` to attempt to load from CDN again, or</li>\\n\"+\n",
       "     \"<li>use INLINE resources instead, as so:</li>\\n\"+\n",
       "     \"</ul>\\n\"+\n",
       "     \"<code>\\n\"+\n",
       "     \"from bokeh.resources import INLINE\\n\"+\n",
       "     \"output_notebook(resources=INLINE)\\n\"+\n",
       "     \"</code>\\n\"+\n",
       "     \"</div>\"}};\n",
       "\n",
       "  function display_loaded() {\n",
       "    if (window.Bokeh !== undefined) {\n",
       "      document.getElementById(\"5532b21a-41cb-4a7d-88af-81d4cac9aa9f\").textContent = \"BokehJS successfully loaded.\";\n",
       "    } else if (Date.now() < window._bokeh_timeout) {\n",
       "      setTimeout(display_loaded, 100)\n",
       "    }\n",
       "  }\n",
       "\n",
       "  function run_callbacks() {\n",
       "    window._bokeh_onload_callbacks.forEach(function(callback) { callback() });\n",
       "    delete window._bokeh_onload_callbacks\n",
       "    console.info(\"Bokeh: all callbacks have finished\");\n",
       "  }\n",
       "\n",
       "  function load_libs(js_urls, callback) {\n",
       "    window._bokeh_onload_callbacks.push(callback);\n",
       "    if (window._bokeh_is_loading > 0) {\n",
       "      console.log(\"Bokeh: BokehJS is being loaded, scheduling callback at\", now());\n",
       "      return null;\n",
       "    }\n",
       "    if (js_urls == null || js_urls.length === 0) {\n",
       "      run_callbacks();\n",
       "      return null;\n",
       "    }\n",
       "    console.log(\"Bokeh: BokehJS not loaded, scheduling load and callback at\", now());\n",
       "    window._bokeh_is_loading = js_urls.length;\n",
       "    for (var i = 0; i < js_urls.length; i++) {\n",
       "      var url = js_urls[i];\n",
       "      var s = document.createElement('script');\n",
       "      s.src = url;\n",
       "      s.async = false;\n",
       "      s.onreadystatechange = s.onload = function() {\n",
       "        window._bokeh_is_loading--;\n",
       "        if (window._bokeh_is_loading === 0) {\n",
       "          console.log(\"Bokeh: all BokehJS libraries loaded\");\n",
       "          run_callbacks()\n",
       "        }\n",
       "      };\n",
       "      s.onerror = function() {\n",
       "        console.warn(\"failed to load library \" + url);\n",
       "      };\n",
       "      console.log(\"Bokeh: injecting script tag for BokehJS library: \", url);\n",
       "      document.getElementsByTagName(\"head\")[0].appendChild(s);\n",
       "    }\n",
       "  };var element = document.getElementById(\"5532b21a-41cb-4a7d-88af-81d4cac9aa9f\");\n",
       "  if (element == null) {\n",
       "    console.log(\"Bokeh: ERROR: autoload.js configured with elementid '5532b21a-41cb-4a7d-88af-81d4cac9aa9f' but no matching script tag was found. \")\n",
       "    return false;\n",
       "  }\n",
       "\n",
       "  var js_urls = [\"https://cdn.pydata.org/bokeh/release/bokeh-0.12.4.min.js\", \"https://cdn.pydata.org/bokeh/release/bokeh-widgets-0.12.4.min.js\"];\n",
       "\n",
       "  var inline_js = [\n",
       "    function(Bokeh) {\n",
       "      Bokeh.set_log_level(\"info\");\n",
       "    },\n",
       "    \n",
       "    function(Bokeh) {\n",
       "      \n",
       "      document.getElementById(\"5532b21a-41cb-4a7d-88af-81d4cac9aa9f\").textContent = \"BokehJS is loading...\";\n",
       "    },\n",
       "    function(Bokeh) {\n",
       "      console.log(\"Bokeh: injecting CSS: https://cdn.pydata.org/bokeh/release/bokeh-0.12.4.min.css\");\n",
       "      Bokeh.embed.inject_css(\"https://cdn.pydata.org/bokeh/release/bokeh-0.12.4.min.css\");\n",
       "      console.log(\"Bokeh: injecting CSS: https://cdn.pydata.org/bokeh/release/bokeh-widgets-0.12.4.min.css\");\n",
       "      Bokeh.embed.inject_css(\"https://cdn.pydata.org/bokeh/release/bokeh-widgets-0.12.4.min.css\");\n",
       "    }\n",
       "  ];\n",
       "\n",
       "  function run_inline_js() {\n",
       "    \n",
       "    if ((window.Bokeh !== undefined) || (force === true)) {\n",
       "      for (var i = 0; i < inline_js.length; i++) {\n",
       "        inline_js[i](window.Bokeh);\n",
       "      }if (force === true) {\n",
       "        display_loaded();\n",
       "      }} else if (Date.now() < window._bokeh_timeout) {\n",
       "      setTimeout(run_inline_js, 100);\n",
       "    } else if (!window._bokeh_failed_load) {\n",
       "      console.log(\"Bokeh: BokehJS failed to load within specified timeout.\");\n",
       "      window._bokeh_failed_load = true;\n",
       "    } else if (force !== true) {\n",
       "      var cell = $(document.getElementById(\"5532b21a-41cb-4a7d-88af-81d4cac9aa9f\")).parents('.cell').data().cell;\n",
       "      cell.output_area.append_execute_result(NB_LOAD_WARNING)\n",
       "    }\n",
       "\n",
       "  }\n",
       "\n",
       "  if (window._bokeh_is_loading === 0) {\n",
       "    console.log(\"Bokeh: BokehJS loaded, going straight to plotting\");\n",
       "    run_inline_js();\n",
       "  } else {\n",
       "    load_libs(js_urls, function() {\n",
       "      console.log(\"Bokeh: BokehJS plotting callback run at\", now());\n",
       "      run_inline_js();\n",
       "    });\n",
       "  }\n",
       "}(this));"
      ]
     },
     "metadata": {},
     "output_type": "display_data"
    }
   ],
   "source": [
    "output_notebook()"
   ]
  },
  {
   "cell_type": "code",
   "execution_count": 105,
   "metadata": {
    "collapsed": false,
    "deletable": true,
    "editable": true
   },
   "outputs": [
    {
     "data": {
      "text/html": [
       "\n",
       "\n",
       "    <div class=\"bk-root\">\n",
       "        <div class=\"bk-plotdiv\" id=\"2aa2a682-499c-429f-b242-1dd96e8d3269\"></div>\n",
       "    </div>\n",
       "<script type=\"text/javascript\">\n",
       "  \n",
       "  (function(global) {\n",
       "    function now() {\n",
       "      return new Date();\n",
       "    }\n",
       "  \n",
       "    var force = false;\n",
       "  \n",
       "    if (typeof (window._bokeh_onload_callbacks) === \"undefined\" || force === true) {\n",
       "      window._bokeh_onload_callbacks = [];\n",
       "      window._bokeh_is_loading = undefined;\n",
       "    }\n",
       "  \n",
       "  \n",
       "    \n",
       "    if (typeof (window._bokeh_timeout) === \"undefined\" || force === true) {\n",
       "      window._bokeh_timeout = Date.now() + 0;\n",
       "      window._bokeh_failed_load = false;\n",
       "    }\n",
       "  \n",
       "    var NB_LOAD_WARNING = {'data': {'text/html':\n",
       "       \"<div style='background-color: #fdd'>\\n\"+\n",
       "       \"<p>\\n\"+\n",
       "       \"BokehJS does not appear to have successfully loaded. If loading BokehJS from CDN, this \\n\"+\n",
       "       \"may be due to a slow or bad network connection. Possible fixes:\\n\"+\n",
       "       \"</p>\\n\"+\n",
       "       \"<ul>\\n\"+\n",
       "       \"<li>re-rerun `output_notebook()` to attempt to load from CDN again, or</li>\\n\"+\n",
       "       \"<li>use INLINE resources instead, as so:</li>\\n\"+\n",
       "       \"</ul>\\n\"+\n",
       "       \"<code>\\n\"+\n",
       "       \"from bokeh.resources import INLINE\\n\"+\n",
       "       \"output_notebook(resources=INLINE)\\n\"+\n",
       "       \"</code>\\n\"+\n",
       "       \"</div>\"}};\n",
       "  \n",
       "    function display_loaded() {\n",
       "      if (window.Bokeh !== undefined) {\n",
       "        document.getElementById(\"2aa2a682-499c-429f-b242-1dd96e8d3269\").textContent = \"BokehJS successfully loaded.\";\n",
       "      } else if (Date.now() < window._bokeh_timeout) {\n",
       "        setTimeout(display_loaded, 100)\n",
       "      }\n",
       "    }\n",
       "  \n",
       "    function run_callbacks() {\n",
       "      window._bokeh_onload_callbacks.forEach(function(callback) { callback() });\n",
       "      delete window._bokeh_onload_callbacks\n",
       "      console.info(\"Bokeh: all callbacks have finished\");\n",
       "    }\n",
       "  \n",
       "    function load_libs(js_urls, callback) {\n",
       "      window._bokeh_onload_callbacks.push(callback);\n",
       "      if (window._bokeh_is_loading > 0) {\n",
       "        console.log(\"Bokeh: BokehJS is being loaded, scheduling callback at\", now());\n",
       "        return null;\n",
       "      }\n",
       "      if (js_urls == null || js_urls.length === 0) {\n",
       "        run_callbacks();\n",
       "        return null;\n",
       "      }\n",
       "      console.log(\"Bokeh: BokehJS not loaded, scheduling load and callback at\", now());\n",
       "      window._bokeh_is_loading = js_urls.length;\n",
       "      for (var i = 0; i < js_urls.length; i++) {\n",
       "        var url = js_urls[i];\n",
       "        var s = document.createElement('script');\n",
       "        s.src = url;\n",
       "        s.async = false;\n",
       "        s.onreadystatechange = s.onload = function() {\n",
       "          window._bokeh_is_loading--;\n",
       "          if (window._bokeh_is_loading === 0) {\n",
       "            console.log(\"Bokeh: all BokehJS libraries loaded\");\n",
       "            run_callbacks()\n",
       "          }\n",
       "        };\n",
       "        s.onerror = function() {\n",
       "          console.warn(\"failed to load library \" + url);\n",
       "        };\n",
       "        console.log(\"Bokeh: injecting script tag for BokehJS library: \", url);\n",
       "        document.getElementsByTagName(\"head\")[0].appendChild(s);\n",
       "      }\n",
       "    };var element = document.getElementById(\"2aa2a682-499c-429f-b242-1dd96e8d3269\");\n",
       "    if (element == null) {\n",
       "      console.log(\"Bokeh: ERROR: autoload.js configured with elementid '2aa2a682-499c-429f-b242-1dd96e8d3269' but no matching script tag was found. \")\n",
       "      return false;\n",
       "    }\n",
       "  \n",
       "    var js_urls = [];\n",
       "  \n",
       "    var inline_js = [\n",
       "      function(Bokeh) {\n",
       "        (function() {\n",
       "          var fn = function() {\n",
       "            var docs_json = {\"00fdc778-8a4f-47f2-aa4e-dff5066dd9bf\":{\"roots\":{\"references\":[{\"attributes\":{\"callback\":null,\"column_names\":[\"Water cost\",\"index\",\"Retail price\",\"Scenario\",\"Social cost\"],\"data\":{\"Retail price\":[10,9,11,10],\"Scenario\":[\"Normal rose\",\"Water saving rose\",\"Living wage rose\",\"Water saving & living wage rose\"],\"Social cost\":[3,3,1,1],\"Water cost\":[5,2,5,2],\"index\":[0,1,2,3]}},\"id\":\"b4a591df-2660-4a01-804b-468a11bd7633\",\"type\":\"ColumnDataSource\"},{\"attributes\":{\"args\":{\"a\":{\"id\":\"c1bc850e-b3d5-4089-b971-6290f3e08c1c\",\"type\":\"GlyphRenderer\"},\"s\":{\"id\":\"b4a591df-2660-4a01-804b-468a11bd7633\",\"type\":\"ColumnDataSource\"}},\"code\":\"   \\n        var visibile = a.visible;\\n        visibile = False;\\n        s.trigger('change');\\n        }\\n\"},\"id\":\"95c402d7-5352-4ccc-b350-02b191999226\",\"type\":\"CustomJS\"},{\"attributes\":{\"plot\":{\"id\":\"9e4232e8-bb23-4b06-a45a-e5e401969e2a\",\"subtype\":\"Figure\",\"type\":\"Plot\"},\"ticker\":{\"id\":\"35678362-ed56-4804-acc8-657ffbf4d8fd\",\"type\":\"CategoricalTicker\"}},\"id\":\"9c349627-a0cd-4cf1-a494-99ea2942d49a\",\"type\":\"Grid\"},{\"attributes\":{\"formatter\":{\"id\":\"a2328a2d-4363-4b6b-a96d-dd8a6541ad67\",\"type\":\"BasicTickFormatter\"},\"plot\":{\"id\":\"9e4232e8-bb23-4b06-a45a-e5e401969e2a\",\"subtype\":\"Figure\",\"type\":\"Plot\"},\"ticker\":{\"id\":\"e21ef5c2-8fd6-4095-85c7-0f964ddf69f6\",\"type\":\"BasicTicker\"}},\"id\":\"216bfe73-59af-46c6-bb50-1b2e1d8eb181\",\"type\":\"LinearAxis\"},{\"attributes\":{\"data_source\":{\"id\":\"b4a591df-2660-4a01-804b-468a11bd7633\",\"type\":\"ColumnDataSource\"},\"glyph\":{\"id\":\"7fdfec1a-9263-4f6d-904f-39cd5f2e3ba9\",\"type\":\"VBar\"},\"hover_glyph\":null,\"nonselection_glyph\":{\"id\":\"c7a82b8b-a46f-4f12-a8fa-f5e34b8f32f1\",\"type\":\"VBar\"},\"selection_glyph\":null},\"id\":\"c1bc850e-b3d5-4089-b971-6290f3e08c1c\",\"type\":\"GlyphRenderer\"},{\"attributes\":{\"callback\":null},\"id\":\"b14ff2bf-3e67-4b79-bfd2-f9cdc8c66cb2\",\"type\":\"DataRange1d\"},{\"attributes\":{},\"id\":\"a2328a2d-4363-4b6b-a96d-dd8a6541ad67\",\"type\":\"BasicTickFormatter\"},{\"attributes\":{\"callback\":null,\"factors\":[\"Normal rose\",\"Water saving rose\",\"Living wage rose\",\"Water saving & living wage rose\"]},\"id\":\"eb2b5301-9565-425e-a18d-bb5076c2188f\",\"type\":\"FactorRange\"},{\"attributes\":{\"fill_alpha\":{\"value\":0.1},\"fill_color\":{\"value\":\"#1f77b4\"},\"line_alpha\":{\"value\":0.1},\"line_color\":{\"value\":\"#1f77b4\"},\"top\":{\"field\":\"Retail price\"},\"width\":{\"value\":0.5},\"x\":{\"field\":\"Scenario\"}},\"id\":\"c7a82b8b-a46f-4f12-a8fa-f5e34b8f32f1\",\"type\":\"VBar\"},{\"attributes\":{\"items\":[{\"id\":\"e2573594-9c13-4330-b95c-b5135ac2c02c\",\"type\":\"LegendItem\"}],\"plot\":{\"id\":\"9e4232e8-bb23-4b06-a45a-e5e401969e2a\",\"subtype\":\"Figure\",\"type\":\"Plot\"}},\"id\":\"b6e40035-e716-4fae-ba5e-c58f6fa619e3\",\"type\":\"Legend\"},{\"attributes\":{\"fill_color\":{\"value\":\"MidnightBlue\"},\"line_color\":{\"value\":\"MidnightBlue\"},\"top\":{\"field\":\"Retail price\"},\"width\":{\"value\":0.5},\"x\":{\"field\":\"Scenario\"}},\"id\":\"7fdfec1a-9263-4f6d-904f-39cd5f2e3ba9\",\"type\":\"VBar\"},{\"attributes\":{\"active\":0,\"callback\":{\"id\":\"95c402d7-5352-4ccc-b350-02b191999226\",\"type\":\"CustomJS\"},\"labels\":[\"Scenario 1\",\"Scenario 2\",\"Scenario 3\",\"Scenario 4\"]},\"id\":\"c4100490-1393-4920-9fa0-a86803f10a4f\",\"type\":\"RadioGroup\"},{\"attributes\":{},\"id\":\"e21ef5c2-8fd6-4095-85c7-0f964ddf69f6\",\"type\":\"BasicTicker\"},{\"attributes\":{\"label\":{\"value\":\"Market price\"},\"renderers\":[{\"id\":\"c1bc850e-b3d5-4089-b971-6290f3e08c1c\",\"type\":\"GlyphRenderer\"}]},\"id\":\"e2573594-9c13-4330-b95c-b5135ac2c02c\",\"type\":\"LegendItem\"},{\"attributes\":{\"below\":[{\"id\":\"c01d30d9-0d6d-4b98-a57d-3677e4dbdb44\",\"type\":\"CategoricalAxis\"}],\"left\":[{\"id\":\"216bfe73-59af-46c6-bb50-1b2e1d8eb181\",\"type\":\"LinearAxis\"}],\"plot_height\":400,\"renderers\":[{\"id\":\"c01d30d9-0d6d-4b98-a57d-3677e4dbdb44\",\"type\":\"CategoricalAxis\"},{\"id\":\"9c349627-a0cd-4cf1-a494-99ea2942d49a\",\"type\":\"Grid\"},{\"id\":\"216bfe73-59af-46c6-bb50-1b2e1d8eb181\",\"type\":\"LinearAxis\"},{\"id\":\"9f80b983-2c76-427c-9c42-56a86e4c61cb\",\"type\":\"Grid\"},{\"id\":\"b6e40035-e716-4fae-ba5e-c58f6fa619e3\",\"type\":\"Legend\"},{\"id\":\"c1bc850e-b3d5-4089-b971-6290f3e08c1c\",\"type\":\"GlyphRenderer\"}],\"title\":{\"id\":\"4e396647-1d17-44d8-baf8-4a75d3e92f53\",\"type\":\"Title\"},\"tool_events\":{\"id\":\"0fa2b1e3-ee28-4e44-bc8e-ea88ceea905e\",\"type\":\"ToolEvents\"},\"toolbar\":{\"id\":\"cd07534d-bb78-4439-b8c9-3c96bebe10fe\",\"type\":\"Toolbar\"},\"x_range\":{\"id\":\"eb2b5301-9565-425e-a18d-bb5076c2188f\",\"type\":\"FactorRange\"},\"y_range\":{\"id\":\"b14ff2bf-3e67-4b79-bfd2-f9cdc8c66cb2\",\"type\":\"DataRange1d\"}},\"id\":\"9e4232e8-bb23-4b06-a45a-e5e401969e2a\",\"subtype\":\"Figure\",\"type\":\"Plot\"},{\"attributes\":{},\"id\":\"242b976f-fe7f-48c4-83eb-cf3f5eceba31\",\"type\":\"CategoricalTickFormatter\"},{\"attributes\":{},\"id\":\"35678362-ed56-4804-acc8-657ffbf4d8fd\",\"type\":\"CategoricalTicker\"},{\"attributes\":{},\"id\":\"0fa2b1e3-ee28-4e44-bc8e-ea88ceea905e\",\"type\":\"ToolEvents\"},{\"attributes\":{\"formatter\":{\"id\":\"242b976f-fe7f-48c4-83eb-cf3f5eceba31\",\"type\":\"CategoricalTickFormatter\"},\"plot\":{\"id\":\"9e4232e8-bb23-4b06-a45a-e5e401969e2a\",\"subtype\":\"Figure\",\"type\":\"Plot\"},\"ticker\":{\"id\":\"35678362-ed56-4804-acc8-657ffbf4d8fd\",\"type\":\"CategoricalTicker\"}},\"id\":\"c01d30d9-0d6d-4b98-a57d-3677e4dbdb44\",\"type\":\"CategoricalAxis\"},{\"attributes\":{\"dimension\":1,\"plot\":{\"id\":\"9e4232e8-bb23-4b06-a45a-e5e401969e2a\",\"subtype\":\"Figure\",\"type\":\"Plot\"},\"ticker\":{\"id\":\"e21ef5c2-8fd6-4095-85c7-0f964ddf69f6\",\"type\":\"BasicTicker\"}},\"id\":\"9f80b983-2c76-427c-9c42-56a86e4c61cb\",\"type\":\"Grid\"},{\"attributes\":{\"plot\":null,\"text\":\"Price of a Kenyan rose\"},\"id\":\"4e396647-1d17-44d8-baf8-4a75d3e92f53\",\"type\":\"Title\"},{\"attributes\":{\"active_drag\":\"auto\",\"active_scroll\":\"auto\",\"active_tap\":\"auto\",\"logo\":\"grey\"},\"id\":\"cd07534d-bb78-4439-b8c9-3c96bebe10fe\",\"type\":\"Toolbar\"},{\"attributes\":{\"children\":[{\"id\":\"92810dfd-f37e-45fc-aacb-48237f7c0357\",\"type\":\"WidgetBox\"},{\"id\":\"9e4232e8-bb23-4b06-a45a-e5e401969e2a\",\"subtype\":\"Figure\",\"type\":\"Plot\"}]},\"id\":\"9f6f3dd0-d6c6-4725-9dbb-3618f00f0449\",\"type\":\"Row\"},{\"attributes\":{\"children\":[{\"id\":\"c4100490-1393-4920-9fa0-a86803f10a4f\",\"type\":\"RadioGroup\"}]},\"id\":\"92810dfd-f37e-45fc-aacb-48237f7c0357\",\"type\":\"WidgetBox\"}],\"root_ids\":[\"9f6f3dd0-d6c6-4725-9dbb-3618f00f0449\"]},\"title\":\"Bokeh Application\",\"version\":\"0.12.4\"}};\n",
       "            var render_items = [{\"docid\":\"00fdc778-8a4f-47f2-aa4e-dff5066dd9bf\",\"elementid\":\"2aa2a682-499c-429f-b242-1dd96e8d3269\",\"modelid\":\"9f6f3dd0-d6c6-4725-9dbb-3618f00f0449\"}];\n",
       "            \n",
       "            Bokeh.embed.embed_items(docs_json, render_items);\n",
       "          };\n",
       "          if (document.readyState != \"loading\") fn();\n",
       "          else document.addEventListener(\"DOMContentLoaded\", fn);\n",
       "        })();\n",
       "      },\n",
       "      function(Bokeh) {\n",
       "      }\n",
       "    ];\n",
       "  \n",
       "    function run_inline_js() {\n",
       "      \n",
       "      if ((window.Bokeh !== undefined) || (force === true)) {\n",
       "        for (var i = 0; i < inline_js.length; i++) {\n",
       "          inline_js[i](window.Bokeh);\n",
       "        }if (force === true) {\n",
       "          display_loaded();\n",
       "        }} else if (Date.now() < window._bokeh_timeout) {\n",
       "        setTimeout(run_inline_js, 100);\n",
       "      } else if (!window._bokeh_failed_load) {\n",
       "        console.log(\"Bokeh: BokehJS failed to load within specified timeout.\");\n",
       "        window._bokeh_failed_load = true;\n",
       "      } else if (force !== true) {\n",
       "        var cell = $(document.getElementById(\"2aa2a682-499c-429f-b242-1dd96e8d3269\")).parents('.cell').data().cell;\n",
       "        cell.output_area.append_execute_result(NB_LOAD_WARNING)\n",
       "      }\n",
       "  \n",
       "    }\n",
       "  \n",
       "    if (window._bokeh_is_loading === 0) {\n",
       "      console.log(\"Bokeh: BokehJS loaded, going straight to plotting\");\n",
       "      run_inline_js();\n",
       "    } else {\n",
       "      load_libs(js_urls, function() {\n",
       "        console.log(\"Bokeh: BokehJS plotting callback run at\", now());\n",
       "        run_inline_js();\n",
       "      });\n",
       "    }\n",
       "  }(this));\n",
       "</script>"
      ]
     },
     "metadata": {},
     "output_type": "display_data"
    }
   ],
   "source": [
    "layout=(row(widgetbox(widgets),plot))\n",
    "show(layout)"
   ]
  },
  {
   "cell_type": "code",
   "execution_count": null,
   "metadata": {
    "collapsed": true
   },
   "outputs": [],
   "source": []
  },
  {
   "cell_type": "code",
   "execution_count": null,
   "metadata": {
    "collapsed": false
   },
   "outputs": [],
   "source": [
    "'''\n",
    "plot.vbar(\n",
    "    x=[scenarios], \n",
    "    width=0.5, \n",
    "    top=df[\"Retail price\"]+df[\"Social cost\"], \n",
    "    color = \"FireBrick\", \n",
    "    bottom = df[\"Retail price\"], \n",
    "    legend=\"Social cost\")\n",
    "plot.vbar(\n",
    "    x=[scenarios], \n",
    "    width=0.5, \n",
    "    top=df[\"Retail price\"]+df[\"Social cost\"]+df[\"Water cost\"], \n",
    "    color = \"SeaGreen\", \n",
    "    bottom = df[\"Retail price\"]+df[\"Social cost\"], \n",
    "    legend=\"Water cost\"\n",
    "    '''\n",
    "    "
   ]
  }
 ],
 "metadata": {
  "kernelspec": {
   "display_name": "Python 3",
   "language": "python",
   "name": "python3"
  },
  "language_info": {
   "codemirror_mode": {
    "name": "ipython",
    "version": 3
   },
   "file_extension": ".py",
   "mimetype": "text/x-python",
   "name": "python",
   "nbconvert_exporter": "python",
   "pygments_lexer": "ipython3",
   "version": "3.5.2"
  }
 },
 "nbformat": 4,
 "nbformat_minor": 2
}
