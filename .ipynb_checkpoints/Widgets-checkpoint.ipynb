{
 "cells": [
  {
   "cell_type": "code",
   "execution_count": 1,
   "metadata": {
    "collapsed": false,
    "deletable": true,
    "editable": true
   },
   "outputs": [],
   "source": [
    "import pandas as pd\n",
    "\n",
    "from bokeh.io import show, output_notebook\n",
    "from bokeh.layouts import widgetbox, row\n",
    "from bokeh.models.widgets import RadioGroup\n",
    "from bokeh.models import CustomJS ,ColumnDataSource\n",
    "from bokeh.plotting import figure"
   ]
  },
  {
   "cell_type": "code",
   "execution_count": 2,
   "metadata": {
    "collapsed": false,
    "deletable": true,
    "editable": true
   },
   "outputs": [
    {
     "data": {
      "text/html": [
       "<div>\n",
       "<table border=\"1\" class=\"dataframe\">\n",
       "  <thead>\n",
       "    <tr style=\"text-align: right;\">\n",
       "      <th></th>\n",
       "      <th>Scenario</th>\n",
       "      <th>Retail price</th>\n",
       "      <th>Social cost</th>\n",
       "      <th>Water cost</th>\n",
       "    </tr>\n",
       "  </thead>\n",
       "  <tbody>\n",
       "    <tr>\n",
       "      <th>0</th>\n",
       "      <td>Normal rose</td>\n",
       "      <td>10</td>\n",
       "      <td>3</td>\n",
       "      <td>5</td>\n",
       "    </tr>\n",
       "    <tr>\n",
       "      <th>1</th>\n",
       "      <td>Water saving rose</td>\n",
       "      <td>9</td>\n",
       "      <td>3</td>\n",
       "      <td>2</td>\n",
       "    </tr>\n",
       "    <tr>\n",
       "      <th>2</th>\n",
       "      <td>Living wage rose</td>\n",
       "      <td>11</td>\n",
       "      <td>1</td>\n",
       "      <td>5</td>\n",
       "    </tr>\n",
       "    <tr>\n",
       "      <th>3</th>\n",
       "      <td>Water saving &amp; living wage rose</td>\n",
       "      <td>10</td>\n",
       "      <td>1</td>\n",
       "      <td>2</td>\n",
       "    </tr>\n",
       "  </tbody>\n",
       "</table>\n",
       "</div>"
      ],
      "text/plain": [
       "                          Scenario  Retail price  Social cost  Water cost\n",
       "0                      Normal rose            10            3           5\n",
       "1                Water saving rose             9            3           2\n",
       "2                 Living wage rose            11            1           5\n",
       "3  Water saving & living wage rose            10            1           2"
      ]
     },
     "execution_count": 2,
     "metadata": {},
     "output_type": "execute_result"
    }
   ],
   "source": [
    "df = pd.read_excel('TPbars.xlsx')\n",
    "baseline=df.iloc[0:1,0:4]\n",
    "s1=df.iloc[1:2,0:4] # water saving\n",
    "s2=df.iloc[2:3,0:4] # lw\n",
    "s3=df.iloc[3:4,0:4] # water saving and lw\n",
    "\n",
    "s1[\"Scenario\"] = \"Improved rose\"\n",
    "s2[\"Scenario\"] = \"Improved rose\"\n",
    "s3[\"Scenario\"] = \"Improved rose\"\n",
    "df"
   ]
  },
  {
   "cell_type": "code",
   "execution_count": 3,
   "metadata": {
    "collapsed": false
   },
   "outputs": [
    {
     "data": {
      "text/plain": [
       "[      Scenario  Retail price  Social cost  Water cost\n",
       " 0  Normal rose            10            3           5,\n",
       "         Scenario  Retail price  Social cost  Water cost\n",
       " 1  Improved rose             9            3           2]"
      ]
     },
     "execution_count": 3,
     "metadata": {},
     "output_type": "execute_result"
    }
   ],
   "source": [
    "#plotframe=[baseline,s1]\n",
    "#plotframe"
   ]
  },
  {
   "cell_type": "code",
   "execution_count": 92,
   "metadata": {
    "collapsed": false
   },
   "outputs": [
    {
     "data": {
      "text/plain": [
       "{'Retail price': [10],\n",
       " 'Scenario': ['Improved rose'],\n",
       " 'Social cost': [1],\n",
       " 'Water cost': [2],\n",
       " 'index': [3]}"
      ]
     },
     "execution_count": 92,
     "metadata": {},
     "output_type": "execute_result"
    }
   ],
   "source": [
    "normal = ColumnDataSource(baseline)\n",
    "improved1 = ColumnDataSource(s1)\n",
    "improved2 = ColumnDataSource(s2)\n",
    "improved3 = ColumnDataSource(s3)"
   ]
  },
  {
   "cell_type": "markdown",
   "metadata": {
    "collapsed": false,
    "deletable": true,
    "editable": true
   },
   "source": [
    "\n",
    "scenarios"
   ]
  },
  {
   "cell_type": "markdown",
   "metadata": {
    "collapsed": false,
    "deletable": true,
    "editable": true
   },
   "source": [
    "retail=list(df[\"Retail price\"])\n",
    "retail"
   ]
  },
  {
   "cell_type": "code",
   "execution_count": null,
   "metadata": {
    "collapsed": false,
    "deletable": true,
    "editable": true
   },
   "outputs": [],
   "source": []
  },
  {
   "cell_type": "code",
   "execution_count": 62,
   "metadata": {
    "collapsed": false,
    "deletable": true,
    "editable": true
   },
   "outputs": [],
   "source": [
    "plot = figure(plot_width=600, plot_height=400, x_range=[\"Normal rose\",\"Improved rose\"], title=\"Price of a Kenyan rose\", tools=\"\", logo=\"grey\")\n",
    "bluenormal= plot.vbar(\n",
    "    x=\"Scenario\", \n",
    "    width=0.5, \n",
    "    top=\"Retail price\", \n",
    "    color=\"MidnightBlue\", \n",
    "    legend=\"Market price\",\n",
    "    visible=True,\n",
    "    source=normal\n",
    "    )\n",
    "blueimproved= plot.vbar(\n",
    "    x=\"Scenario\", \n",
    "    width=0.5, \n",
    "    top=\"Retail price\", \n",
    "    color=\"MidnightBlue\", \n",
    "    legend=\"Market price\",\n",
    "    visible=True,\n",
    "    source=improved1\n",
    "    )"
   ]
  },
  {
   "cell_type": "code",
   "execution_count": 177,
   "metadata": {
    "collapsed": false,
    "deletable": true,
    "editable": true
   },
   "outputs": [],
   "source": [
    "blueimproved.data_source = improved1\n"
   ]
  },
  {
   "cell_type": "code",
   "execution_count": 207,
   "metadata": {
    "collapsed": false,
    "deletable": true,
    "editable": true
   },
   "outputs": [],
   "source": [
    "callback = CustomJS(args=(dict(improved=blueimproved, s1=improved1, s2=improved2)), code=\"\"\"\n",
    "    \n",
    "    if (cb_obj.active == 0) {\n",
    "        improved.data_source = s1\n",
    "    } else if (cb_obj.active == 1) {\n",
    "        improved.data_source = s2\n",
    "    }\n",
    "    improved.trigger('change');\n",
    "    \"\"\")"
   ]
  },
  {
   "cell_type": "code",
   "execution_count": 208,
   "metadata": {
    "collapsed": false,
    "deletable": true,
    "editable": true
   },
   "outputs": [],
   "source": [
    "widgets = RadioGroup(\n",
    "    labels=[\"Water saving\", \"Living wage\",\"Water saving + Living wage\"], \n",
    "    active=0, \n",
    "    callback=callback\n",
    ")"
   ]
  },
  {
   "cell_type": "code",
   "execution_count": 209,
   "metadata": {
    "collapsed": false,
    "deletable": true,
    "editable": true,
    "scrolled": true
   },
   "outputs": [
    {
     "data": {
      "text/html": [
       "\n",
       "    <div class=\"bk-root\">\n",
       "        <a href=\"http://bokeh.pydata.org\" target=\"_blank\" class=\"bk-logo bk-logo-small bk-logo-notebook\"></a>\n",
       "        <span id=\"96b284fa-959c-4d23-884b-ea23d309f84f\">Loading BokehJS ...</span>\n",
       "    </div>"
      ]
     },
     "metadata": {},
     "output_type": "display_data"
    },
    {
     "data": {
      "application/javascript": [
       "\n",
       "(function(global) {\n",
       "  function now() {\n",
       "    return new Date();\n",
       "  }\n",
       "\n",
       "  var force = true;\n",
       "\n",
       "  if (typeof (window._bokeh_onload_callbacks) === \"undefined\" || force === true) {\n",
       "    window._bokeh_onload_callbacks = [];\n",
       "    window._bokeh_is_loading = undefined;\n",
       "  }\n",
       "\n",
       "\n",
       "  \n",
       "  if (typeof (window._bokeh_timeout) === \"undefined\" || force === true) {\n",
       "    window._bokeh_timeout = Date.now() + 5000;\n",
       "    window._bokeh_failed_load = false;\n",
       "  }\n",
       "\n",
       "  var NB_LOAD_WARNING = {'data': {'text/html':\n",
       "     \"<div style='background-color: #fdd'>\\n\"+\n",
       "     \"<p>\\n\"+\n",
       "     \"BokehJS does not appear to have successfully loaded. If loading BokehJS from CDN, this \\n\"+\n",
       "     \"may be due to a slow or bad network connection. Possible fixes:\\n\"+\n",
       "     \"</p>\\n\"+\n",
       "     \"<ul>\\n\"+\n",
       "     \"<li>re-rerun `output_notebook()` to attempt to load from CDN again, or</li>\\n\"+\n",
       "     \"<li>use INLINE resources instead, as so:</li>\\n\"+\n",
       "     \"</ul>\\n\"+\n",
       "     \"<code>\\n\"+\n",
       "     \"from bokeh.resources import INLINE\\n\"+\n",
       "     \"output_notebook(resources=INLINE)\\n\"+\n",
       "     \"</code>\\n\"+\n",
       "     \"</div>\"}};\n",
       "\n",
       "  function display_loaded() {\n",
       "    if (window.Bokeh !== undefined) {\n",
       "      document.getElementById(\"96b284fa-959c-4d23-884b-ea23d309f84f\").textContent = \"BokehJS successfully loaded.\";\n",
       "    } else if (Date.now() < window._bokeh_timeout) {\n",
       "      setTimeout(display_loaded, 100)\n",
       "    }\n",
       "  }\n",
       "\n",
       "  function run_callbacks() {\n",
       "    window._bokeh_onload_callbacks.forEach(function(callback) { callback() });\n",
       "    delete window._bokeh_onload_callbacks\n",
       "    console.info(\"Bokeh: all callbacks have finished\");\n",
       "  }\n",
       "\n",
       "  function load_libs(js_urls, callback) {\n",
       "    window._bokeh_onload_callbacks.push(callback);\n",
       "    if (window._bokeh_is_loading > 0) {\n",
       "      console.log(\"Bokeh: BokehJS is being loaded, scheduling callback at\", now());\n",
       "      return null;\n",
       "    }\n",
       "    if (js_urls == null || js_urls.length === 0) {\n",
       "      run_callbacks();\n",
       "      return null;\n",
       "    }\n",
       "    console.log(\"Bokeh: BokehJS not loaded, scheduling load and callback at\", now());\n",
       "    window._bokeh_is_loading = js_urls.length;\n",
       "    for (var i = 0; i < js_urls.length; i++) {\n",
       "      var url = js_urls[i];\n",
       "      var s = document.createElement('script');\n",
       "      s.src = url;\n",
       "      s.async = false;\n",
       "      s.onreadystatechange = s.onload = function() {\n",
       "        window._bokeh_is_loading--;\n",
       "        if (window._bokeh_is_loading === 0) {\n",
       "          console.log(\"Bokeh: all BokehJS libraries loaded\");\n",
       "          run_callbacks()\n",
       "        }\n",
       "      };\n",
       "      s.onerror = function() {\n",
       "        console.warn(\"failed to load library \" + url);\n",
       "      };\n",
       "      console.log(\"Bokeh: injecting script tag for BokehJS library: \", url);\n",
       "      document.getElementsByTagName(\"head\")[0].appendChild(s);\n",
       "    }\n",
       "  };var element = document.getElementById(\"96b284fa-959c-4d23-884b-ea23d309f84f\");\n",
       "  if (element == null) {\n",
       "    console.log(\"Bokeh: ERROR: autoload.js configured with elementid '96b284fa-959c-4d23-884b-ea23d309f84f' but no matching script tag was found. \")\n",
       "    return false;\n",
       "  }\n",
       "\n",
       "  var js_urls = [\"https://cdn.pydata.org/bokeh/release/bokeh-0.12.4.min.js\", \"https://cdn.pydata.org/bokeh/release/bokeh-widgets-0.12.4.min.js\"];\n",
       "\n",
       "  var inline_js = [\n",
       "    function(Bokeh) {\n",
       "      Bokeh.set_log_level(\"info\");\n",
       "    },\n",
       "    \n",
       "    function(Bokeh) {\n",
       "      \n",
       "      document.getElementById(\"96b284fa-959c-4d23-884b-ea23d309f84f\").textContent = \"BokehJS is loading...\";\n",
       "    },\n",
       "    function(Bokeh) {\n",
       "      console.log(\"Bokeh: injecting CSS: https://cdn.pydata.org/bokeh/release/bokeh-0.12.4.min.css\");\n",
       "      Bokeh.embed.inject_css(\"https://cdn.pydata.org/bokeh/release/bokeh-0.12.4.min.css\");\n",
       "      console.log(\"Bokeh: injecting CSS: https://cdn.pydata.org/bokeh/release/bokeh-widgets-0.12.4.min.css\");\n",
       "      Bokeh.embed.inject_css(\"https://cdn.pydata.org/bokeh/release/bokeh-widgets-0.12.4.min.css\");\n",
       "    }\n",
       "  ];\n",
       "\n",
       "  function run_inline_js() {\n",
       "    \n",
       "    if ((window.Bokeh !== undefined) || (force === true)) {\n",
       "      for (var i = 0; i < inline_js.length; i++) {\n",
       "        inline_js[i](window.Bokeh);\n",
       "      }if (force === true) {\n",
       "        display_loaded();\n",
       "      }} else if (Date.now() < window._bokeh_timeout) {\n",
       "      setTimeout(run_inline_js, 100);\n",
       "    } else if (!window._bokeh_failed_load) {\n",
       "      console.log(\"Bokeh: BokehJS failed to load within specified timeout.\");\n",
       "      window._bokeh_failed_load = true;\n",
       "    } else if (force !== true) {\n",
       "      var cell = $(document.getElementById(\"96b284fa-959c-4d23-884b-ea23d309f84f\")).parents('.cell').data().cell;\n",
       "      cell.output_area.append_execute_result(NB_LOAD_WARNING)\n",
       "    }\n",
       "\n",
       "  }\n",
       "\n",
       "  if (window._bokeh_is_loading === 0) {\n",
       "    console.log(\"Bokeh: BokehJS loaded, going straight to plotting\");\n",
       "    run_inline_js();\n",
       "  } else {\n",
       "    load_libs(js_urls, function() {\n",
       "      console.log(\"Bokeh: BokehJS plotting callback run at\", now());\n",
       "      run_inline_js();\n",
       "    });\n",
       "  }\n",
       "}(this));"
      ]
     },
     "metadata": {},
     "output_type": "display_data"
    }
   ],
   "source": [
    "output_notebook()"
   ]
  },
  {
   "cell_type": "code",
   "execution_count": 210,
   "metadata": {
    "collapsed": false,
    "deletable": true,
    "editable": true
   },
   "outputs": [
    {
     "data": {
      "text/html": [
       "\n",
       "\n",
       "    <div class=\"bk-root\">\n",
       "        <div class=\"bk-plotdiv\" id=\"867680d9-85cd-49f9-8ab8-1d353746c98f\"></div>\n",
       "    </div>\n",
       "<script type=\"text/javascript\">\n",
       "  \n",
       "  (function(global) {\n",
       "    function now() {\n",
       "      return new Date();\n",
       "    }\n",
       "  \n",
       "    var force = false;\n",
       "  \n",
       "    if (typeof (window._bokeh_onload_callbacks) === \"undefined\" || force === true) {\n",
       "      window._bokeh_onload_callbacks = [];\n",
       "      window._bokeh_is_loading = undefined;\n",
       "    }\n",
       "  \n",
       "  \n",
       "    \n",
       "    if (typeof (window._bokeh_timeout) === \"undefined\" || force === true) {\n",
       "      window._bokeh_timeout = Date.now() + 0;\n",
       "      window._bokeh_failed_load = false;\n",
       "    }\n",
       "  \n",
       "    var NB_LOAD_WARNING = {'data': {'text/html':\n",
       "       \"<div style='background-color: #fdd'>\\n\"+\n",
       "       \"<p>\\n\"+\n",
       "       \"BokehJS does not appear to have successfully loaded. If loading BokehJS from CDN, this \\n\"+\n",
       "       \"may be due to a slow or bad network connection. Possible fixes:\\n\"+\n",
       "       \"</p>\\n\"+\n",
       "       \"<ul>\\n\"+\n",
       "       \"<li>re-rerun `output_notebook()` to attempt to load from CDN again, or</li>\\n\"+\n",
       "       \"<li>use INLINE resources instead, as so:</li>\\n\"+\n",
       "       \"</ul>\\n\"+\n",
       "       \"<code>\\n\"+\n",
       "       \"from bokeh.resources import INLINE\\n\"+\n",
       "       \"output_notebook(resources=INLINE)\\n\"+\n",
       "       \"</code>\\n\"+\n",
       "       \"</div>\"}};\n",
       "  \n",
       "    function display_loaded() {\n",
       "      if (window.Bokeh !== undefined) {\n",
       "        document.getElementById(\"867680d9-85cd-49f9-8ab8-1d353746c98f\").textContent = \"BokehJS successfully loaded.\";\n",
       "      } else if (Date.now() < window._bokeh_timeout) {\n",
       "        setTimeout(display_loaded, 100)\n",
       "      }\n",
       "    }\n",
       "  \n",
       "    function run_callbacks() {\n",
       "      window._bokeh_onload_callbacks.forEach(function(callback) { callback() });\n",
       "      delete window._bokeh_onload_callbacks\n",
       "      console.info(\"Bokeh: all callbacks have finished\");\n",
       "    }\n",
       "  \n",
       "    function load_libs(js_urls, callback) {\n",
       "      window._bokeh_onload_callbacks.push(callback);\n",
       "      if (window._bokeh_is_loading > 0) {\n",
       "        console.log(\"Bokeh: BokehJS is being loaded, scheduling callback at\", now());\n",
       "        return null;\n",
       "      }\n",
       "      if (js_urls == null || js_urls.length === 0) {\n",
       "        run_callbacks();\n",
       "        return null;\n",
       "      }\n",
       "      console.log(\"Bokeh: BokehJS not loaded, scheduling load and callback at\", now());\n",
       "      window._bokeh_is_loading = js_urls.length;\n",
       "      for (var i = 0; i < js_urls.length; i++) {\n",
       "        var url = js_urls[i];\n",
       "        var s = document.createElement('script');\n",
       "        s.src = url;\n",
       "        s.async = false;\n",
       "        s.onreadystatechange = s.onload = function() {\n",
       "          window._bokeh_is_loading--;\n",
       "          if (window._bokeh_is_loading === 0) {\n",
       "            console.log(\"Bokeh: all BokehJS libraries loaded\");\n",
       "            run_callbacks()\n",
       "          }\n",
       "        };\n",
       "        s.onerror = function() {\n",
       "          console.warn(\"failed to load library \" + url);\n",
       "        };\n",
       "        console.log(\"Bokeh: injecting script tag for BokehJS library: \", url);\n",
       "        document.getElementsByTagName(\"head\")[0].appendChild(s);\n",
       "      }\n",
       "    };var element = document.getElementById(\"867680d9-85cd-49f9-8ab8-1d353746c98f\");\n",
       "    if (element == null) {\n",
       "      console.log(\"Bokeh: ERROR: autoload.js configured with elementid '867680d9-85cd-49f9-8ab8-1d353746c98f' but no matching script tag was found. \")\n",
       "      return false;\n",
       "    }\n",
       "  \n",
       "    var js_urls = [];\n",
       "  \n",
       "    var inline_js = [\n",
       "      function(Bokeh) {\n",
       "        (function() {\n",
       "          var fn = function() {\n",
       "            var docs_json = {\"5c022c9f-c1fc-4ef9-a4ba-c36d6daec400\":{\"roots\":{\"references\":[{\"attributes\":{\"dimension\":1,\"plot\":{\"id\":\"beac68d6-9e44-4292-aebc-6800688fd6bf\",\"subtype\":\"Figure\",\"type\":\"Plot\"},\"ticker\":{\"id\":\"8c6c642b-d044-4a47-bbb4-ec30a76404b1\",\"type\":\"BasicTicker\"}},\"id\":\"d6a357ec-797d-49b0-bb6f-5f72b84d2f52\",\"type\":\"Grid\"},{\"attributes\":{\"label\":{\"value\":\"Market price\"},\"renderers\":[{\"id\":\"302e283b-0cf1-4047-9d71-f72d5d2ffa6b\",\"type\":\"GlyphRenderer\"},{\"id\":\"ff3bd4ed-eca1-4c71-a0ad-c39ff25a1cdd\",\"type\":\"GlyphRenderer\"}]},\"id\":\"77bf1b72-5090-47e5-a6ae-2f8645eeb37d\",\"type\":\"LegendItem\"},{\"attributes\":{\"plot\":null,\"text\":\"Price of a Kenyan rose\"},\"id\":\"25d13460-11a6-45b5-bdd8-1b940d6160b5\",\"type\":\"Title\"},{\"attributes\":{\"children\":[{\"id\":\"09028c95-2cfc-487e-90c5-0f8164f9e580\",\"type\":\"RadioGroup\"}]},\"id\":\"c697f548-f9e5-4fb8-a61c-c794b1598227\",\"type\":\"WidgetBox\"},{\"attributes\":{\"fill_color\":{\"value\":\"MidnightBlue\"},\"line_color\":{\"value\":\"MidnightBlue\"},\"top\":{\"field\":\"Retail price\"},\"width\":{\"value\":0.5},\"x\":{\"field\":\"Scenario\"}},\"id\":\"73a0dc1a-53ab-4af7-a5fc-8a2e20d45d8d\",\"type\":\"VBar\"},{\"attributes\":{\"below\":[{\"id\":\"188372c9-8d05-4436-916a-961c0d9e9750\",\"type\":\"CategoricalAxis\"}],\"left\":[{\"id\":\"78c5b56c-bc50-47ab-be62-b09f7dfd996d\",\"type\":\"LinearAxis\"}],\"plot_height\":400,\"renderers\":[{\"id\":\"188372c9-8d05-4436-916a-961c0d9e9750\",\"type\":\"CategoricalAxis\"},{\"id\":\"1c91986d-3498-4ece-9b40-0a8123e1bc68\",\"type\":\"Grid\"},{\"id\":\"78c5b56c-bc50-47ab-be62-b09f7dfd996d\",\"type\":\"LinearAxis\"},{\"id\":\"d6a357ec-797d-49b0-bb6f-5f72b84d2f52\",\"type\":\"Grid\"},{\"id\":\"9db52ce4-f4d8-44e9-901c-32790337ad33\",\"type\":\"Legend\"},{\"id\":\"302e283b-0cf1-4047-9d71-f72d5d2ffa6b\",\"type\":\"GlyphRenderer\"},{\"id\":\"ff3bd4ed-eca1-4c71-a0ad-c39ff25a1cdd\",\"type\":\"GlyphRenderer\"}],\"title\":{\"id\":\"25d13460-11a6-45b5-bdd8-1b940d6160b5\",\"type\":\"Title\"},\"tool_events\":{\"id\":\"1d39336a-5643-4007-962f-aad0e57f8bcb\",\"type\":\"ToolEvents\"},\"toolbar\":{\"id\":\"18cd295b-8a13-4428-811a-f71823a77ee3\",\"type\":\"Toolbar\"},\"x_range\":{\"id\":\"f5cdef8b-b5c2-4d5c-b2a1-202c187c5373\",\"type\":\"FactorRange\"},\"y_range\":{\"id\":\"864785d9-fea0-4824-a90d-8acca5efde41\",\"type\":\"DataRange1d\"}},\"id\":\"beac68d6-9e44-4292-aebc-6800688fd6bf\",\"subtype\":\"Figure\",\"type\":\"Plot\"},{\"attributes\":{\"callback\":null,\"column_names\":[\"index\",\"Scenario\",\"Social cost\",\"Retail price\",\"Water cost\"],\"data\":{\"Retail price\":[10],\"Scenario\":[\"Normal rose\"],\"Social cost\":[3],\"Water cost\":[5],\"index\":[0]}},\"id\":\"30361397-f5f5-488b-ab62-865364267c36\",\"type\":\"ColumnDataSource\"},{\"attributes\":{\"children\":[{\"id\":\"c697f548-f9e5-4fb8-a61c-c794b1598227\",\"type\":\"WidgetBox\"},{\"id\":\"beac68d6-9e44-4292-aebc-6800688fd6bf\",\"subtype\":\"Figure\",\"type\":\"Plot\"}]},\"id\":\"ea524afc-451a-4739-b888-106a24e14ac6\",\"type\":\"Row\"},{\"attributes\":{\"active\":0,\"callback\":{\"id\":\"91b15754-c776-4867-b10e-a315ca10d9b6\",\"type\":\"CustomJS\"},\"labels\":[\"Water saving\",\"Living wage\",\"Water saving + Living wage\"]},\"id\":\"09028c95-2cfc-487e-90c5-0f8164f9e580\",\"type\":\"RadioGroup\"},{\"attributes\":{\"callback\":null,\"factors\":[\"Normal rose\",\"Improved rose\"]},\"id\":\"f5cdef8b-b5c2-4d5c-b2a1-202c187c5373\",\"type\":\"FactorRange\"},{\"attributes\":{},\"id\":\"dfdf7230-b8af-4d13-93c7-d4576a75d9e9\",\"type\":\"CategoricalTickFormatter\"},{\"attributes\":{\"formatter\":{\"id\":\"dfdf7230-b8af-4d13-93c7-d4576a75d9e9\",\"type\":\"CategoricalTickFormatter\"},\"plot\":{\"id\":\"beac68d6-9e44-4292-aebc-6800688fd6bf\",\"subtype\":\"Figure\",\"type\":\"Plot\"},\"ticker\":{\"id\":\"2a330622-5ec7-482c-9865-eea2d9c3d0b2\",\"type\":\"CategoricalTicker\"}},\"id\":\"188372c9-8d05-4436-916a-961c0d9e9750\",\"type\":\"CategoricalAxis\"},{\"attributes\":{\"fill_color\":{\"value\":\"MidnightBlue\"},\"line_color\":{\"value\":\"MidnightBlue\"},\"top\":{\"field\":\"Retail price\"},\"width\":{\"value\":0.5},\"x\":{\"field\":\"Scenario\"}},\"id\":\"566ea5e6-6c0a-4e37-a594-856cfabebfa1\",\"type\":\"VBar\"},{\"attributes\":{\"active_drag\":\"auto\",\"active_scroll\":\"auto\",\"active_tap\":\"auto\",\"logo\":\"grey\"},\"id\":\"18cd295b-8a13-4428-811a-f71823a77ee3\",\"type\":\"Toolbar\"},{\"attributes\":{\"callback\":null,\"column_names\":[\"index\",\"Scenario\",\"Social cost\",\"Retail price\",\"Water cost\"],\"data\":{\"Retail price\":[11],\"Scenario\":[\"Improved rose\"],\"Social cost\":[1],\"Water cost\":[5],\"index\":[2]}},\"id\":\"73d9fbd9-6326-447e-9196-73139babbe13\",\"type\":\"ColumnDataSource\"},{\"attributes\":{\"callback\":null},\"id\":\"864785d9-fea0-4824-a90d-8acca5efde41\",\"type\":\"DataRange1d\"},{\"attributes\":{\"callback\":null,\"column_names\":[\"index\",\"Scenario\",\"Social cost\",\"Retail price\",\"Water cost\"],\"data\":{\"Retail price\":[9],\"Scenario\":[\"Improved rose\"],\"Social cost\":[3],\"Water cost\":[2],\"index\":[1]}},\"id\":\"72203806-ce7e-4c75-9af5-88bd18791b07\",\"type\":\"ColumnDataSource\"},{\"attributes\":{},\"id\":\"2a330622-5ec7-482c-9865-eea2d9c3d0b2\",\"type\":\"CategoricalTicker\"},{\"attributes\":{\"data_source\":{\"id\":\"30361397-f5f5-488b-ab62-865364267c36\",\"type\":\"ColumnDataSource\"},\"glyph\":{\"id\":\"73a0dc1a-53ab-4af7-a5fc-8a2e20d45d8d\",\"type\":\"VBar\"},\"hover_glyph\":null,\"nonselection_glyph\":{\"id\":\"18727819-8c3c-4ad5-b48e-c034dcf285fc\",\"type\":\"VBar\"},\"selection_glyph\":null},\"id\":\"302e283b-0cf1-4047-9d71-f72d5d2ffa6b\",\"type\":\"GlyphRenderer\"},{\"attributes\":{},\"id\":\"9a7914e4-3be2-48fa-aead-2040ef24cd09\",\"type\":\"BasicTickFormatter\"},{\"attributes\":{\"plot\":{\"id\":\"beac68d6-9e44-4292-aebc-6800688fd6bf\",\"subtype\":\"Figure\",\"type\":\"Plot\"},\"ticker\":{\"id\":\"2a330622-5ec7-482c-9865-eea2d9c3d0b2\",\"type\":\"CategoricalTicker\"}},\"id\":\"1c91986d-3498-4ece-9b40-0a8123e1bc68\",\"type\":\"Grid\"},{\"attributes\":{\"fill_alpha\":{\"value\":0.1},\"fill_color\":{\"value\":\"#1f77b4\"},\"line_alpha\":{\"value\":0.1},\"line_color\":{\"value\":\"#1f77b4\"},\"top\":{\"field\":\"Retail price\"},\"width\":{\"value\":0.5},\"x\":{\"field\":\"Scenario\"}},\"id\":\"18727819-8c3c-4ad5-b48e-c034dcf285fc\",\"type\":\"VBar\"},{\"attributes\":{},\"id\":\"8c6c642b-d044-4a47-bbb4-ec30a76404b1\",\"type\":\"BasicTicker\"},{\"attributes\":{\"formatter\":{\"id\":\"9a7914e4-3be2-48fa-aead-2040ef24cd09\",\"type\":\"BasicTickFormatter\"},\"plot\":{\"id\":\"beac68d6-9e44-4292-aebc-6800688fd6bf\",\"subtype\":\"Figure\",\"type\":\"Plot\"},\"ticker\":{\"id\":\"8c6c642b-d044-4a47-bbb4-ec30a76404b1\",\"type\":\"BasicTicker\"}},\"id\":\"78c5b56c-bc50-47ab-be62-b09f7dfd996d\",\"type\":\"LinearAxis\"},{\"attributes\":{\"fill_alpha\":{\"value\":0.1},\"fill_color\":{\"value\":\"#1f77b4\"},\"line_alpha\":{\"value\":0.1},\"line_color\":{\"value\":\"#1f77b4\"},\"top\":{\"field\":\"Retail price\"},\"width\":{\"value\":0.5},\"x\":{\"field\":\"Scenario\"}},\"id\":\"0ffabab4-0769-4beb-a609-e4cb903443ec\",\"type\":\"VBar\"},{\"attributes\":{\"data_source\":{\"id\":\"72203806-ce7e-4c75-9af5-88bd18791b07\",\"type\":\"ColumnDataSource\"},\"glyph\":{\"id\":\"566ea5e6-6c0a-4e37-a594-856cfabebfa1\",\"type\":\"VBar\"},\"hover_glyph\":null,\"nonselection_glyph\":{\"id\":\"0ffabab4-0769-4beb-a609-e4cb903443ec\",\"type\":\"VBar\"},\"selection_glyph\":null},\"id\":\"ff3bd4ed-eca1-4c71-a0ad-c39ff25a1cdd\",\"type\":\"GlyphRenderer\"},{\"attributes\":{\"args\":{\"improved\":{\"id\":\"ff3bd4ed-eca1-4c71-a0ad-c39ff25a1cdd\",\"type\":\"GlyphRenderer\"},\"s1\":{\"id\":\"72203806-ce7e-4c75-9af5-88bd18791b07\",\"type\":\"ColumnDataSource\"},\"s2\":{\"id\":\"73d9fbd9-6326-447e-9196-73139babbe13\",\"type\":\"ColumnDataSource\"}},\"code\":\"\\n    \\n    if (cb_obj.active == 0) {\\n        improved.data_source = s1\\n    } else if (cb_obj.active == 1) {\\n        improved.data_source = s2\\n    }\\n    improved.trigger('change');\\n    \"},\"id\":\"91b15754-c776-4867-b10e-a315ca10d9b6\",\"type\":\"CustomJS\"},{\"attributes\":{},\"id\":\"1d39336a-5643-4007-962f-aad0e57f8bcb\",\"type\":\"ToolEvents\"},{\"attributes\":{\"items\":[{\"id\":\"77bf1b72-5090-47e5-a6ae-2f8645eeb37d\",\"type\":\"LegendItem\"}],\"plot\":{\"id\":\"beac68d6-9e44-4292-aebc-6800688fd6bf\",\"subtype\":\"Figure\",\"type\":\"Plot\"}},\"id\":\"9db52ce4-f4d8-44e9-901c-32790337ad33\",\"type\":\"Legend\"}],\"root_ids\":[\"ea524afc-451a-4739-b888-106a24e14ac6\"]},\"title\":\"Bokeh Application\",\"version\":\"0.12.4\"}};\n",
       "            var render_items = [{\"docid\":\"5c022c9f-c1fc-4ef9-a4ba-c36d6daec400\",\"elementid\":\"867680d9-85cd-49f9-8ab8-1d353746c98f\",\"modelid\":\"ea524afc-451a-4739-b888-106a24e14ac6\"}];\n",
       "            \n",
       "            Bokeh.embed.embed_items(docs_json, render_items);\n",
       "          };\n",
       "          if (document.readyState != \"loading\") fn();\n",
       "          else document.addEventListener(\"DOMContentLoaded\", fn);\n",
       "        })();\n",
       "      },\n",
       "      function(Bokeh) {\n",
       "      }\n",
       "    ];\n",
       "  \n",
       "    function run_inline_js() {\n",
       "      \n",
       "      if ((window.Bokeh !== undefined) || (force === true)) {\n",
       "        for (var i = 0; i < inline_js.length; i++) {\n",
       "          inline_js[i](window.Bokeh);\n",
       "        }if (force === true) {\n",
       "          display_loaded();\n",
       "        }} else if (Date.now() < window._bokeh_timeout) {\n",
       "        setTimeout(run_inline_js, 100);\n",
       "      } else if (!window._bokeh_failed_load) {\n",
       "        console.log(\"Bokeh: BokehJS failed to load within specified timeout.\");\n",
       "        window._bokeh_failed_load = true;\n",
       "      } else if (force !== true) {\n",
       "        var cell = $(document.getElementById(\"867680d9-85cd-49f9-8ab8-1d353746c98f\")).parents('.cell').data().cell;\n",
       "        cell.output_area.append_execute_result(NB_LOAD_WARNING)\n",
       "      }\n",
       "  \n",
       "    }\n",
       "  \n",
       "    if (window._bokeh_is_loading === 0) {\n",
       "      console.log(\"Bokeh: BokehJS loaded, going straight to plotting\");\n",
       "      run_inline_js();\n",
       "    } else {\n",
       "      load_libs(js_urls, function() {\n",
       "        console.log(\"Bokeh: BokehJS plotting callback run at\", now());\n",
       "        run_inline_js();\n",
       "      });\n",
       "    }\n",
       "  }(this));\n",
       "</script>"
      ]
     },
     "metadata": {},
     "output_type": "display_data"
    }
   ],
   "source": [
    "layout=(row(widgetbox(widgets),plot))\n",
    "show(layout)"
   ]
  },
  {
   "cell_type": "code",
   "execution_count": null,
   "metadata": {
    "collapsed": true,
    "deletable": true,
    "editable": true
   },
   "outputs": [],
   "source": []
  },
  {
   "cell_type": "code",
   "execution_count": 138,
   "metadata": {
    "collapsed": false,
    "deletable": true,
    "editable": true
   },
   "outputs": [
    {
     "data": {
      "text/plain": [
       "'\\nplot.vbar(\\n    x=[scenarios], \\n    width=0.5, \\n    top=df[\"Retail price\"]+df[\"Social cost\"], \\n    color = \"FireBrick\", \\n    bottom = df[\"Retail price\"], \\n    legend=\"Social cost\")\\nplot.vbar(\\n    x=[scenarios], \\n    width=0.5, \\n    top=df[\"Retail price\"]+df[\"Social cost\"]+df[\"Water cost\"], \\n    color = \"SeaGreen\", \\n    bottom = df[\"Retail price\"]+df[\"Social cost\"], \\n    legend=\"Water cost\"\\n    '"
      ]
     },
     "execution_count": 138,
     "metadata": {},
     "output_type": "execute_result"
    }
   ],
   "source": [
    "'''\n",
    "plot.vbar(\n",
    "    x=[scenarios], \n",
    "    width=0.5, \n",
    "    top=df[\"Retail price\"]+df[\"Social cost\"], \n",
    "    color = \"FireBrick\", \n",
    "    bottom = df[\"Retail price\"], \n",
    "    legend=\"Social cost\")\n",
    "plot.vbar(\n",
    "    x=[scenarios], \n",
    "    width=0.5, \n",
    "    top=df[\"Retail price\"]+df[\"Social cost\"]+df[\"Water cost\"], \n",
    "    color = \"SeaGreen\", \n",
    "    bottom = df[\"Retail price\"]+df[\"Social cost\"], \n",
    "    legend=\"Water cost\"\n",
    "    '''"
   ]
  },
  {
   "cell_type": "code",
   "execution_count": null,
   "metadata": {
    "collapsed": true,
    "deletable": true,
    "editable": true
   },
   "outputs": [],
   "source": []
  },
  {
   "cell_type": "code",
   "execution_count": null,
   "metadata": {
    "collapsed": true,
    "deletable": true,
    "editable": true
   },
   "outputs": [],
   "source": []
  },
  {
   "cell_type": "code",
   "execution_count": null,
   "metadata": {
    "collapsed": true,
    "deletable": true,
    "editable": true
   },
   "outputs": [],
   "source": []
  },
  {
   "cell_type": "code",
   "execution_count": null,
   "metadata": {
    "collapsed": true,
    "deletable": true,
    "editable": true
   },
   "outputs": [],
   "source": []
  },
  {
   "cell_type": "code",
   "execution_count": null,
   "metadata": {
    "collapsed": true,
    "deletable": true,
    "editable": true
   },
   "outputs": [],
   "source": []
  },
  {
   "cell_type": "code",
   "execution_count": null,
   "metadata": {
    "collapsed": true,
    "deletable": true,
    "editable": true
   },
   "outputs": [],
   "source": []
  },
  {
   "cell_type": "code",
   "execution_count": null,
   "metadata": {
    "collapsed": true,
    "deletable": true,
    "editable": true
   },
   "outputs": [],
   "source": []
  }
 ],
 "metadata": {
  "kernelspec": {
   "display_name": "Python 3",
   "language": "python",
   "name": "python3"
  },
  "language_info": {
   "codemirror_mode": {
    "name": "ipython",
    "version": 3
   },
   "file_extension": ".py",
   "mimetype": "text/x-python",
   "name": "python",
   "nbconvert_exporter": "python",
   "pygments_lexer": "ipython3",
   "version": "3.5.2"
  }
 },
 "nbformat": 4,
 "nbformat_minor": 0
}
